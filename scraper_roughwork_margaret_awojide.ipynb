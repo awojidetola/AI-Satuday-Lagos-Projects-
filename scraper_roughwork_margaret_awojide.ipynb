{
 "cells": [
  {
   "cell_type": "code",
   "execution_count": 36,
   "metadata": {},
   "outputs": [],
   "source": [
    "import argparse\n",
    "import csv\n",
    "import itertools\n",
    "import logging\n",
    "import time\n",
    "\n",
    "import requests\n",
    "import yaml\n",
    "from bs4 import BeautifulSoup\n",
    "from yaml.loader import FullLoader\n",
    "logging.root.setLevel(logging.INFO)"
   ]
  },
  {
   "cell_type": "code",
   "execution_count": 37,
   "metadata": {},
   "outputs": [
    {
     "data": {
      "text/plain": [
       "{'HOME': 'https://www.bbc.com/pidgin',\n",
       " 'MOST_POPULAR': 'https://www.bbc.com/pidgin/popular/read',\n",
       " 'ENTERTAINMENT': 'https://www.bbc.com/pidgin/topics/cqywjyzk2vyt',\n",
       " 'SPORT': 'https://www.bbc.com/pidgin/topics/cjgn7gv77vrt',\n",
       " 'WORLD': 'https://www.bbc.com/pidgin/topics/c0823e52dd0t',\n",
       " 'AFRICA': 'https://www.bbc.com/pidgin/topics/c404v061z85t',\n",
       " 'NIGERIA': 'https://www.bbc.com/pidgin/topics/c2dwqd1zr92t'}"
      ]
     },
     "execution_count": 37,
     "metadata": {},
     "output_type": "execute_result"
    }
   ],
   "source": [
    "# TODO: Load `env.yml` using yaml into an `ENV` variable\n",
    "with open ('env.yml') as f:\n",
    "    ENV= yaml.load(f, Loader=yaml.FullLoader)\n",
    "ALL_CATEGORIES = ENV[\"CATEGORIES\"] \n",
    "# TODO: In `env.yml`, add the other categories and their URLS\n",
    "#Take Video OUt\n",
    "ALL_CATEGORIES"
   ]
  },
  {
   "cell_type": "code",
   "execution_count": 38,
   "metadata": {},
   "outputs": [],
   "source": [
    "def get_parser() -> argparse.ArgumentParser:\n",
    "    \"\"\"\n",
    "    parse command line arguments\n",
    "\n",
    "    returns:\n",
    "        parser - ArgumentParser object\n",
    "    \"\"\"\n",
    "    parser = argparse.ArgumentParser(description=\"BBC Pidgin Scraper\")\n",
    "    parser.add_argument(\n",
    "        \"--output_file_name\",\n",
    "        type=str,\n",
    "        default=\"bbc_pidgin_corpus.csv\",\n",
    "        help=\"Name of output file\"\n",
    "    )\n",
    "    \n",
    "    parser.add_argument(\n",
    "    \"--no_of_articles\",\n",
    "    type=int,\n",
    "    default=100,\n",
    "    help=\"No of Articles\")\n",
    "    \n",
    "    parser.add_argument(\n",
    "    \"categories\",\n",
    "    type=str,\n",
    "    default=all,\n",
    "    help='Categories of News to be Scraped')\n",
    "    \n",
    "    parser.add_argument(\n",
    "    \"--time_delay\",\n",
    "    type=bool,\n",
    "    default=False,\n",
    "    help=\"Time Delay\")\n",
    "    \n",
    "    # TODO: Add your other command line arguments!\n",
    "    #   Be sure to include their types & any default values.\n",
    "\n",
    "    return parser"
   ]
  },
  {
   "cell_type": "code",
   "execution_count": 39,
   "metadata": {},
   "outputs": [],
   "source": [
    "def get_page_soup(url: str):\n",
    "    \n",
    "    \"\"\"\n",
    "    Makes a request to a url and creates a beautiful soup object from the response html\n",
    "\n",
    "    input:\n",
    "        :param url: input page url\n",
    "    returns:\n",
    "        - page_soup: beautiful soup object from the response html\n",
    "    \"\"\"\n",
    "\n",
    "    response = requests.get(url)\n",
    "    page_html=response.text\n",
    "    category_page=BeautifulSoup(page_html, \"html.parser\")\n",
    "    \n",
    "    # TODO: Complete the function to parse and return the page\n",
    "\n",
    "    return category_page"
   ]
  },
  {
   "cell_type": "code",
   "execution_count": 40,
   "metadata": {},
   "outputs": [],
   "source": [
    "def get_valid_urls(category_page: BeautifulSoup):\n",
    "    \"\"\"\n",
    "    Gets all valid urls from a category page\n",
    "\n",
    "    input:\n",
    "        :param: url: category_page\n",
    "    returns:\n",
    "        - valid_urls: list of all valid article urls on a given category page\n",
    "    \"\"\"\n",
    "    all_urls = category_page.findAll(\"a\")\n",
    "    valid_article_urls = []\n",
    "    for url in all_urls:\n",
    "        href = url.get(\"href\")\n",
    "        if (href.startswith(\"/pidgin/tori\") or  \n",
    "           href.startswith (\"/pidgin/world\") or\n",
    "           href.startswith (\"/pidgin/sport\") or\n",
    "           href.startswith (\"/pidgin/media\")) and href[-1].isdigit() :\n",
    "            valid_url=\"https://www.bbc.com\" + href\n",
    "            valid_article_urls.append(valid_url)\n",
    "        # from a look at BBC pidgin's urls, they always begin with the following strings.\n",
    "        # so we obtain valid article urls using these strings\n",
    "    return list(set(valid_article_urls))\n"
   ]
  },
  {
   "cell_type": "code",
   "execution_count": 41,
   "metadata": {},
   "outputs": [],
   "source": [
    "def get_urls(category_url: str, category: str, time_delay: bool) -> list:\n",
    "    \"\"\"\n",
    "    Get valid urls from each category\n",
    "    \n",
    "    Input: \n",
    "         : Category url, Category, Time Delay: Bool\n",
    "    \n",
    "    Output:\n",
    "          : Category Url for indicated Category\n",
    "    \"\"\"\n",
    "    \n",
    "    page_soup = get_page_soup(category_url)\n",
    "    category_urls = get_valid_urls(page_soup)\n",
    "\n",
    "    # get total number of pages for given category\n",
    "    article_count_span = page_soup.find_all(\n",
    "        \"span\", attrs={\"class\": \"lx-pagination__page-number qa-pagination-total-page-number\"}\n",
    "    )\n",
    "    # if there are multiple pages, get valid urls from each page\n",
    "    # else just get the articles on the first page\n",
    "    if article_count_span:\n",
    "        total_article_count = int(article_count_span[0].text)\n",
    "        logging.info(f\"{total_article_count} pages found for {category}\")\n",
    "        logging.info(f\"{len(category_urls)} urls in page 1 gotten for {category}\")\n",
    "\n",
    "        for count in range(1, total_article_count):\n",
    "            \n",
    "            # TODO: Use your `get_page_soup` and `get_valid_urls` functions\n",
    "            #   to obtain valid urls from all pages\n",
    "            page_soup=get_page_soup(category_url+f\"/page/{count+1}\")\n",
    "            page_urls=get_valid_urls(page_soup)\n",
    "            logging.info(f\"{len(page_urls)} urls in page {count + 1} gotten for {category}\")\n",
    "            category_urls += page_urls\n",
    "            if time_delay:\n",
    "                time.sleep(10)\n",
    "    else:\n",
    "        logging.info(f\"Only one page found for {category}. {len(category_urls)} urls gotten\")\n",
    "\n",
    "    return category_urls\n"
   ]
  },
  {
   "cell_type": "code",
   "execution_count": 42,
   "metadata": {},
   "outputs": [
    {
     "name": "stderr",
     "output_type": "stream",
     "text": [
      "INFO:root:Only one page found for Most_Popular. 10 urls gotten\n"
     ]
    },
    {
     "name": "stdout",
     "output_type": "stream",
     "text": [
      "['https://www.bbc.com/pidgin/tori-58929073', 'https://www.bbc.com/pidgin/tori-59021459', 'https://www.bbc.com/pidgin/tori-59003219', 'https://www.bbc.com/pidgin/tori-59020511', 'https://www.bbc.com/pidgin/tori-58977792', 'https://www.bbc.com/pidgin/tori-58993151', 'https://www.bbc.com/pidgin/tori-59020478', 'https://www.bbc.com/pidgin/tori-58957356', 'https://www.bbc.com/pidgin/tori-58991898', 'https://www.bbc.com/pidgin/world-59023596']\n"
     ]
    }
   ],
   "source": [
    "article_urls=get_urls('https://www.bbc.com/pidgin/popular/read', 'Most_Popular', False)\n",
    "print(article_urls)"
   ]
  },
  {
   "cell_type": "code",
   "execution_count": 43,
   "metadata": {},
   "outputs": [],
   "source": [
    "def get_article_data(article_url: str) -> tuple:\n",
    "    \"\"\"\n",
    "    Obtains paragraphs texts and headlines input url article\n",
    "\n",
    "    input:\n",
    "        :param article_url: category_page\n",
    "    returns:\n",
    "        - headline: headline of url article\n",
    "        - story_text: text of url article\n",
    "        - article_url: input article url\n",
    "    \"\"\"\n",
    "    page_soup = get_page_soup(article_url)\n",
    "    # TODO: Locate the headline element\n",
    "    headline = page_soup.find(\n",
    "        \"h1\", attrs={\"class\": ENV[\"HEADLINE_SPAN_CLASS_A\"]}\n",
    "    )\n",
    "    \n",
    "    if headline:\n",
    "        # TODO: Get the headline text from the element\n",
    "        headline= headline.text.strip()\n",
    "    else:\n",
    "        headline=page_soup.find(\"h1\", attrs={\"class\": ENV['HEADLINE_SPAN_CLASS_A']})\n",
    "        \n",
    "    story_text = \" \"\n",
    "    story_div = page_soup.findAll(\"div\", attrs = {\"class\": ENV['STORY_DIV_CLASS']})    # TODO: Locate all story divs\n",
    "    if story_div:\n",
    "        all_paragraphs = [div.findAll(\"p\", recursive=False) for div in story_div]\n",
    "        all_paragraphs = list(itertools.chain(*all_paragraphs))\n",
    "        story_text = story_text.join(str(paragraph) for paragraph in all_paragraphs)\n",
    "        story_text = BeautifulSoup(story_text, \"html.parser\").get_text()\n",
    "    story_text = story_text if not story_text == \" \" else None\n",
    "\n",
    "    return headline, story_text,article_url"
   ]
  },
  {
   "cell_type": "code",
   "execution_count": 44,
   "metadata": {},
   "outputs": [
    {
     "data": {
      "text/plain": [
       "('Joy Onoh: How 24-year-old online seller die as she go make delivery',\n",
       " '\"Afta I drink garri train Joy for University now wey she don finish to epp me, dem kill am\" dis na wetin joy mama yarn BBC Pidgin on top di death of her pikin. 49 -year- old Grace Onoh wey be widow for 12 years  say all her hope don dabaru and her world don crash to pieces. \" All our hope bin dey on her but as e dey now, I no know wia to start from for dis life again\" she explain. Police on Wednesday 20th October, find Joy deadi bodi for ground around Federal Housing for North Bank area of Makurdi, afta she leave house to go deliver six turtleneck shirts to one customer for di area. Joy start di online business two months ago wit di business name Sparklight Collectibles to raise moni to pay her outstanding school fees for Benue State University. Who be Joy Israel Onoh? 24-year-old Joy Onoh come from Enugu state, for Nigeria southeast but her parents don live for Makurdi di Benue state capital for about 21 years now. She attend NUJ pen Nursery and Primary School and later go Anglican Secondary School.  Her  dream na to become ogbonge journalist for Naija, so she  decide to go read Mass Communication for Benue State University and she graduate last year. Joy na di first child among three pikin dem, but tins come dey rough for di family wen dia papa die  12-years ago. Tins bad sotey she no fit feed dia pikin or pay dia school fees and so di oda pikin dem gatz drop out of school so dat from her little moni, she fit train Joy wit hope say if she finish school start work, she go den train her oda sister and broda dem. \"Di suffer wey I suffer to ensure say I support her for school no get part two\". \"Sometimes wey moni no dey I go borrow moni from pipo just to make sure say she no drop out\" Grace tok She say she neva know how to cope wit di tragedy and dat di future of di oda two still dey hang for air. Wetin Really Happun and how joy allegedly die According to her sister, Cynthia Israel Onoh, Joy bin get order online for six turtle neck shirts. Di customer bin demand for three red and three green colour but Joy tell dem say she no get those colours all, but she go bring dem oda fine colours wey dem go like. On Tuesday, 19th of October, she ask di customer to send dia address in di morning, but dem no send until around 5pm. So wen di customer send di address, she tell her mama to leave her hair wey she bin dey plait so dat she go deliver di shirt sharp-sharp and den come back  Each of di shirt di cost 2,000 naira. Joy bin cari di shirts dem on credit from pipo wey di sell wholesale for di rate of 1500 and den add 500 as her own profit. Around 7 pm wen her family discover say she neva come back from business, dem begin call her line-but she no pick. Di sister come call wit her own line and wen she pick, she discover say her voice be like pesin wey don dey cry tey-tey.  Cynthia say she ask her wia she dey, she refuse to tok and later tell her say she go explain to her later. Afta a few minute, she call back and ask her sister and best friend make dem send her UBA account details. Na dia according to di sister, dem sense say something dey wrong wit her - dem come rush go nearby Police station to report di mata but police say e must reach 24 hours if dem no see am before dem go take action. Di only option wey di family get at di time according to Cynthia, na to begin pray and kontinu to call di line but e bin no go through. But on Wednesday morning, one of dia friends come call dem to inform dem say dem see her bodi for ground without blouse. \"I dey very disappointed for di way wey dem take kill my sister,\" Cynthia tok. \"She bin dey only hustle to try pay her school fees. Joy na beta pesin and my role model. \"I neva fit believe say she don die, I still dey hope for miracle.\" Police Investigation Benue State Police Command say dem don begin investigate di mata. Di police tok-tok pesin, Catherin Anene say wem dem bin find Joy deadi bodi e no get any mark of violence and dem don cari am go mortuary. Although some local media report say dem rape her, madam Catherine say she neva get di autopsy report to confirm wetin really kill her. She also say di Police go do everything to fish out those wey commit di crime.',\n",
       " 'https://www.bbc.com/pidgin/tori-59021459')"
      ]
     },
     "execution_count": 44,
     "metadata": {},
     "output_type": "execute_result"
    }
   ],
   "source": [
    "article_data=get_article_data('https://www.bbc.com/pidgin/tori-59021459')\n",
    "article_data"
   ]
  },
  {
   "cell_type": "code",
   "execution_count": 46,
   "metadata": {},
   "outputs": [],
   "source": [
    "def scrape(output_file_name: str, no_of_articles: int, categories: dict, time_delay: bool) -> None:\n",
    "    \"\"\"\n",
    "    Main function for scraping and writing articles to file\n",
    "\n",
    "    input:\n",
    "        :param output_file_name: file name where output is saved\n",
    "        :param no_of_articles: number of user specified articles to scrape\n",
    "        :param category_urls: all articles in a category\n",
    "    \"\"\"\n",
    "    logging.info(\"Writing articles to file...\")\n",
    "\n",
    "    with open(output_file_name, \"w\", encoding='utf-8') as csv_file:\n",
    "        # TODO: Initialize a csv.DictWriter object\n",
    "        headers=[\"headline\", \"text\", \"url\"]\n",
    "        writer=csv.DictWriter(csv_file, fieldnames=headers)\n",
    "        writer.writeheader()\n",
    "        #   Write the headers your CSV file will take\n",
    "        story_num = 0\n",
    "\n",
    "        for category, urls in categories.items():\n",
    "            logging.info(f\"Writing articles for {category} category...\")\n",
    "            for url in urls:\n",
    "                # TODO: Get the headline, paragraphs and url using your `get_article_data` func\n",
    "                headline, paragraphs, url = get_article_data(url)\n",
    "                if paragraphs:\n",
    "                    print (paragraphs)\n",
    "                    # TODO: Write all the data to CSV\n",
    "                    writer.writerow({headers[0]:headline, headers[1]: paragraphs, headers[2]: url})\n",
    "                    story_num += 1\n",
    "                    logging.info(f\"Successfully wrote story number {story_num}\")\n",
    "\n",
    "                if story_num == no_of_articles:\n",
    "                    logging.info(\n",
    "                        f\"Requested total number of articles {no_of_articles} reached\"\n",
    "                    )\n",
    "                    logging.info(\n",
    "                        f\"Scraping done. A total of {no_of_articles} articles were scraped!\"\n",
    "                    )\n",
    "                    return\n",
    "            if time_delay:\n",
    "                time.sleep(10)\n",
    "                \n",
    "    logging.info(\n",
    "        f\"Scraping done. A total of {story_num} articles were scraped!\"\n",
    "    )\n",
    "\n"
   ]
  },
  {
   "cell_type": "code",
   "execution_count": 47,
   "metadata": {},
   "outputs": [
    {
     "name": "stderr",
     "output_type": "stream",
     "text": [
      "INFO:root:--------------------------------------\n",
      "INFO:root:Starting scraping...\n",
      "INFO:root:--------------------------------------\n",
      "INFO:root:Getting all stories for HOME...\n",
      "INFO:root:Only one page found for HOME. 40 urls gotten\n",
      "INFO:root:40 stories found for HOME category\n",
      "INFO:root:Getting all stories for MOST_POPULAR...\n",
      "INFO:root:Only one page found for MOST_POPULAR. 10 urls gotten\n",
      "INFO:root:10 stories found for MOST_POPULAR category\n",
      "INFO:root:Getting all stories for ENTERTAINMENT...\n",
      "INFO:root:87 pages found for ENTERTAINMENT\n",
      "INFO:root:10 urls in page 1 gotten for ENTERTAINMENT\n",
      "INFO:root:9 urls in page 2 gotten for ENTERTAINMENT\n",
      "INFO:root:10 urls in page 3 gotten for ENTERTAINMENT\n",
      "INFO:root:10 urls in page 4 gotten for ENTERTAINMENT\n",
      "INFO:root:8 urls in page 5 gotten for ENTERTAINMENT\n",
      "INFO:root:9 urls in page 6 gotten for ENTERTAINMENT\n",
      "INFO:root:9 urls in page 7 gotten for ENTERTAINMENT\n",
      "INFO:root:10 urls in page 8 gotten for ENTERTAINMENT\n",
      "INFO:root:10 urls in page 9 gotten for ENTERTAINMENT\n",
      "INFO:root:10 urls in page 10 gotten for ENTERTAINMENT\n",
      "INFO:root:10 urls in page 11 gotten for ENTERTAINMENT\n",
      "INFO:root:10 urls in page 12 gotten for ENTERTAINMENT\n",
      "INFO:root:7 urls in page 13 gotten for ENTERTAINMENT\n",
      "INFO:root:10 urls in page 14 gotten for ENTERTAINMENT\n",
      "INFO:root:10 urls in page 15 gotten for ENTERTAINMENT\n",
      "INFO:root:9 urls in page 16 gotten for ENTERTAINMENT\n",
      "INFO:root:10 urls in page 17 gotten for ENTERTAINMENT\n",
      "INFO:root:8 urls in page 18 gotten for ENTERTAINMENT\n",
      "INFO:root:10 urls in page 19 gotten for ENTERTAINMENT\n",
      "INFO:root:10 urls in page 20 gotten for ENTERTAINMENT\n",
      "INFO:root:9 urls in page 21 gotten for ENTERTAINMENT\n",
      "INFO:root:10 urls in page 22 gotten for ENTERTAINMENT\n",
      "INFO:root:10 urls in page 23 gotten for ENTERTAINMENT\n",
      "INFO:root:9 urls in page 24 gotten for ENTERTAINMENT\n",
      "INFO:root:9 urls in page 25 gotten for ENTERTAINMENT\n",
      "INFO:root:10 urls in page 26 gotten for ENTERTAINMENT\n",
      "INFO:root:10 urls in page 27 gotten for ENTERTAINMENT\n",
      "INFO:root:10 urls in page 28 gotten for ENTERTAINMENT\n",
      "INFO:root:10 urls in page 29 gotten for ENTERTAINMENT\n",
      "INFO:root:10 urls in page 30 gotten for ENTERTAINMENT\n",
      "INFO:root:10 urls in page 31 gotten for ENTERTAINMENT\n",
      "INFO:root:9 urls in page 32 gotten for ENTERTAINMENT\n",
      "INFO:root:10 urls in page 33 gotten for ENTERTAINMENT\n",
      "INFO:root:10 urls in page 34 gotten for ENTERTAINMENT\n",
      "INFO:root:10 urls in page 35 gotten for ENTERTAINMENT\n",
      "INFO:root:10 urls in page 36 gotten for ENTERTAINMENT\n",
      "INFO:root:10 urls in page 37 gotten for ENTERTAINMENT\n",
      "INFO:root:9 urls in page 38 gotten for ENTERTAINMENT\n",
      "INFO:root:10 urls in page 39 gotten for ENTERTAINMENT\n",
      "INFO:root:10 urls in page 40 gotten for ENTERTAINMENT\n",
      "INFO:root:10 urls in page 41 gotten for ENTERTAINMENT\n",
      "INFO:root:9 urls in page 42 gotten for ENTERTAINMENT\n",
      "INFO:root:9 urls in page 43 gotten for ENTERTAINMENT\n",
      "INFO:root:9 urls in page 44 gotten for ENTERTAINMENT\n",
      "INFO:root:10 urls in page 45 gotten for ENTERTAINMENT\n",
      "INFO:root:8 urls in page 46 gotten for ENTERTAINMENT\n",
      "INFO:root:9 urls in page 47 gotten for ENTERTAINMENT\n",
      "INFO:root:10 urls in page 48 gotten for ENTERTAINMENT\n",
      "INFO:root:9 urls in page 49 gotten for ENTERTAINMENT\n",
      "INFO:root:9 urls in page 50 gotten for ENTERTAINMENT\n",
      "INFO:root:9 urls in page 51 gotten for ENTERTAINMENT\n",
      "INFO:root:8 urls in page 52 gotten for ENTERTAINMENT\n",
      "INFO:root:10 urls in page 53 gotten for ENTERTAINMENT\n",
      "INFO:root:8 urls in page 54 gotten for ENTERTAINMENT\n",
      "INFO:root:10 urls in page 55 gotten for ENTERTAINMENT\n",
      "INFO:root:10 urls in page 56 gotten for ENTERTAINMENT\n",
      "INFO:root:10 urls in page 57 gotten for ENTERTAINMENT\n",
      "INFO:root:9 urls in page 58 gotten for ENTERTAINMENT\n",
      "INFO:root:10 urls in page 59 gotten for ENTERTAINMENT\n",
      "INFO:root:10 urls in page 60 gotten for ENTERTAINMENT\n",
      "INFO:root:9 urls in page 61 gotten for ENTERTAINMENT\n",
      "INFO:root:10 urls in page 62 gotten for ENTERTAINMENT\n",
      "INFO:root:8 urls in page 63 gotten for ENTERTAINMENT\n",
      "INFO:root:10 urls in page 64 gotten for ENTERTAINMENT\n",
      "INFO:root:9 urls in page 65 gotten for ENTERTAINMENT\n",
      "INFO:root:10 urls in page 66 gotten for ENTERTAINMENT\n",
      "INFO:root:9 urls in page 67 gotten for ENTERTAINMENT\n",
      "INFO:root:8 urls in page 68 gotten for ENTERTAINMENT\n",
      "INFO:root:10 urls in page 69 gotten for ENTERTAINMENT\n",
      "INFO:root:10 urls in page 70 gotten for ENTERTAINMENT\n",
      "INFO:root:10 urls in page 71 gotten for ENTERTAINMENT\n",
      "INFO:root:8 urls in page 72 gotten for ENTERTAINMENT\n",
      "INFO:root:10 urls in page 73 gotten for ENTERTAINMENT\n",
      "INFO:root:10 urls in page 74 gotten for ENTERTAINMENT\n",
      "INFO:root:10 urls in page 75 gotten for ENTERTAINMENT\n",
      "INFO:root:8 urls in page 76 gotten for ENTERTAINMENT\n",
      "INFO:root:8 urls in page 77 gotten for ENTERTAINMENT\n",
      "INFO:root:9 urls in page 78 gotten for ENTERTAINMENT\n",
      "INFO:root:10 urls in page 79 gotten for ENTERTAINMENT\n",
      "INFO:root:10 urls in page 80 gotten for ENTERTAINMENT\n",
      "INFO:root:9 urls in page 81 gotten for ENTERTAINMENT\n",
      "INFO:root:10 urls in page 82 gotten for ENTERTAINMENT\n",
      "INFO:root:10 urls in page 83 gotten for ENTERTAINMENT\n",
      "INFO:root:9 urls in page 84 gotten for ENTERTAINMENT\n",
      "INFO:root:10 urls in page 85 gotten for ENTERTAINMENT\n",
      "INFO:root:10 urls in page 86 gotten for ENTERTAINMENT\n",
      "INFO:root:6 urls in page 87 gotten for ENTERTAINMENT\n",
      "INFO:root:820 stories found for ENTERTAINMENT category\n",
      "INFO:root:Getting all stories for SPORT...\n",
      "INFO:root:46 pages found for SPORT\n",
      "INFO:root:10 urls in page 1 gotten for SPORT\n",
      "INFO:root:10 urls in page 2 gotten for SPORT\n",
      "INFO:root:10 urls in page 3 gotten for SPORT\n",
      "INFO:root:10 urls in page 4 gotten for SPORT\n",
      "INFO:root:10 urls in page 5 gotten for SPORT\n",
      "INFO:root:10 urls in page 6 gotten for SPORT\n",
      "INFO:root:10 urls in page 7 gotten for SPORT\n",
      "INFO:root:10 urls in page 8 gotten for SPORT\n",
      "INFO:root:10 urls in page 9 gotten for SPORT\n",
      "INFO:root:10 urls in page 10 gotten for SPORT\n",
      "INFO:root:10 urls in page 11 gotten for SPORT\n",
      "INFO:root:10 urls in page 12 gotten for SPORT\n",
      "INFO:root:10 urls in page 13 gotten for SPORT\n",
      "INFO:root:10 urls in page 14 gotten for SPORT\n",
      "INFO:root:10 urls in page 15 gotten for SPORT\n",
      "INFO:root:10 urls in page 16 gotten for SPORT\n",
      "INFO:root:9 urls in page 17 gotten for SPORT\n",
      "INFO:root:10 urls in page 18 gotten for SPORT\n",
      "INFO:root:10 urls in page 19 gotten for SPORT\n",
      "INFO:root:10 urls in page 20 gotten for SPORT\n",
      "INFO:root:10 urls in page 21 gotten for SPORT\n",
      "INFO:root:10 urls in page 22 gotten for SPORT\n",
      "INFO:root:10 urls in page 23 gotten for SPORT\n",
      "INFO:root:9 urls in page 24 gotten for SPORT\n",
      "INFO:root:10 urls in page 25 gotten for SPORT\n",
      "INFO:root:10 urls in page 26 gotten for SPORT\n",
      "INFO:root:10 urls in page 27 gotten for SPORT\n",
      "INFO:root:10 urls in page 28 gotten for SPORT\n",
      "INFO:root:10 urls in page 29 gotten for SPORT\n",
      "INFO:root:8 urls in page 30 gotten for SPORT\n",
      "INFO:root:9 urls in page 31 gotten for SPORT\n",
      "INFO:root:10 urls in page 32 gotten for SPORT\n",
      "INFO:root:10 urls in page 33 gotten for SPORT\n",
      "INFO:root:10 urls in page 34 gotten for SPORT\n",
      "INFO:root:10 urls in page 35 gotten for SPORT\n",
      "INFO:root:10 urls in page 36 gotten for SPORT\n",
      "INFO:root:10 urls in page 37 gotten for SPORT\n",
      "INFO:root:10 urls in page 38 gotten for SPORT\n",
      "INFO:root:10 urls in page 39 gotten for SPORT\n",
      "INFO:root:10 urls in page 40 gotten for SPORT\n",
      "INFO:root:10 urls in page 41 gotten for SPORT\n",
      "INFO:root:10 urls in page 42 gotten for SPORT\n",
      "INFO:root:9 urls in page 43 gotten for SPORT\n",
      "INFO:root:10 urls in page 44 gotten for SPORT\n",
      "INFO:root:8 urls in page 45 gotten for SPORT\n",
      "INFO:root:3 urls in page 46 gotten for SPORT\n",
      "INFO:root:445 stories found for SPORT category\n",
      "INFO:root:Getting all stories for WORLD...\n",
      "INFO:root:100 pages found for WORLD\n",
      "INFO:root:10 urls in page 1 gotten for WORLD\n",
      "INFO:root:10 urls in page 2 gotten for WORLD\n",
      "INFO:root:10 urls in page 3 gotten for WORLD\n",
      "INFO:root:9 urls in page 4 gotten for WORLD\n",
      "INFO:root:10 urls in page 5 gotten for WORLD\n",
      "INFO:root:10 urls in page 6 gotten for WORLD\n",
      "INFO:root:10 urls in page 7 gotten for WORLD\n",
      "INFO:root:9 urls in page 8 gotten for WORLD\n",
      "INFO:root:10 urls in page 9 gotten for WORLD\n",
      "INFO:root:8 urls in page 10 gotten for WORLD\n",
      "INFO:root:9 urls in page 11 gotten for WORLD\n",
      "INFO:root:8 urls in page 12 gotten for WORLD\n",
      "INFO:root:8 urls in page 13 gotten for WORLD\n",
      "INFO:root:10 urls in page 14 gotten for WORLD\n",
      "INFO:root:10 urls in page 15 gotten for WORLD\n"
     ]
    },
    {
     "name": "stderr",
     "output_type": "stream",
     "text": [
      "INFO:root:9 urls in page 16 gotten for WORLD\n",
      "INFO:root:6 urls in page 17 gotten for WORLD\n",
      "INFO:root:10 urls in page 18 gotten for WORLD\n",
      "INFO:root:10 urls in page 19 gotten for WORLD\n",
      "INFO:root:10 urls in page 20 gotten for WORLD\n",
      "INFO:root:9 urls in page 21 gotten for WORLD\n",
      "INFO:root:8 urls in page 22 gotten for WORLD\n",
      "INFO:root:10 urls in page 23 gotten for WORLD\n",
      "INFO:root:8 urls in page 24 gotten for WORLD\n",
      "INFO:root:10 urls in page 25 gotten for WORLD\n",
      "INFO:root:10 urls in page 26 gotten for WORLD\n",
      "INFO:root:8 urls in page 27 gotten for WORLD\n",
      "INFO:root:10 urls in page 28 gotten for WORLD\n",
      "INFO:root:10 urls in page 29 gotten for WORLD\n",
      "INFO:root:9 urls in page 30 gotten for WORLD\n",
      "INFO:root:10 urls in page 31 gotten for WORLD\n",
      "INFO:root:10 urls in page 32 gotten for WORLD\n",
      "INFO:root:10 urls in page 33 gotten for WORLD\n",
      "INFO:root:9 urls in page 34 gotten for WORLD\n",
      "INFO:root:10 urls in page 35 gotten for WORLD\n",
      "INFO:root:10 urls in page 36 gotten for WORLD\n",
      "INFO:root:10 urls in page 37 gotten for WORLD\n",
      "INFO:root:10 urls in page 38 gotten for WORLD\n",
      "INFO:root:10 urls in page 39 gotten for WORLD\n",
      "INFO:root:9 urls in page 40 gotten for WORLD\n",
      "INFO:root:9 urls in page 41 gotten for WORLD\n",
      "INFO:root:10 urls in page 42 gotten for WORLD\n",
      "INFO:root:10 urls in page 43 gotten for WORLD\n",
      "INFO:root:10 urls in page 44 gotten for WORLD\n",
      "INFO:root:10 urls in page 45 gotten for WORLD\n",
      "INFO:root:9 urls in page 46 gotten for WORLD\n",
      "INFO:root:8 urls in page 47 gotten for WORLD\n",
      "INFO:root:9 urls in page 48 gotten for WORLD\n",
      "INFO:root:9 urls in page 49 gotten for WORLD\n",
      "INFO:root:9 urls in page 50 gotten for WORLD\n",
      "INFO:root:10 urls in page 51 gotten for WORLD\n",
      "INFO:root:10 urls in page 52 gotten for WORLD\n",
      "INFO:root:10 urls in page 53 gotten for WORLD\n",
      "INFO:root:10 urls in page 54 gotten for WORLD\n",
      "INFO:root:10 urls in page 55 gotten for WORLD\n",
      "INFO:root:10 urls in page 56 gotten for WORLD\n",
      "INFO:root:9 urls in page 57 gotten for WORLD\n",
      "INFO:root:9 urls in page 58 gotten for WORLD\n",
      "INFO:root:10 urls in page 59 gotten for WORLD\n",
      "INFO:root:10 urls in page 60 gotten for WORLD\n",
      "INFO:root:10 urls in page 61 gotten for WORLD\n",
      "INFO:root:8 urls in page 62 gotten for WORLD\n",
      "INFO:root:10 urls in page 63 gotten for WORLD\n",
      "INFO:root:10 urls in page 64 gotten for WORLD\n",
      "INFO:root:10 urls in page 65 gotten for WORLD\n",
      "INFO:root:9 urls in page 66 gotten for WORLD\n",
      "INFO:root:10 urls in page 67 gotten for WORLD\n",
      "INFO:root:10 urls in page 68 gotten for WORLD\n",
      "INFO:root:10 urls in page 69 gotten for WORLD\n",
      "INFO:root:10 urls in page 70 gotten for WORLD\n",
      "INFO:root:10 urls in page 71 gotten for WORLD\n",
      "INFO:root:10 urls in page 72 gotten for WORLD\n",
      "INFO:root:9 urls in page 73 gotten for WORLD\n",
      "INFO:root:9 urls in page 74 gotten for WORLD\n",
      "INFO:root:10 urls in page 75 gotten for WORLD\n",
      "INFO:root:10 urls in page 76 gotten for WORLD\n",
      "INFO:root:10 urls in page 77 gotten for WORLD\n",
      "INFO:root:10 urls in page 78 gotten for WORLD\n",
      "INFO:root:9 urls in page 79 gotten for WORLD\n",
      "INFO:root:10 urls in page 80 gotten for WORLD\n",
      "INFO:root:10 urls in page 81 gotten for WORLD\n",
      "INFO:root:9 urls in page 82 gotten for WORLD\n",
      "INFO:root:9 urls in page 83 gotten for WORLD\n",
      "INFO:root:10 urls in page 84 gotten for WORLD\n",
      "INFO:root:9 urls in page 85 gotten for WORLD\n",
      "INFO:root:10 urls in page 86 gotten for WORLD\n",
      "INFO:root:10 urls in page 87 gotten for WORLD\n",
      "INFO:root:10 urls in page 88 gotten for WORLD\n",
      "INFO:root:10 urls in page 89 gotten for WORLD\n",
      "INFO:root:10 urls in page 90 gotten for WORLD\n",
      "INFO:root:8 urls in page 91 gotten for WORLD\n",
      "INFO:root:4 urls in page 92 gotten for WORLD\n",
      "INFO:root:4 urls in page 93 gotten for WORLD\n",
      "INFO:root:4 urls in page 94 gotten for WORLD\n",
      "INFO:root:9 urls in page 95 gotten for WORLD\n",
      "INFO:root:8 urls in page 96 gotten for WORLD\n",
      "INFO:root:7 urls in page 97 gotten for WORLD\n",
      "INFO:root:10 urls in page 98 gotten for WORLD\n",
      "INFO:root:8 urls in page 99 gotten for WORLD\n",
      "INFO:root:6 urls in page 100 gotten for WORLD\n",
      "INFO:root:926 stories found for WORLD category\n",
      "INFO:root:Getting all stories for AFRICA...\n",
      "INFO:root:93 pages found for AFRICA\n",
      "INFO:root:10 urls in page 1 gotten for AFRICA\n",
      "INFO:root:10 urls in page 2 gotten for AFRICA\n",
      "INFO:root:9 urls in page 3 gotten for AFRICA\n",
      "INFO:root:10 urls in page 4 gotten for AFRICA\n",
      "INFO:root:10 urls in page 5 gotten for AFRICA\n",
      "INFO:root:10 urls in page 6 gotten for AFRICA\n",
      "INFO:root:9 urls in page 7 gotten for AFRICA\n",
      "INFO:root:10 urls in page 8 gotten for AFRICA\n",
      "INFO:root:10 urls in page 9 gotten for AFRICA\n",
      "INFO:root:9 urls in page 10 gotten for AFRICA\n",
      "INFO:root:10 urls in page 11 gotten for AFRICA\n",
      "INFO:root:9 urls in page 12 gotten for AFRICA\n",
      "INFO:root:10 urls in page 13 gotten for AFRICA\n",
      "INFO:root:9 urls in page 14 gotten for AFRICA\n",
      "INFO:root:10 urls in page 15 gotten for AFRICA\n",
      "INFO:root:10 urls in page 16 gotten for AFRICA\n",
      "INFO:root:9 urls in page 17 gotten for AFRICA\n",
      "INFO:root:10 urls in page 18 gotten for AFRICA\n",
      "INFO:root:9 urls in page 19 gotten for AFRICA\n",
      "INFO:root:10 urls in page 20 gotten for AFRICA\n",
      "INFO:root:10 urls in page 21 gotten for AFRICA\n",
      "INFO:root:10 urls in page 22 gotten for AFRICA\n",
      "INFO:root:10 urls in page 23 gotten for AFRICA\n",
      "INFO:root:10 urls in page 24 gotten for AFRICA\n",
      "INFO:root:10 urls in page 25 gotten for AFRICA\n",
      "INFO:root:10 urls in page 26 gotten for AFRICA\n",
      "INFO:root:10 urls in page 27 gotten for AFRICA\n",
      "INFO:root:10 urls in page 28 gotten for AFRICA\n",
      "INFO:root:10 urls in page 29 gotten for AFRICA\n",
      "INFO:root:9 urls in page 30 gotten for AFRICA\n",
      "INFO:root:9 urls in page 31 gotten for AFRICA\n",
      "INFO:root:10 urls in page 32 gotten for AFRICA\n",
      "INFO:root:9 urls in page 33 gotten for AFRICA\n",
      "INFO:root:10 urls in page 34 gotten for AFRICA\n",
      "INFO:root:10 urls in page 35 gotten for AFRICA\n",
      "INFO:root:8 urls in page 36 gotten for AFRICA\n",
      "INFO:root:9 urls in page 37 gotten for AFRICA\n",
      "INFO:root:10 urls in page 38 gotten for AFRICA\n",
      "INFO:root:10 urls in page 39 gotten for AFRICA\n",
      "INFO:root:10 urls in page 40 gotten for AFRICA\n",
      "INFO:root:10 urls in page 41 gotten for AFRICA\n",
      "INFO:root:10 urls in page 42 gotten for AFRICA\n",
      "INFO:root:10 urls in page 43 gotten for AFRICA\n",
      "INFO:root:9 urls in page 44 gotten for AFRICA\n",
      "INFO:root:10 urls in page 45 gotten for AFRICA\n",
      "INFO:root:6 urls in page 46 gotten for AFRICA\n",
      "INFO:root:10 urls in page 47 gotten for AFRICA\n",
      "INFO:root:10 urls in page 48 gotten for AFRICA\n",
      "INFO:root:10 urls in page 49 gotten for AFRICA\n",
      "INFO:root:10 urls in page 50 gotten for AFRICA\n",
      "INFO:root:9 urls in page 51 gotten for AFRICA\n",
      "INFO:root:10 urls in page 52 gotten for AFRICA\n",
      "INFO:root:8 urls in page 53 gotten for AFRICA\n",
      "INFO:root:8 urls in page 54 gotten for AFRICA\n",
      "INFO:root:10 urls in page 55 gotten for AFRICA\n",
      "INFO:root:8 urls in page 56 gotten for AFRICA\n",
      "INFO:root:10 urls in page 57 gotten for AFRICA\n",
      "INFO:root:9 urls in page 58 gotten for AFRICA\n",
      "INFO:root:9 urls in page 59 gotten for AFRICA\n",
      "INFO:root:8 urls in page 60 gotten for AFRICA\n",
      "INFO:root:9 urls in page 61 gotten for AFRICA\n",
      "INFO:root:10 urls in page 62 gotten for AFRICA\n",
      "INFO:root:9 urls in page 63 gotten for AFRICA\n",
      "INFO:root:10 urls in page 64 gotten for AFRICA\n",
      "INFO:root:10 urls in page 65 gotten for AFRICA\n",
      "INFO:root:9 urls in page 66 gotten for AFRICA\n",
      "INFO:root:10 urls in page 67 gotten for AFRICA\n",
      "INFO:root:9 urls in page 68 gotten for AFRICA\n",
      "INFO:root:10 urls in page 69 gotten for AFRICA\n",
      "INFO:root:10 urls in page 70 gotten for AFRICA\n",
      "INFO:root:9 urls in page 71 gotten for AFRICA\n",
      "INFO:root:8 urls in page 72 gotten for AFRICA\n",
      "INFO:root:10 urls in page 73 gotten for AFRICA\n",
      "INFO:root:10 urls in page 74 gotten for AFRICA\n",
      "INFO:root:10 urls in page 75 gotten for AFRICA\n",
      "INFO:root:10 urls in page 76 gotten for AFRICA\n",
      "INFO:root:10 urls in page 77 gotten for AFRICA\n",
      "INFO:root:10 urls in page 78 gotten for AFRICA\n",
      "INFO:root:10 urls in page 79 gotten for AFRICA\n",
      "INFO:root:9 urls in page 80 gotten for AFRICA\n",
      "INFO:root:10 urls in page 81 gotten for AFRICA\n",
      "INFO:root:10 urls in page 82 gotten for AFRICA\n",
      "INFO:root:9 urls in page 83 gotten for AFRICA\n",
      "INFO:root:9 urls in page 84 gotten for AFRICA\n",
      "INFO:root:10 urls in page 85 gotten for AFRICA\n",
      "INFO:root:9 urls in page 86 gotten for AFRICA\n",
      "INFO:root:10 urls in page 87 gotten for AFRICA\n",
      "INFO:root:10 urls in page 88 gotten for AFRICA\n",
      "INFO:root:10 urls in page 89 gotten for AFRICA\n",
      "INFO:root:9 urls in page 90 gotten for AFRICA\n"
     ]
    },
    {
     "name": "stderr",
     "output_type": "stream",
     "text": [
      "INFO:root:10 urls in page 91 gotten for AFRICA\n",
      "INFO:root:10 urls in page 92 gotten for AFRICA\n",
      "INFO:root:4 urls in page 93 gotten for AFRICA\n",
      "INFO:root:883 stories found for AFRICA category\n",
      "INFO:root:Getting all stories for NIGERIA...\n",
      "INFO:root:100 pages found for NIGERIA\n",
      "INFO:root:10 urls in page 1 gotten for NIGERIA\n",
      "INFO:root:10 urls in page 2 gotten for NIGERIA\n",
      "INFO:root:9 urls in page 3 gotten for NIGERIA\n",
      "INFO:root:8 urls in page 4 gotten for NIGERIA\n",
      "INFO:root:8 urls in page 5 gotten for NIGERIA\n",
      "INFO:root:9 urls in page 6 gotten for NIGERIA\n",
      "INFO:root:10 urls in page 7 gotten for NIGERIA\n",
      "INFO:root:10 urls in page 8 gotten for NIGERIA\n",
      "INFO:root:9 urls in page 9 gotten for NIGERIA\n",
      "INFO:root:10 urls in page 10 gotten for NIGERIA\n",
      "INFO:root:10 urls in page 11 gotten for NIGERIA\n",
      "INFO:root:9 urls in page 12 gotten for NIGERIA\n",
      "INFO:root:10 urls in page 13 gotten for NIGERIA\n",
      "INFO:root:10 urls in page 14 gotten for NIGERIA\n",
      "INFO:root:10 urls in page 15 gotten for NIGERIA\n",
      "INFO:root:10 urls in page 16 gotten for NIGERIA\n",
      "INFO:root:9 urls in page 17 gotten for NIGERIA\n",
      "INFO:root:10 urls in page 18 gotten for NIGERIA\n",
      "INFO:root:10 urls in page 19 gotten for NIGERIA\n",
      "INFO:root:9 urls in page 20 gotten for NIGERIA\n",
      "INFO:root:9 urls in page 21 gotten for NIGERIA\n",
      "INFO:root:10 urls in page 22 gotten for NIGERIA\n",
      "INFO:root:10 urls in page 23 gotten for NIGERIA\n",
      "INFO:root:10 urls in page 24 gotten for NIGERIA\n",
      "INFO:root:10 urls in page 25 gotten for NIGERIA\n",
      "INFO:root:9 urls in page 26 gotten for NIGERIA\n",
      "INFO:root:10 urls in page 27 gotten for NIGERIA\n",
      "INFO:root:10 urls in page 28 gotten for NIGERIA\n",
      "INFO:root:9 urls in page 29 gotten for NIGERIA\n",
      "INFO:root:8 urls in page 30 gotten for NIGERIA\n",
      "INFO:root:6 urls in page 31 gotten for NIGERIA\n",
      "INFO:root:10 urls in page 32 gotten for NIGERIA\n",
      "INFO:root:10 urls in page 33 gotten for NIGERIA\n",
      "INFO:root:10 urls in page 34 gotten for NIGERIA\n",
      "INFO:root:8 urls in page 35 gotten for NIGERIA\n",
      "INFO:root:8 urls in page 36 gotten for NIGERIA\n",
      "INFO:root:10 urls in page 37 gotten for NIGERIA\n",
      "INFO:root:10 urls in page 38 gotten for NIGERIA\n",
      "INFO:root:7 urls in page 39 gotten for NIGERIA\n",
      "INFO:root:9 urls in page 40 gotten for NIGERIA\n",
      "INFO:root:10 urls in page 41 gotten for NIGERIA\n",
      "INFO:root:10 urls in page 42 gotten for NIGERIA\n",
      "INFO:root:9 urls in page 43 gotten for NIGERIA\n",
      "INFO:root:9 urls in page 44 gotten for NIGERIA\n",
      "INFO:root:6 urls in page 45 gotten for NIGERIA\n",
      "INFO:root:10 urls in page 46 gotten for NIGERIA\n",
      "INFO:root:10 urls in page 47 gotten for NIGERIA\n",
      "INFO:root:10 urls in page 48 gotten for NIGERIA\n",
      "INFO:root:10 urls in page 49 gotten for NIGERIA\n",
      "INFO:root:10 urls in page 50 gotten for NIGERIA\n",
      "INFO:root:9 urls in page 51 gotten for NIGERIA\n",
      "INFO:root:9 urls in page 52 gotten for NIGERIA\n",
      "INFO:root:9 urls in page 53 gotten for NIGERIA\n",
      "INFO:root:8 urls in page 54 gotten for NIGERIA\n",
      "INFO:root:10 urls in page 55 gotten for NIGERIA\n",
      "INFO:root:10 urls in page 56 gotten for NIGERIA\n",
      "INFO:root:10 urls in page 57 gotten for NIGERIA\n",
      "INFO:root:10 urls in page 58 gotten for NIGERIA\n",
      "INFO:root:10 urls in page 59 gotten for NIGERIA\n",
      "INFO:root:9 urls in page 60 gotten for NIGERIA\n",
      "INFO:root:10 urls in page 61 gotten for NIGERIA\n",
      "INFO:root:8 urls in page 62 gotten for NIGERIA\n",
      "INFO:root:10 urls in page 63 gotten for NIGERIA\n",
      "INFO:root:10 urls in page 64 gotten for NIGERIA\n",
      "INFO:root:10 urls in page 65 gotten for NIGERIA\n",
      "INFO:root:10 urls in page 66 gotten for NIGERIA\n",
      "INFO:root:10 urls in page 67 gotten for NIGERIA\n",
      "INFO:root:9 urls in page 68 gotten for NIGERIA\n",
      "INFO:root:10 urls in page 69 gotten for NIGERIA\n",
      "INFO:root:9 urls in page 70 gotten for NIGERIA\n",
      "INFO:root:10 urls in page 71 gotten for NIGERIA\n",
      "INFO:root:8 urls in page 72 gotten for NIGERIA\n",
      "INFO:root:8 urls in page 73 gotten for NIGERIA\n",
      "INFO:root:9 urls in page 74 gotten for NIGERIA\n",
      "INFO:root:6 urls in page 75 gotten for NIGERIA\n",
      "INFO:root:10 urls in page 76 gotten for NIGERIA\n",
      "INFO:root:10 urls in page 77 gotten for NIGERIA\n",
      "INFO:root:10 urls in page 78 gotten for NIGERIA\n",
      "INFO:root:8 urls in page 79 gotten for NIGERIA\n",
      "INFO:root:9 urls in page 80 gotten for NIGERIA\n",
      "INFO:root:9 urls in page 81 gotten for NIGERIA\n",
      "INFO:root:9 urls in page 82 gotten for NIGERIA\n",
      "INFO:root:10 urls in page 83 gotten for NIGERIA\n",
      "INFO:root:10 urls in page 84 gotten for NIGERIA\n",
      "INFO:root:9 urls in page 85 gotten for NIGERIA\n",
      "INFO:root:8 urls in page 86 gotten for NIGERIA\n",
      "INFO:root:10 urls in page 87 gotten for NIGERIA\n",
      "INFO:root:9 urls in page 88 gotten for NIGERIA\n",
      "INFO:root:10 urls in page 89 gotten for NIGERIA\n",
      "INFO:root:10 urls in page 90 gotten for NIGERIA\n",
      "INFO:root:9 urls in page 91 gotten for NIGERIA\n",
      "INFO:root:9 urls in page 92 gotten for NIGERIA\n",
      "INFO:root:10 urls in page 93 gotten for NIGERIA\n",
      "INFO:root:10 urls in page 94 gotten for NIGERIA\n",
      "INFO:root:10 urls in page 95 gotten for NIGERIA\n",
      "INFO:root:10 urls in page 96 gotten for NIGERIA\n",
      "INFO:root:10 urls in page 97 gotten for NIGERIA\n",
      "INFO:root:10 urls in page 98 gotten for NIGERIA\n",
      "INFO:root:9 urls in page 99 gotten for NIGERIA\n",
      "INFO:root:9 urls in page 100 gotten for NIGERIA\n",
      "INFO:root:935 stories found for NIGERIA category\n",
      "INFO:root:Writing articles to file...\n",
      "INFO:root:Writing articles for HOME category...\n",
      "INFO:root:Successfully wrote story number 1\n"
     ]
    },
    {
     "name": "stdout",
     "output_type": "stream",
     "text": [
      "Ground go shake on Sunday October 24, 2021 wen Manchester United jam Liverpool for Old Trafford for Premier League. Di two teams dey come into dis game afta dia midweek Champions League victories. Liverpool beat Atletico Madrid 3-2 for Spain and United beat Atalanta wit di same score line. Dis na everything you need to know ahead of di league match between di two most successful clubs for England. You see Manchester United performance wey dem come back from two goals  down against Atalanta and win 3-2 on Wednesday na di summary of how di team be under dia manager Ole Gunnar Solskjaer.  Dem fit play badly for some games and di next minute dem dey hard to stop. Dat na wetin BBC football sabi pesin Mark Lawrenson tok  If to say United lose dat game den e for be bonus for Liverpool but, instead di two teams moral dey high going into di weekend match. Although United fit dey under more pressure to get positive result, because dem don drop points for each of dia past three league games, but draw no go be bad result for either camp and dat na wetin I dey go for. Liverpool no go change di way dem dey play - dem no fit. And na di reason wey I feel say United go dey defensive because, if dem dey open, you go fear di worst for them. Lawro prediction: 1-1 Di game go start by 4:30pm West African time and e go dey live for Supersports on DSTV if you dey reason to watch am for Nigeria and Ghana. Di two clubs don meet 201 times, United don win 81 times against Liverpool. And dem don share points on 58 occasions and Liverpool don win 68 times. Last season, di two teams face each oda twice for Old Trafford. for January, di Reds beat di Merseyside club 3-2 for di Emirates FA Cup, na Mason Greenwood, Marcus Rashford and Bruno Fernandes score di goals.  But for league, na Jurgen Klopp men na im celebrate di three points, Dem win 4-2 for Theatre of Dreams. Cristiano Ronaldo fit make im first United appearance against di Anfield club since 2009 on Sunday.  Ronaldo get good record for dis fixture. In eight appearances against Liverpool before im move go Real Madrid, Ronaldo don score twice and assist two too. Di two goals came for im last two matches against Liverpool for Old Trafford.\n"
     ]
    },
    {
     "name": "stderr",
     "output_type": "stream",
     "text": [
      "INFO:root:Successfully wrote story number 2\n"
     ]
    },
    {
     "name": "stdout",
     "output_type": "stream",
     "text": [
      "Court gatz decide weda Nnamdi Kanu dey guilty to insult Nigeria President. Kanu dey accused say e call President Muhammadu Buhari \"paedophile, terrorist, idiot and embodiment of evil\". Dis na one of di amended charges federal goment nack detained leader of di Independent People of Biafra [IPOB] on Thursday. Nigeria goment, inside di second count against di Ipob leader say; \"Kanu allegedly use im radio broadcast [Radio Biafra] from London abuse Nigeria President Muhammdu Buhari wen im call am names. Dis, according to di federal goment mean say e don commit criminal offence. E dey against Section 375 of di Criminal Code Act, Cap C. 77, Laws of di Federation of Nigeria 2004, di goment tok. Nnamdi Kanu wey appear for Court on Thursday say im no dey guilty of di new amended charges. Di court sitting for Abuja na to continue di trial of alleged acts of terrorism and treasonable felony wey goment bin first sama di Biafra activist. On Monday 18 October tori bin come out say Nigeria federal goment don file amended charges against Nnamdi Kanu. Na court get di final interpretation of di law.  However, see wetin di law inside Nigerian Criminal Code tok on dis matter. Chapter 33 Section 373, 374,375, 376 of di Nigerian Criminal Code Act bin tok about Defamatory mata. Defamatory mata or defamation na when something dey \"likely to injure di reputation of any pesin. And expose di pesin to hatred, contempt, ridicule or likely damage di pesin for im profession or trade and spoil im reputation for public.\" Defamation fit be wetin pesin tok or write wey no be true about another pesin wey lead to harm, make pipo hate or spoil di pesin parole for public. Subject to di provisions of di chapter, \"any pesin wey publish any defamatory mata wey be false dey guilty of misdemeanour plus dey liable to two years imprisonment.\" Omoyele Sowore - Nigeria goment bin charge activist Omoyele Sowore go court for  \"conspiracy to commit treason\" and \"insulting\" President Muhammadu Buhari. Di goment accuse Sowore say e grant interview wey cause insult to di presidnet. Aminu Alilu, one Chief State Counsel for di Department of Public Prosecutions say Sowore commit treasonable felony wey dey against section 516 of di Criminal Code Act. Dis na for inside di charges wey dey signed on behalf of di Attorney-General of di Federation and Minister of Justice, Abubakar Malami (SAN). E alleged say e stage \"a revolution campaign on September 5, 2019 wey dey aimed at: Removing di President and Commander-in-Chief of the Armed Forces of di Federal Republic of Nigeria\". For May, 2020, Police for Katsina state, bin arrest three men on top accuse say dem allegedly insult President Muhammadu Buhari and di state govnor, Aminu Masari for inside one video wey bin go viral for social media. Di police for inside statement wey dem title 'Conspiracy and intentional insult against di President and Governor of Katsina state by one Lawal Izala and two odas on social media'. Police say di suspects confess to di crime and explain say di reason why im insult dem na afta e discover say suspected armed bandits attack im cows and  kill di shepherd wey dey herd di cows. March 2017, local tori report say Katsina Chief Magistrate Court sentence one man go nine months imprisonment because e insult and defame di character of di state governor Aminu Masari on top social media. Police lawyer, Isa Liti bin tell di court say di accused Gambo Saeed abuse Masari and call am names on top social media. \"He say di accused pesin post on social media say Gov. Masari na im influence di  impeachment of di Speaker of Katsina State House of Assembly, Aliyu Muduru.'' One Youth leader for Adamawa State, Ikamu Hamidu Kato bin chop two year in prison on top accuse say e insult President Muhammadu Buhari and di Secretary to di Government of di Federation, Boss Mustapha. Justice Dimas Gwama of di Magistrates Court IV for Yola sentence am to jail or pay fine of N50,000. Kato wey come from di same local goment area wit di SGF bin allegedly condemn di insecurity for im area on top im Facebook page afta armed suspected Boko Haram members attack im area. Di youth leader allegedly describe President Muhammadu Buhari and Boss Mustapha as \"useless human beings\" e specifically call di SGF a \"Bastard and a Dog\" for di video e post on social media on 10th of July, 2021, wey go viral.\n"
     ]
    },
    {
     "name": "stderr",
     "output_type": "stream",
     "text": [
      "INFO:root:Successfully wrote story number 3\n"
     ]
    },
    {
     "name": "stdout",
     "output_type": "stream",
     "text": [
      "Court don find former South African policewoman Nomia Rosemary Ndlovu guilty of killing five of her relatives and her boyfriend. Na between 2012 and 2018 di six pipo die wit di help of one hitman. Di reason why she kill dem na so she fit profit from dia life-insurance money. Dem finally catch Ndlovu wey be 46 years afta di pesin wey she bin hire to kill her sister report her to police. Tori be say na next month dem go sentence her. Di court find Ndlovu guilty of attempted murder of her mother, Maria Mushwana, as well as insurance fraud afta she don already pocket an estimated 1.4m rand ($95,000; £69,000). During di three-month trial, di goment lawyer reveal how she arrange life and funeral insurance for her relatives and then kill dem. Di first pesin wey she kill na her cousin, Witness Madala Homu, for March 2012. Then her sister follow, Before she kill her boyfriend, niece and two nephews dem. Her last victim, Brilliant Mashego, die for January 2018. For most of di cases she hire hitmen to carry out di murders, but for 2013 na she herself poison and strangle her sister Audrey Somisa Ndlovu. Di murder series end afta she meet somebody to kill another of her sister and di sister five children for March 2018. Di man wey she hire inform di police, dem arrange one sting operation to record her tok about her plans, na wetin tori pipo Times Live news site report. Na dia dem hear Ndlovu dey speak about how she bin wan make dem burn di six of dem alive for dia house and add say she need di money, Times Live report. Throughout di trial, Ndlovu bin maintain say she dey innocent, she even accuse many of di 50 state witnesses of lying. But di goment lawyer produce evidence to show her relationship wit most of her victims before dia death and how she benefit after. \"Di accused na either di last pesin to see dem alive or di first to notice say dem dey miss,\" na so state advocate Riana Williams tell AFP news agency. \"She nominate herself as di beneficiary so as to cash in on life and funeral covers.\"\n"
     ]
    },
    {
     "name": "stderr",
     "output_type": "stream",
     "text": [
      "INFO:root:Successfully wrote story number 4\n"
     ]
    },
    {
     "name": "stdout",
     "output_type": "stream",
     "text": [
      "Nigeria goment don release report of di investigation dem carry out on Nnamdi Kanu and Sunday Igboho. Di leader of di proscribed Independent People of Biafra [Ipob] and Yoruba nation activists Sunday Adeyemo wey many pipo sabi as Sunday Igboho dey face case wit goment. Nigeria Minister for Justice, Abubakar Malami bin brief tori pipo for inside statement e title; \"Investigation Reports On Acts Of Terrorism And Allied Offences Perpetrated By Nnamdi Kanu And Report On the Sponsors And Financiers Of Sunday Igboho And Associates.\" E claim say di IPOB leader wey dey DSS custody since goment agencies re-arrest am for June 2021 dey accused of plenty crimes wey include inciting violence for di kontri. Malami also say dem don identify di sponsors of Yoruba activist, Sunday Igboho wey dey prison for Benin Republic since July 2021 dey await court ruling. One presidential ad-hoc committee wey Nigerian goment set up afta di re-arrest of Nnamdi Kanu na im carry out di investigation. Major sponsor of Sunday Igboho: Di minister of Justice tell tori pipo say dia investigation reveal say one federal law maker for di National Assembly na major financier of di Yoruba nation activist. Adesun International Concept Limited: One of Igboho company wey e dey allegedly use collect money from im sponsors. Amount e don collect: Igboho bin receive a total transfer sum of N127 million naira from im between 22nd October, 2013 and 28th September, 2020. Between March 2013 and 11th March 2021, di transactions dem record from im account na Two hundred and Seventy-three million, one hundred and ninety eight thousand, two hundred naira only. E get links wit Boko Haram and terrorism: Di Nigeria goment also say Igboho contribute money to fund terrorism for di kontri. E \"transfer ₦12 million to Abbal Bako & Sons. E say Abbal Bako & Sons and dia alleged promoter Abdullahi Umar Usman, na suspects for di on-going Joint Terrorist Financing Investigation for United Arab Emirates (UAE). \"Dis report show di link between separatists' agitation, terrorism financing and disruptions of peace inside di kontri,\" Malami tok. Key things wey di di report of di investigation discover about Nnamdi Kanu Di lawyers of Sunday Igboho and Nnamdi Kanu neva respond to dis fresh allegations on top dia customers head.\n"
     ]
    },
    {
     "name": "stderr",
     "output_type": "stream",
     "text": [
      "INFO:root:Successfully wrote story number 5\n"
     ]
    },
    {
     "name": "stdout",
     "output_type": "stream",
     "text": [
      "Nigeria Federal Goment say dem don identify di sponsors of Sunday Igboho. Minister of Justice, Abubakar Malami na im reveal di tori about di Yoruba Nation activist wey real name na Sunday Adeyemo. Malami on Friday for Abuja add say soon dem go reveal sponsors of Nnamdi Kanu, di Biafra Activist. One federal lawmaker allegedly dey among di biggest financiers of Igboho, na so Abubakar Malami tok. Malami, say na one committee wey Federal goment set-up identify how Igboho get money from 43 bank accounts, across nine banks. But Igboho or im lawyer dey yet to respond to dis allegations wey di Nigerian goment chief lawyer sama. Nnamdi Kanu also allegedly get hand for di EndSARS protest, di Nigerian Justice Minister add. Di Minister also tok say Adesun International Concept Limited na anoda company wey Igboho dey allegedly use collect money from im sponsors. Di Minister of Justice and Attorney General of di Federation, tok all dis for media briefing for Abuja.  According to di Minister, \"di federal goment don receive di report on financers of Adeniyi Sunday Adeyemo a.k.a Sunday Igboho. Di report reveal say Sunday Igboho na Director and signatory to Adesun International Concept Limited registered on 23rd April, 2010. Adesun International Concept Limited also get one Oladele Oyetunji and Aderopo Adeyemo as Directors. Igboho get a total transfer sum of ₦127 million naira from im financiers between 22nd October, 2013 and 28th September, 2020 through Adesun International Concept Ltd accounts. Di Nigeria goment also say Igboho contribute money to fund terrorism for di kontri. Abubakar Malami say investigation reveal say Adesun International Concept Ltd wey be Igboho company \"transfer ₦12 million to Abbal Bako & Sons. E say Abbal Bako & Sons and dia alleged promoter Abdullahi Umar Usman, na suspects for di on-going Joint Terrorist Financing Investigation for United Arab Emirates (UAE). \"Dis report show di link between separatists' agitation, terrorism financing and disruptions of peace inside di kontri,\" Malami tok. Details later.... just refresh dis page as we dey update am now.\n"
     ]
    },
    {
     "name": "stderr",
     "output_type": "stream",
     "text": [
      "INFO:root:Successfully wrote story number 6\n"
     ]
    },
    {
     "name": "stdout",
     "output_type": "stream",
     "text": [
      "Suspected bandits attack one train wey dey travel from Kaduna to Abuja road on Wednesday. Eyewitnesses don describe wetin dia eye see say na God save dem. Dis wan make di Nigeria Railway Corporation to suspend train services across di kontri due to security concerns. NRC make di announcement on dia website on Thursday afternoon afta reports of anoda on anoda train wey dey travel along di same route. Details of di attack never dey clear, but reports say di bandits use explosive for di attack on di train. Pictures from di incident show di badly damaged train with broken glasses and holes and di rail wey cut off. For inside one video wey don go viral, security personnel dey inspect di rail track where di incident hapun. For inside di video, one voice dey say \"dis na complete cut-off, na only God save us oh. look am, look am. Eyewitnesses say anoda attack happun on Thursday morning for train wey leave Abuja to Kaduna. Senator Shehu Sani wey be one of di passengers wey use di train from Abuja to Kaduna on Thursday morning give account of wetin hapun ontop im twitter page.  \"Yesterday bandits attack di Kaduna-Abuja train. Dem plant explosive wey damage di rail track and scata di windshield of di train engine. Dem also open fire as dem target di driver and tank. E hapun between di Dutse and Rijana stations.\" Senator Sani tok. Di Senator say di driver struggle to move towards Kaduna Rigasa station. \"Dis early morning, I dey on board wen our run over anoda rail wey explosives damage, di train nearly run comot track, na by miracle we take escape.\" Senator Sani tok. For September 2020, train wey dey move from Abuja to Kaduna come under serious attack and passengers say dem hear gunshots as di train dey move. ASP Mohammed Jagile wey be tok-tok pesin for Kaduna Police Command bin comot to say na just some hoodlums throw stones at di train. For January 2020, anoda incident happun for Katari station (70km to capital Abuja) as some passengers complain of hearing gunshots on dia way to Abuja. Di Kaduna to Abuja rail na di only active rail wey connect Nigerian capital Abuja to di seven northwest states. Many Nigerians wey dey travel to Abuja from Katsina, Sokoto or any of di northwest states dey travel to Kaduna by road and from dia enter train to Abuja to avoid Kaduna road wey get many security wahala. President Muhammadu Buhari commission di train services on 26th July 2016 and e come at a time wey many pipo dey try avoid regular road due to kidnappings and banditry wey dey happun so dis reason make plenty pipo to prefer di train. For many pipo, dis suspension go put dem inside big wahala as per say some no fit afford to fly to Abuja from some of di northern states and dem also no wan follow di problematic Kaduna road wey don see plenti kidnappings in recent years including di recent one wey involve Emir of Bungudu town. Isa Sanusi suppose travel to Abuja by weekend from Kano state but e tell BBC Pidgin say e just dey tink of how to go about im journey considering na train e dey always use from Kaduna-Abuja. \"Usually when I dey travel to Abuja, I dey use my car drive to Kaduna from dia I park my car for my friend house den follow train to Abuja but now with dis suspension, I just dey tink how e go be on Saturday because I dey fear to follow Kaduna-Abuja road.\" E tok.\n"
     ]
    },
    {
     "name": "stderr",
     "output_type": "stream",
     "text": [
      "INFO:root:Successfully wrote story number 7\n"
     ]
    },
    {
     "name": "stdout",
     "output_type": "stream",
     "text": [
      "US surgeons say dem don successfully give pig kidney to one human for transplant breakthrough. And dem hope say dis go later solve donor organ shortages.  The Di recipient dey brain-dead, meaning dem don already dey on artificial life support wit no hope say e go recover.  Di kidney bin come from one pig wey dem don genetically modify to stop di organ wey di body dey recognise as \"foreign\" and e don reject.  Dem neva review di work wit dia peer or publish am but dem get plans for dis. Experts say dis na di most advance experiment for di field so far.  Dem don already carry out dis kain test on non-human primates, but no be pipo, until now.  To use pigs for transplants no be new idea though. Humans don already dey widely use Pig heart valves. And dia organs na good match for pipo wen it comes to size.  During di two-hour operation for di New York University Langone Health medical centre, di surgeons connect di donor pig kidney to di blood vessels of di brain-dead recipient to see if e go function normally once dem put am in or e go reject am. Over di next two-and-a-half days dem go closely monitor di kidney, running plenti checks and tests.  Lead investigator Dr Robert Montgomery tell di BBC World Tonight programme: \"We observe one kidney wey basically dey function like one human kidney transplant, wey appear to dey compatible in as much as e dey do all di tins wey normal human kidney go do. \"E function normally, and e no appear to dey undergo rejection.\" One heart transplant recipient imself, Dr Montgomery say e get urgent need for finding more organs for pipo on waiting lists, although he acknowledge say im work dey controversial. \"Di traditional paradigm say pesin need die for someone else to live no go ever keep up.  \"I certainly understand di concern and wetin I go say be say, currently about 40% of patients wey dey wait for transplant die before dem receive one.  \"We use pigs as a source of food, we use pigs for medicinal uses - for valves, for medication. I think e no really dey different.\" Im tok say na still early research and dem go need more studies , but im add: \"E gives us, I think, new confidence say e go dey all right to move dis into di clinic.\" Di family of di recipient, wey be wan do organ donor, give di permission for di surgery to go ahead.  US regulator di FDA don approve di use of di genetically modified pig organs for dis type of research use.\n"
     ]
    },
    {
     "name": "stderr",
     "output_type": "stream",
     "text": [
      "INFO:root:Successfully wrote story number 8\n"
     ]
    },
    {
     "name": "stdout",
     "output_type": "stream",
     "text": [
      "Newcastle United Premier League game against Tottenham Hotspur for St James' Park go on pause for di 40th minute because of one medical emergency for di crowd. Referee ask both teams to comot di pitch before half time wey Spurs dey lead 2-1 as medics attend to di supporter for di East Stand. Nearby fans bin alert players and officials to di incident before dem suspend play. Na fans for di stands alert di referee and di players to wetin dey happen. Thousands of pipo for di stands bin dey whistle and wave dia arms and dey point, na only den di referee get say something dey hapun for di stands. Di players come den call urgently for di medical staff to come over. BBC tori pesin add say di players bin line up for a corner, but di noise from di fans to get di players' and referees' attention quickly show how serious di mata be and bring di game to a pause. \"I see someone dey administer heart massage for di stand, and Eric Dier run go di bench to make sure say dem deliver defibrillator as soon as possible.\" E tok. Di players later come out to play di remaining seven minutes of di half. Di game end 3-2 against Newcastle.\n"
     ]
    },
    {
     "name": "stderr",
     "output_type": "stream",
     "text": [
      "INFO:root:Successfully wrote story number 9\n"
     ]
    },
    {
     "name": "stdout",
     "output_type": "stream",
     "text": [
      "Some Nigerians gada on for Lekki tollgate on Wednesday to remember wetin happun during di nationwide End Sars protest wey rock Nigeria for 2020.\n"
     ]
    },
    {
     "name": "stderr",
     "output_type": "stream",
     "text": [
      "INFO:root:Successfully wrote story number 10\n"
     ]
    },
    {
     "name": "stdout",
     "output_type": "stream",
     "text": [
      "Manager Steve Bruce don leave Newcastle United by mutual consent just 13 days afta Saudi Arabia owners buy di club. Bruce bin coach im 1,000th game with di club on Sunday wen Tottenham beat dem 3-2. Dat game na di only game wey im coach Newcastle under di new owners. For now na Graeme Jones go take over as di manager of di club. Newcastle don start \"to dey find new head coach\" and dem go make di announcement soon. Dis na as di Tyneside club neva win any Premier League game since dis season start and dem now dey second to last for di table afta eight games. Bruce wey be 60 years old, bin dey appointed as di Magpies manager for July 2019. For di two full seasons wey im run di club, dem finish 13th and 12th for table. Bruce tok say \"I dey grateful to every pesin wey get link to Newcastle United for di opportunity I get to manage dis kain unique club. \"I go like thank my coaching team, di players and support staff, gan-gan for dia kard work. \"Highs and Lows bin dey but dem give evritin wey dem get even wen e hard and dem suppose dey proud of dia efforts. \"Dis na club wey get ogbonge support and I hope di new owners go carri am go front to wia we want am to be. I wish everibodi di best for id rest of di season and beyond.\" Newcastle for statement tok say, di club \"go like go on record to thank Steve for im contribution and wish am well for di future\".\n"
     ]
    },
    {
     "name": "stderr",
     "output_type": "stream",
     "text": [
      "INFO:root:Successfully wrote story number 11\n"
     ]
    },
    {
     "name": "stdout",
     "output_type": "stream",
     "text": [
      "\"Afta I drink garri train Joy for University now wey she don finish to epp me, dem kill am\" dis na wetin joy mama yarn BBC Pidgin on top di death of her pikin. 49 -year- old Grace Onoh wey be widow for 12 years  say all her hope don dabaru and her world don crash to pieces. \" All our hope bin dey on her but as e dey now, I no know wia to start from for dis life again\" she explain. Police on Wednesday 20th October, find Joy deadi bodi for ground around Federal Housing for North Bank area of Makurdi, afta she leave house to go deliver six turtleneck shirts to one customer for di area. Joy start di online business two months ago wit di business name Sparklight Collectibles to raise moni to pay her outstanding school fees for Benue State University. Who be Joy Israel Onoh? 24-year-old Joy Onoh come from Enugu state, for Nigeria southeast but her parents don live for Makurdi di Benue state capital for about 21 years now. She attend NUJ pen Nursery and Primary School and later go Anglican Secondary School.  Her  dream na to become ogbonge journalist for Naija, so she  decide to go read Mass Communication for Benue State University and she graduate last year. Joy na di first child among three pikin dem, but tins come dey rough for di family wen dia papa die  12-years ago. Tins bad sotey she no fit feed dia pikin or pay dia school fees and so di oda pikin dem gatz drop out of school so dat from her little moni, she fit train Joy wit hope say if she finish school start work, she go den train her oda sister and broda dem. \"Di suffer wey I suffer to ensure say I support her for school no get part two\". \"Sometimes wey moni no dey I go borrow moni from pipo just to make sure say she no drop out\" Grace tok She say she neva know how to cope wit di tragedy and dat di future of di oda two still dey hang for air. Wetin Really Happun and how joy allegedly die According to her sister, Cynthia Israel Onoh, Joy bin get order online for six turtle neck shirts. Di customer bin demand for three red and three green colour but Joy tell dem say she no get those colours all, but she go bring dem oda fine colours wey dem go like. On Tuesday, 19th of October, she ask di customer to send dia address in di morning, but dem no send until around 5pm. So wen di customer send di address, she tell her mama to leave her hair wey she bin dey plait so dat she go deliver di shirt sharp-sharp and den come back  Each of di shirt di cost 2,000 naira. Joy bin cari di shirts dem on credit from pipo wey di sell wholesale for di rate of 1500 and den add 500 as her own profit. Around 7 pm wen her family discover say she neva come back from business, dem begin call her line-but she no pick. Di sister come call wit her own line and wen she pick, she discover say her voice be like pesin wey don dey cry tey-tey.  Cynthia say she ask her wia she dey, she refuse to tok and later tell her say she go explain to her later. Afta a few minute, she call back and ask her sister and best friend make dem send her UBA account details. Na dia according to di sister, dem sense say something dey wrong wit her - dem come rush go nearby Police station to report di mata but police say e must reach 24 hours if dem no see am before dem go take action. Di only option wey di family get at di time according to Cynthia, na to begin pray and kontinu to call di line but e bin no go through. But on Wednesday morning, one of dia friends come call dem to inform dem say dem see her bodi for ground without blouse. \"I dey very disappointed for di way wey dem take kill my sister,\" Cynthia tok. \"She bin dey only hustle to try pay her school fees. Joy na beta pesin and my role model. \"I neva fit believe say she don die, I still dey hope for miracle.\" Police Investigation Benue State Police Command say dem don begin investigate di mata. Di police tok-tok pesin, Catherin Anene say wem dem bin find Joy deadi bodi e no get any mark of violence and dem don cari am go mortuary. Although some local media report say dem rape her, madam Catherine say she neva get di autopsy report to confirm wetin really kill her. She also say di Police go do everything to fish out those wey commit di crime.\n"
     ]
    },
    {
     "name": "stderr",
     "output_type": "stream",
     "text": [
      "INFO:root:Successfully wrote story number 12\n"
     ]
    },
    {
     "name": "stdout",
     "output_type": "stream",
     "text": [
      "Real Madrid striker Karim Benzema dey go on trial in France. Im chop accuse of attempt to blackmail im fellow footballer Mathieu Valbuena ontop one sex tape e see for im phone. Im don ridicule di charge against am as \"masquerade\" and im no appear for court for Versailles. Di case don start since June 2015, wen di two footballers bin dey for France training camp. Di saga cause palava for French football sotee both players lose dia team places. Karim Benzema, 33, don since return to di France team and score during Real Madrid victory for Kyiv on Tuesday for di Uefa Champions League. Im dey on trial wit four other men wey chop accuse of trying to blackmail Oga Valbuena, wey tell court on Wednesday say football na im life.  \"I sabi say if di video comot e go make tins difficult wit di French team,\" im tok. Di sex tape mata start for 2015 wen Oga Valbuena, now 37, ask one man for Marseille, Axel Angot, to upload di contents of im mobile phone to one new device. Oga Angot find sexually explicit material on di phone, and im and anoda defendant for di trial, Mustapha Zouaoui, come later chop accuse say dem dey try to blackmail Oga Valbuena by threatening to make di tape public. Oga Zouaoui tell reporters say im don share di tape, but e bin no attempt to extort money.  Mathieu Valbuena say anoda defendant, Younes Houass,bin come meet am and im tell court say di player dey act as if notin dey happun and im don warn am of di seriousness of di issue, without asking for money. Wen di footballer later meet police, dem give am one undercover agent named Luka di task of negotiating on im behalf. Dem accuse di defendants of approaching one childhood friend of Oga Benzema wey im name be Karim Zenati. For October 2015 di Real Madrid striker approach im fellow France player for im room for di national team training camp. Oga Benzema say im bin just try to help im team-mate get rid of di compromising video, warn am: \"Be careful, Math, dem be big, big thugs.\"  Im come offer to connect am wit pesin wey im fit trust - im childhood friend, Oga Zenati. By dis time, police don tap into dia phone calls and record Oga Benzema dey tell im childhood friend: \"Im no dey take us seriously.\"  Oga Zenati come reply: \"We dey here to sort am out; if im no want dat we go need deal wit di piranhas.\" Meanwhile, Oga Valbuena don already tell im family about di video for im phone. Wen im dey give evidence for di start of di trial, Mathieu Valbuena say im never consider handing over money to stop di video from getting out. Di defence lawyers don already argue say police dey wrong to use undercover agent and say di agent push di defendants to demand money. But French courts throway di lawyers' objections to police methods for 2018.  Di trial go continue till di end of di week, as four defendants dey face charges of attempted blackmail and Karim Benzema chop accuse of complicity.  Di maximum sentence for complicity na attempted blackmail for five years for jail and a €75,000 (£63,000) fine.\n"
     ]
    },
    {
     "name": "stderr",
     "output_type": "stream",
     "text": [
      "INFO:root:Successfully wrote story number 13\n"
     ]
    },
    {
     "name": "stdout",
     "output_type": "stream",
     "text": [
      "Barbados don elect dia first ever president as im prepare to become a republic. Di eastern Caribbean island remove Queen Elizabeth as head of state on Wednesday 20 October, 2021. Dame Sandra Mason, 72, dey set to be sworn in on 30 November. Dat na wen Barbados go mark dia 55th anniversary of independence from Britain. She be di first woman to serve as judge for di Barbados Court of Appeals.  Dame Sandra don be di governor-general since 2018. Dame Sandra begin her career as a teacher for di Princess Margaret Secondary School. She later become clerk for Barclays Bank DCO, Barbados and gain promotion to become Trust Administrator for di bank. For 1978, Dame Sandara begin work as di Magistrate of di Juvenile and Family Court and also dey family law for UWI.  Dame Sandra stop to dey teach for 1983 and continue as magistrate until 1992. Dem swear as an Appeals Judge and become di first woman to serve on di Barbados Court of Appeals. On 1 January 2014, she be di first Barbadian to be appointed as member of di Commonwealth Secretariat Arbitral Tribunal, based in London, England. On di recommendation of di Queen, Sandra Prunella Mason become di eight Governor-General of Barbados from January 2018  Barbados government announce di plan to move to a republic status last year. Dem tok say \"di time [don] come\" for Barbados to \"fully leave our colonial past behind\". One constitutional review for 1998 don already recommend di change. Di historic election come afta one joint session of tdi House of Assembly and di Senate on Wednesday. Prime Minister Mia Mottley describe di vote as a \"seminal moment\" for di nation. Wit a population of about 285,000, Barbados na one of di more populous and prosperous Caribbean islands.  Once heavily dependent on sugar exports, its economy has diversified into tourism and finance. Barbados no be di first former British colony for di Caribbean to become a republic.  Guyana take di step for 1970, less than four years afta dem gain independence from Britain.  Trinidad and Tobago follow suit for 1976 and Dominica for 1978.\n"
     ]
    },
    {
     "name": "stderr",
     "output_type": "stream",
     "text": [
      "INFO:root:Successfully wrote story number 14\n"
     ]
    },
    {
     "name": "stdout",
     "output_type": "stream",
     "text": [
      "23-year old Sandile Shezi wey dey call himself South African youngest millionaire don chop arrest by police. Gauteng police tok-tok pesin Mavela Masondo say Shezi hand himsef over in di presence of im lawyers on Wednesday. Di police charge am wit fraud but im don deny di accuse. \"I fit confirm say we [police] don arrest am. Im go appear for Randburg magistrate court tomorrow [Thursday] on charges of fraud,\" na so police tok-tok pesin Masondo tok. Shezi, wey come from Durban, dey face charges for allegedly defrauding im business partner and shareholder for im business Global Forex Institute [GFI] out of R500,000 (approximately $34,264). Di police bin issue warrant of arrest earlier dis month for Shezi, wey reportedly be South Africa \"youngest millionaire\". Sandile Innocent Shezi wey be self-professed 'young millionaire' na South African businessman wey dey into Forex trading. Im passion for trading according to am \"start at very tender age wen im bin dey save money from friends to trade\". Di young South African na major shareholder for im business Global Forex Institute wey dey train pipo to set up dia own trading platforms. According to am, di GFI aim to create environment wey go provide financial freedom. Im also dey run foundation wey dey known as di Sandile Shezi Foundation and im get more than 207,000 followers for Instagram.\n"
     ]
    },
    {
     "name": "stderr",
     "output_type": "stream",
     "text": [
      "INFO:root:Successfully wrote story number 15\n"
     ]
    },
    {
     "name": "stdout",
     "output_type": "stream",
     "text": [
      "Special Counsel to Nnamdi Kanu, leader of di Indigenous People Biafra, IPOB, don accuse di Attorney General of Nigeria Abubakar Malami of disrespecting di Federal High Court and presenting allegations without evidence against im client. Kanu lawyer, Aloy Ejimakor dey respond to Malami recent revelations wey sama di IPOB leader fresh allegations of violent attacks and including accuse of killings across di kontri. Di latest allegations from di attorney general of di federation and minister of justice come a day afta Kanu show for court and plead not guilty to some new allegations goment bin sama am. Among di latest allegations from Nigeria goment na say Nnamdi Kanu take advantage of di October, 2020 End Sars protests to incite pipo to cause violence for di kontri. Dem add say Nnamdi Kanu, IPOB members and End Sars protesters allegedly attack and kill many security agents. But Ejimakor dismiss di allegations say e no get head. \"E dey quite surprising say a day afta di hearing, di Attorney General see di occasion to address press conference wey dey different from wetin hapun for court. Di Attorney General suppose dey reminded say despite say e dey do two roles under di Nigerian constitution, e also be di Attorney General of everybody. Im job no be regime protection, na to uphold di law and see say every Nigerian citizen and even foreigners wey find demsefs for Nigeria get justice.  Wetin e be like say e dey tok on Friday na say witch cry for night and di baby die in di morning so therefore di witch na im kill di baby, e read all these allegations without substance, e no present any evidence. Den e get dis particular one concerning di End Sars protest wey e reference say MNK cause or control am.  Different commission of enquiries hapun across di kontri, particularly in Lagos, for Imo state too and nothing from any of dis commission of enquiries indict Nnamdi Kanu or IPOB afta di End Sars protest so daat accusation dey in bad faith and e dey intended to poison di minds of di public and prejudice di mind of di court, we dey study di content to see if any legal reaction go come from our side.\" E tok. Ejimakor also accuse di attorney general of not keeping to di rules of di court and subjecting bim client to media trial. \"Dis mata dey subjudice. If di attorney general no wan keep to di rules of subjudice, dis na mata before di court, if e get any evidence say our client get hand for any wrong-doing or criminality, e suppose know better dan anybody else say di proper place to present such evidence na for court and not to call press conference so if di attorney general dey play dat game, e dey disrespect di federal High Court and I no go do di same, I go wait for am for court.\" Anoda allegation wey di attorney general present na say Nnamdi Kanu get hand for di killing of prominent Nigerians including; killings of traditional leaders, Dr Chike Akunyili and APC Chieftain Ahmed Gulak on 30th May. 2021. But di lawyer say: \"For di proof of evidence wey di attorney general file before di Federal High Court, none of dis tins dey dia. Notin wey e tok yesterday dey di proof of evidence before di federal High court as at 21st October.  ‘Nnamdi Kanu order im men to behead me and kill my children’ – Joe Igbokwe‘Nigeria goment kidnap Nnamdi Kanu and dem suppose apologise to Sunday Igboho’ I tink di best place to address dis allegations if e get any evidence na di court room, to come to Nigerians to address allegations wey no dey court I think say e dey improper.\" E add. On if Kanu support election to hapun for Anambra state on di 6th of November, Ejimakor say: \"Wetin concern my client now na dis question - say di federal republic of Nigeria don lose her authority to try am for court because of di extra-ordinary rendition and dis na wetin e dey face right now.\"  Nnamdi Kanu show for court on Thursday, October 21, for im trial to ansa to di charges wey Nigeria goment nack for im head. Dis na one of di tins pipo bin dey expect to see afta di trial of Kanu fail to hold sake of say DSS no carry am come court on July 26 to ansa to charges of alleged acts of terrorism and treasonable felony. Kanu lawyer also tok about im appearance for court dat day. \"I no see any any remarkable difference between di Nnamdi Knau of old and di one I see on di 21st of October, di only tin of concern wey I see na say e don lose a lot of weight. I tink say everybody notice dat one, I tink say di condition of im detention for Nigeria get hand for how e loss weight wey be sometin wey dey restrictive and uncomfortable and very degrading and I tink also e show wetin e pass through for Kenya wen dem rendition am dia for late June 202 .\" Ejimakor tok. Meanwhile, di fresh allegations federal goment bring against di IPOB leader include say e get hand for di killing of One hundred and seventy-five (175) security personnel wey IPOB/ESN kill. Dem also accuse IPOB/ESN of attacking and causing destruction for Palace of the Oba of Lagos, kontri home of Govnor Hope Uzodinma, burning of 150 buses for Lagos Bus Terminal, Sen. Ndoma Egba house for Calabar Municipal, Cross River State, lus alleged attack by IPOB/ESN on Nigerian Correctional Service, including di Headquarters of NCoS, Owerri, Imo State wia 1,841 inmates escape.\n"
     ]
    },
    {
     "name": "stderr",
     "output_type": "stream",
     "text": [
      "INFO:root:Successfully wrote story number 16\n"
     ]
    },
    {
     "name": "stdout",
     "output_type": "stream",
     "text": [
      "Benin lawmakers don vote to legalise abortion for di kontri as dem expand di restricted practice wey already dey allowed. Under di new law women fit now end dia pregnancy within di first three months for cases where e fit \"increase or cause material, educational, professional or moral distress, wey no go well wit di woman or di unborn child interest\". Before, abortion bin only legally dey allowed for limited situation like rape or incest cases, or if di mother life dey in danger. E dey also allowed for cases where di unborn child health go dey severely affected. Di new law, wey dem pass on Wednesday night afta one serious debate for parliament, still need to go through constitutional court before e take effect. Di kontri Health Minister, Benjamin Hounkpatin praise di new law, e say e go reduce pain for many women wit unwanted pregnancies wey \"find say dem must risk dia lives by using unsafe abortion methods\". \"In Benin, nearly 200 women die each year from abortion gbege,\" e tok. E add say di complications from abortions be di cause of 20 percent of maternal deaths in di kontri. Di new measure \"unique goal\" na to \"save human lives\" and \"voluntary termination of pregnancy go remain one last resort\" e also add. Four out of 54 African kontris no get restrictions for abortion but wit gestational limits.\n"
     ]
    },
    {
     "name": "stderr",
     "output_type": "stream",
     "text": [
      "INFO:root:Successfully wrote story number 17\n"
     ]
    },
    {
     "name": "stdout",
     "output_type": "stream",
     "text": [
      "Popular Nigerian singer Tiwa Savage wey don dey di news since last week don dey trend again sake of wetin she tell her allege blackmailers on top one sex video matter wey don dey cause katakata. For inside post wey she put for social media, Tiwa savage bin tell di pipo wey dey behind di sex video say dem hate her sake of say she take di matter wey dem wan take destroy am joke for stage. Last week, Tiwa Savage bin tok for one interview for The Angie Martinez show - for New York Power 105.1 fm. say e get some pipo wey dey try blackmail her over one allege sex tape and she don decide to call dia bluff as she no go pay dem shishi. Tiwa savage say she don dey able to control di gbege since she don come out to tok about am. But e be like say di allege blackmailer no too like di move as dem release one video on Monday evening as di so called sex video but e never dey clear whether na Tiwa Savage dey inside di video or not as BBC Pidgin never confam di originality. Tiwa bin write for di post say: \"You hate how I dey able to control di narrative and get ahead of one story before e consume me and how i dey able to joke on stage about something you bin think say suppose destroy me and make me feel ashame.\" \"You must knock my head wen you see me otherwise…,\" she post. Di Nigerian Afropop queen, bin also tok on stage during one show for Lagos say \"nobody go ever see di sex tape\". Tok of di so called sex video don full for mouth of Nigerians as di matter trend number one for Nigerian Twitter on Tuesday. Tiwa Savage burst for di Nigerian music scene for 2011 to catch dia attention with di gbedu wey dem call Kele Kele Love. E feature love song wey Nigerians bin enjoy, she follow dat one wit plenti love gbedu wey include Love me, Love Me, Ife Wa Gbono. And she also sing 'Don't Leave without my heart' wey she do with producer, Don Jazzy. Then for 2013, she cari her tent pitch am for Mavins Records wia she drop two ogbonge albums Once Upon A Time for 2013 and R.E.D for 2016. Na also for dia she get di name of Queen of Afrobeats. Outside music, she bin feature for di Health TV Series wey dem bin call Sugar and also be activists against rape cases dem. For May, 2020, Mama Jam-Jam (nickname of her pikin Jamil) port comot from Mavins to join Universal Music Group on an exclusive music deal wey go see her new music enta international market. And true to di contract, wen for August she drop her fourth studio album, Celia. E see two songs for di album, Dangerous Love and Korobba peak for No 2 and No 9 for Billboards. So far, Tiwa Savage don collabo with stars like Wizkid, Davido, Sam Smith, Beyonce, and Omarion.\n"
     ]
    },
    {
     "name": "stderr",
     "output_type": "stream",
     "text": [
      "INFO:root:Successfully wrote story number 18\n"
     ]
    },
    {
     "name": "stdout",
     "output_type": "stream",
     "text": [
      "Zayn Ali Salman na just four years old wen e catch di attention of one of di biggest football clubs for London, Arsenal FC. E go be di youngest pesin ever to train for di Arsenal pre-academy. One Arsenal Talent scout na im discover Zayn Salman as dem see am dey play wit pipo wey be twice im age and dey play very well. Oga of di Talent scout, Stephen Deans, say Zayn too sharp for im age wit di things wey e dey do. Im coach Austin Schofield tell BBC say dem put am wit children wey senior am for age, still e play pass dem. \"We put am wit im age range wey be 5, 6, 7 and e dey quick pass dem, e dey more willing to get di ball, di way e kick di ball, pass di ball, strike di ball, beta pass di oda children won.\" E tok. Zayn papa say na di day dem born am dem sabi say e dey different because e carry im head up and begin look around, something wey normal children no fit do. E add join say Zayn dey strong and e get unbelievable balance from im young age. Di youngest arsenal player say im dey always play wit children wey be seven and eight and e dey make am feel bad. Zayn add join say im best team na Arsenal.\n"
     ]
    },
    {
     "name": "stderr",
     "output_type": "stream",
     "text": [
      "INFO:root:Successfully wrote story number 19\n"
     ]
    },
    {
     "name": "stdout",
     "output_type": "stream",
     "text": [
      " \"As she dey waka come meet me for di front of her house, her waka dey slow. Her face no shine. She just dey untie and re-tie her wrapper. She smile small shake my hand as we greet. As she raise her eyes look me, I no fit tell if she dey her 50s or 60s.\"  Rose Abah no go school but she bin wan make her pikin - Ochanya get education. She no know say na dat decision go change her life forever. E don reach three years since Ochanya die and Rose say she no fit close her eye sleep for night. \"Ochanya death dey pain me well well. I dey tink di mata too much I don be like vegetable. You no see how I dey thin evriday? Even sef, if I chop, e no dey do beta tin for my bodi. I know say pikin dey die for pipo, but di way she take die, if I tink am, e dey too pain me.\" Dem born Ochanya Ogbanje for 2005 and she dey live with her parents and oda family members for Ogene-Amejo inside Benue state. She bi di last born of 11 children wey her parents born. She be 5 years old wen her mama, Rose and her papa Michael Ogbanje agree say e good make she go beta school.  \"Ochanya na peaceful child wey love book and she love school. She sabi book and she dey do well for school before death cari am comot for my hand,\" Rose tok. \"No be say school no dey for our community but di one wey dey get katakata wey make dem close am for 2011. E dey place wey no dey good for pikin dem to learn dat time. Na why we say make our pikin cari go Ugboloko\", na so Rose add. Ochanya mama na farmer and her papa don retire. Dem yarn say dem no get money like dat but dem no dey beg to chop. Dem tok say dem dey work wit dia hands take find food put for dem table. Dem don also tok say pipo wey dey spread rumour dat time say Ochanya go do house girl work na lie dem dey lie.  Na school Ochanya find reach her aunty Felicia Ogbuja house and e first be like say evri evri dey go on well for about 4 years until di mata begin get k-leg. Ochanya live wit di Ogbujas (Aunty Felicia plus her husband Andrew and five of dia pikin) for di same house for four years. She bin dey go school and epp wit house work. Wen she reach age 8, tori be say her cousin Victor allegedly begin rape am and wen Victor papa, Andrew Ogbuja wey be College lecturer for Benue State Polytechnic com know, e allegedly join am dey abuse di girl. \"Na for 2012, Ochanya sickness start. We carry am go hospital for Okpoga. Na for dia  we stay reach about six days and she get medical attention. As time pass, she begin dey feel well naim we waka go house. Later, di same sickness come back,\" na so Rose tok. Rose add say Ochanya no fit control her urine again as e begin dey comot her bodi just like dat and dis condition force am to wear diaper for four months but her condition no improve. She tell us say dem dey cari am go plenti hospital plus prayer house still dem no see result. \"I dey her bedside wen I see say she wan die. I no fit bear am again - My heart dey break and my life dey pieces, I no fit hold myself.  I run go one toilet for di ward make I no see am as she dey breathe for di last time\", na so Rose tok as she dey cry. As di mata don red and Ochanya sick well well, her parents tok say dem no want make she follow dem dey dia village wey no get beta hospital. So, dem cari her comot from di Ogbuja's house to Restorer of PathCare Foundation wey dey Otukpo. Caregiver wey also bi founder of di place, Enuwa Margaret Soo, begin torchlight di mata to see wetin cause Ochanya sickness. She follow news pipo - Pulse tok for 2018 wen she tell dem say \"for di time Ochanya's parents cari am cum for June 2018, she (Ochanya) dey very sick. Wen we begin find out wetin happun, we discover say Ochanya na victim of rape and di doctors wey dem cari her go see confirm say she dey allegedly sexually abused through di vagina and the anus. Naim we begin try our best to make sure say dem treat am,\" she tok. Ochanya mama, Rose tok say her pikin die of Vesicovaginal Fistula (VVF) for October 17, 2018. Di Benue state goment don cari di mata go court and dem bin promise di family say justice must dey for dis mata.  Afta Nigerians begin hala, Police command bin arrest Andrew Ogbuja for April 2018 on allegation of rape but dem no find im pikin, Victor since den till now. Wen BBC Pidgin ask di Police tok-tok pesin for Benue, Catherine Anene, wetin dem know about di whereabouts of di second suspect; she say she no know and dat she go need time to check how far di officers wey dey in charge of di case don go on top di search for di suspect. Na two cases dey ground now - one na against Andrew and di oda one na against im wife, Aunty Felicia. Andrew don dey face trial since 2019 for di Benue State High Court. Di court say na four count charge e dey face and di charges dey based on alleged rape and culpable homicide.  Di Prosecution counsel, Peter Ukande don call all im eight witnesses and di Defence Counsel, Abel Onoja don open im own case and Andrew Ogbuja tok say im no dey guilty of any of di charges. Di court don adjourn di mata till November 12, 2021. For di oda Federal High Court for Makurdi, Felicia dey face separate charges for negligence sake of say she allegedly fail to take action to stop the alleged sexual exploitation of di minor by her husband, and son, Victor. Ochanya papa, Michael Ogbanje  say di adjournment wey dey happun for court be like say dem dey pour pepper on top fresh wound.  \"Na dis adjournment dey make me plus my wife and oda pipo dey travel from village on top bad road evritime and even sef, di money no dey for hand to continue to dey come and we no even know which day di mata go end\", Michael tok. The tok-tok person for di International Federation of Women Lawyers (FIDA) for Nigeria, Hemfan Felicity, say dem join bodi kari di accused pipo go court and by now dem think say dem for don get justice. She say plenti tins dey happen wey don delay di case and some of dem include; di Coronavirus pandemic wey no make court sit for most part of 2020 as di world do lockdown.  She add say di plenti court adjournment follow dey slow down proceedings. Even Police take long time do dia own investigate on top di mata. Logistics wahala sef follow join di issues wey dey ground as money sometimes no dey to pay allowances to prosecutor. Money sef fit no dey to give witnesses to feed, transport and pay dia hotel bill as none of dem dey live for inside Makurdi. Na from village dem dey come. For 2015, United Nations Children's Fund (UNICEF) tok say one in four girls and one in 10 boys for Nigeria dey experience sexual violence before dem reach age 18. Goment for federal and state levels don dey localise di Child Rights Act since 2003. As at 2021, many state goments for Nigeria don sign am into law but di concern wey dey now na say most of dem no dey fully implement am. As for Rose, Ochanya mama, she tok say she no go rest until she get justice.  \"Dis life don tire me sef. I no see anytin wey go fit make me happy as I no see Ochanya my again. Make goment give me justice, na dat time dis mata fit stop and I go get peace.\"\n"
     ]
    },
    {
     "name": "stderr",
     "output_type": "stream",
     "text": [
      "INFO:root:Successfully wrote story number 20\n"
     ]
    },
    {
     "name": "stdout",
     "output_type": "stream",
     "text": [
      "Accra circuit court remand dancehall musician Shatta Wale in police custody for one week. De court charge am with de publication of fake news, but Shatta Wale plead not guilty to di charge. De court judge adjourn next hearing of de case to October 26. De musician bin don spend two nights inside police custody since en arrest, as e be so im go spend more nights for dia hand. Ghana Police Service say Shatta Wale wey dem arrest go assist de police in investigations for im alleged involvement in de creation and circulation of information wey intend to cause fear and panic\"  Under Ghana law, de offense Shatta Wale commit fall under misdemeanours, punishable by various terms of sanctions for Ghana. Such offenses dey include assault, theft, unlawful assembly, official corruption den public nuisances. Shatta en offense dey fall under public nuisances. Lawyer Yaw Oppong, say for such offenses de suspect if found guilty fit get maximum 3 years jail term or caution. \"Normally de maximum punishment be about 3 years. Dem fit caution am too wey e go dey like fine\" according to Mr. Oppong.   Meanwhile, police also arrest de man of God, Stephen Akwesi aka Jesus Ahuofe, wey 'prophesy' say Shatta Wale go die on October 18. Akwesi be founder and Leader of New Life Kingdom Chapel International. Meanwhile, Police arrest two other team members who dey work with Shatta Wale for allegedly spreading rumors say de musician truly suffer gun attack on social media. Police say preliminary investigations dey show say de gunshot attack be fake. Dem arrest suspects, Kojo Owusu Koranteng aka Nana Dope den Eric Venator aka Gangee for \"allegedly spreading false information with de intention of causing fear and panic.\" According to de Police dem no go spare anyone who be criminally involved in dis matter.\n"
     ]
    },
    {
     "name": "stderr",
     "output_type": "stream",
     "text": [
      "INFO:root:Successfully wrote story number 21\n"
     ]
    },
    {
     "name": "stdout",
     "output_type": "stream",
     "text": [
      "Leader of di Indigenuous People of Biafra Nnamdi Kanu don tok say im no dey guilty to  di new charges wey Nigeria goment accuse am of. Nigeria goment bin sama Kanu wit charges on alleged acts of terrorism and treasonable felony. Tori be say di Office of di Attorney General of di federation amend di charges against Kanu wey dem don file as a motion on notice for di court. Not long afta im plea, di judge tok say make Kanu remain for DSS custody and adjourn di case to November 10, 2021. Di court judge deny di Ipob leader lawyer application for di Department of State Services to transfer am to correctional centre. Lawyers of di Ipob leader bin no dey happy wit di charges wey di goment bin level against Kanu as dem bin feel say e no get \"base in law and e dey worthless\". One of di lawyer to Kanu, Ifeanyi Ejiofor challenge di competence of di charges. \"Di seven count offence wey di goment sama Nnamdi Kanu dey baseless and worthless for rule of law\" na so Ejiofor tok. \"We dey challenge di seven counts. \"We dey view say di seven count charges no be any offence sake of pesin no fit sneeze for Lodon make e become offence for Nigeria as most of di count dey founded on non existing law\". Di Lawyer add say dem don file application to challenge di competence of di charge and jurisdiction of fi Court to kontinu to hear di case. Di amended charges against Kanu include:\n"
     ]
    },
    {
     "name": "stderr",
     "output_type": "stream",
     "text": [
      "INFO:root:Successfully wrote story number 22\n"
     ]
    },
    {
     "name": "stdout",
     "output_type": "stream",
     "text": [
      "Di gun wey actor Alec Baldwin fire on set, wey kill one woman, na one assistant director wey tell am say e dey safe give am, court records show. Di director wey dem no name no know say di prop gun contain live ammunition and indicate say e no dey loaded by shouting \"cold gun!\", na so di records tok. Cinematographer Halyna Hutchins suffer fatal shooting for her chest for Thursday incident on di set of di film Rust. Baldwin don express shock and sadness after im fatally shoot cinematographer Halyna Hutchins with prop gun for one New Mexico film set. Im tweet say im dey in contact with her husband and don offer support. \"My heart brake for her husband, their son, and all wey know and love Halyna,\" im write. Ms Hutchins, wey dey 42 years bin dey work as director of photography for di movie. \"Words no dey to convey my shock and sadness regarding di tragic accident wey take di life of Halyna Hutchins, wey be wife, mother and colleague wey we admire,\" im tweet. \"I dey fully co-operate with di police investigation to address how dis tragedy occur.\" Dem fly Ms Hutchins go hospital by helicopter after di shooting on Thursday afternoon but she died from her injuries. Director Joel Souza, 48, suffer injury and dem carry am from di scene for Bonanza Creek Ranch by ambulance. One actress for di film, Frances Fisher, tweet on Friday say Mr Souza tell her say dem don release am from hospital, US media also report di same tin. Di hospital no gree comment on Mr Souza condition, as dem say e go go against privacy laws. Tok-tok pesin for Mr Baldwin, say di incident involve misfiring of prop gun wey get blank bullets. Police dey try to establish which type of projectile comot from di prop gun and how. Local media reported say dem see Mr Baldwin outside di Santa Fe County sheriff office in tears. One tok-tok pesin for di local district attorney office tell BBC News say di investigation still dey \"preliminary\" stage. \"At this time, we no know if dem go file court case,\" na so First Judicial District Attorney Mary Carmack-Altwies tok. Di actor na co-producer of Rust and im play e namesake, outlaw wey im 13-year-old grandson dey convicted of manslaughter. Di oldest of four brothers, all actors, Mr Baldwin don star for plenty TV and film roles since di 1980s. Ms Hutchins come from Ukraine and she grow up for Soviet military base for di Arctic Circle, according to her personal website. She study journalism for Kyiv, and film for Los Angeles, and dem name her \"rising star\" by di American Cinematographer magazine for 2019. Na she be di director of photography for di 2020 action film Archenemy, wey Adam Egypt Mortimer direct. \"I dey so sad about losing Halyna. And so angry say dis fit happen on set,\" Mr Mortimer tok for tweet.  Such incidents on film sets dey extremely rare, but e don happun before.  Often times dem dey use real firearms during filming, but dem dey load am with blanks - dis na cartridges wey fit create flash and a bang without discharging any projectile.  For 1993, Brandon Lee - di 28-year-old son of late martial-arts star Bruce Lee - die on set after dem accidentally shoot am with prop gun while dem dey film death scene for di film The Crow. Di gun mistakenly get real bullet wey dem load inside to use as test.\n"
     ]
    },
    {
     "name": "stderr",
     "output_type": "stream",
     "text": [
      "INFO:root:Successfully wrote story number 23\n"
     ]
    },
    {
     "name": "stdout",
     "output_type": "stream",
     "text": [
      "Former US President Donald Trump plans to launch new social media network TRUTH Social na big tori for town. Oga Trump dey give dis announcement afta e bin chop ban from Twitter and suspension from Facebook. Di social media platforms bin stop Trump afta di January 2021 US Capitol riots wey e supporters storm di US Capitol Hill. Donald Trump tok say di platform go \"stand up to di tyranny of big tech\". Di 45th US Presido bin accuse big tech companies of silencing opposing voices for di US. \"\"I dey excited to soon begin sharing my thoughts on Truth Social and to fight back against big tech,\" Trump tok for one press release. E say di platform go dey open to \"invited users\" for beta launch in November. E get plans to make am available to di entire public for di beginning of 2022. Truth social go be product of one new venture wey dem call di Trump Media & Technology Group [TMTG]. Dem create di TMTG through merger with Digital World Acquisition Corp.  Di group tok say dem dey look forward to to become a publicly listed company. Social media bin play very big role for oga Trump race for di White House and na im favourite means of communication as president. Social media firms dey under pressure throughout oga Trump time as president to ban am, as some pipo dey criticise e posts as insulting, inflammatory or dey spread lie. for 2020 Twitter and Facebook begin to delete some of Trump posts or label dem as misleading. For example dem delete one wey e for tok say Covid no dey deadly than di flu. Dem take dis decision to ban or suspend oga Trump afta di January riots. Di riot follow one speech where Donald Trump make some kain claim of electoral fraud. Responding to di riots, oga Trump call those wey dey Capitol \"patriots\" and show no sign of accepting di result of di election. Dis come push Twitter and Facebook to rule say e dey too risky to allow am to continue to use dia sites. Since then im and e advisers don give hint say dem dey plan to create rival social media site. Di owners of Truth Social - TMTG intend to balance di playing field by providing pipo with open media platforms wia dem fit share and create content without fear of wetin dem call reputational ruin.\n"
     ]
    },
    {
     "name": "stderr",
     "output_type": "stream",
     "text": [
      "INFO:root:Successfully wrote story number 24\n"
     ]
    },
    {
     "name": "stdout",
     "output_type": "stream",
     "text": [
      "Central Bank of Nigeria don release new guideline for di Tertiary Institutions Entrepreneurship Scheme (TIES) wey dem tier-rubber to solve di palava of unemployment. According to one statement from CBN, dem introduce di scheme as part of dia policy measures to address rising youth unemployment and underemployment. Di aim of di scheme na to help access to finance for undergraduates and graduates of polytechnics and universities inside Nigeria with innovative entrepreneurial and technological ideas. Activities wey di scheme go focus on include innovative start-ups and existing businesses wey belong to graduates of Nigerian polytechnics and universities for di following areas: Plus any oda activity wey CBN feel say dey okay to add from time to time. Meanwhile, dem design dis scheme to implement am through three components - term loan component; Equity investment component and Developmental component. Graduates of Nigerian polytechnics and universities dey eligible to participate under Term Loan Component Applicant must must be graduates of Nigerian polytechnics and universities within di past 7 years with entrepreneurial interest. Dem fit apply online through di online portal wey CBN provide and dem need to provide di required information and documents like; Di term loan dey classify into two tiers; di first tiers get loan limit of N5.0 million, while di second tiers get N25.0 million. Both get tenor na 5 years and interest rate of 5% per annum (9% effective from March 1, 2022 or as CBN want am) and Moratorium na 12 months. Di Equity Investment Component go be in form of injection of fresh capital for start-ups, expansion of businesses wey don already dey establish or reviving of business wey dey fall. Dem go share di Developmental Component in form of grants to Nigerian polytechnics and universities for di national biennial entrepreneurship competition. First place - N150.0 million; Second place - N120.0 million; Third place - N100.0 million; Fourth place - N80.0 million; and Fifth place - N50.0 million.\n"
     ]
    },
    {
     "name": "stderr",
     "output_type": "stream",
     "text": [
      "INFO:root:Successfully wrote story number 25\n"
     ]
    },
    {
     "name": "stdout",
     "output_type": "stream",
     "text": [
      "Arsenal dey host Aston Villa for Premier League on Friday evening October 22, 2021. Di venue for dis game na Emirates stadium and di match go kick off 8pm West African time. Di gunners go assess Bukayo Saka, wey dem bin substitute against Crystal Palace on Monday night afta one heavy challenge by James McArthur. Arsenal manager Mikel Arteta say im get fitness concerns about \"two or three\" unnamed players. Meanwhile for Aston Villa, wingers Leon Bailey and Bertrand Traore dey available for di game afta dem recover from thigh injuries. Also Matty Cash don recover from di dead leg wey make dem substitute am during di defeat by Wolves last week.  BBC football expert don predict di outcome of dis game. According to Mark Lawrenson these teams dey mid-table for a reason – Although small positives dey about the way dem bin start di season, but ways dey wey you fit get to dem. Aston Villa bin suffer late collapse against Wolves last time out, while Arsenal manage play draw wit Crystal Palace on Monday. I dey go wit Arsenal to win dis one, but dat dey based mainly on dia home advantage.  Prediction: 2-1  Head-to-head  Aston Villa don win three successive Premier League games against Arsenal, as many wey dem don get for dia previous 36 attempts. Na 59 years since Villa last get four straight league victories for dis fixture. Arsenal don lose four of dia 10 league meetings for Emirates Stadium. Di only team wey don defeat di Gunners dem well-well for dis stadium na Manchester City (5) and Chelsea (6). Arsenal  Arsenal don only lose one of dia past six home league fixtures, earning 13 points. Dem dey on a five-match unbeaten league run, afta dem bin lose dia opening three games. A fifth Premier League home defeat of 2021 go be di highest  in a calendar year since 1997 wey dem bin lose six times for Highbury. Di Gunners don fail to score in each of dia past seven league defeats. Dis na di first time Arsenal don play Premier Leagues games on Monday and then Friday for di same week since 28 December 1987 and New Year Day 1988. Arsenal tally of seven goals na dia lowest after eight league games since 1986. Pierre-Emerick Aubameyang don score for three consecutive home league appearances for di first time since a five-match run for September 2019. Aston Villa  Villa neva win 12 Premier League away fixtures wey dem  play on a Friday since dia 4-1 victory for Charlton for April 1950 (D3, L9). Aston Villa don lose five of dia past eight away league games, as many as for dia previous 17. Dem fit lose three consecutive Premier League matches for di first time since June to July last year. Dem don score only two goals dis season for first half out dia 12 league goals wey dem get dis season. Ollie Watkins bin score three of Aston Villa four goals against Arsenal for Premier League last season. Emiliano Martinez dia goalkeeper don keep 18 clean sheets in 45 Premier League appearances for Villa since im sign from Arsenal for September 2020.\n"
     ]
    },
    {
     "name": "stderr",
     "output_type": "stream",
     "text": [
      "INFO:root:Successfully wrote story number 26\n"
     ]
    },
    {
     "name": "stdout",
     "output_type": "stream",
     "text": [
      "Ghanaian stand up comedian, Funny Face dey inside police custody after he allegedly issue death threats.  Police say dem arrest de comedian officially called, Benson Nana Oduro Boateng around 10:14pm for allegedly threatening some people using social media.  According to official statement wey dem release, sake of de history of de suspect dem go submit am before court to secure psychiatric examination de next line of action in de investigations.  Dem assure Ghanaian say dem make committed to protect lives with de help of de public. Over de weekend, funny face enter social media release series of videos wey allegedly attack some people.  As part of de series of videos and posts he share, he mention how he go allegedly kill certain people on en Instagram page. Apart from de death threats he also allegedly add some suicidal threats which create scare among Ghanaians about e well being.  Around February dis year, Ghana court send am go psychiatric hospital for two weeks. Dis be after he discharge firearm unlawfully for drinking pub inside Kasoa.  De Ofaakor Circuit Court presided by Ebenezer Osei Darko order Ghana Police say dem for send Funny Face to de Accra Psychiatric Hospital sake of he no dey sound normal. According to de Court, sometimes Funny Face dey go through mental crisis or depression. Funny Face be Ghanaian stand up comedian who break into de scene around 2010.  En first comedy appearance be Night of 1010 Laughs where he finally enter de spotlight as stand up comedian.  He explore acting as part of en comedy career with de successful, Chorkor Trotro television sitcoms which give am mileage as one of de best comedians for Ghana.  He marry in 2014 but two years later de marriage land on rocks resulting in divorce. Many believe say dis be de genesis of de mental health issues of de comedian.\n"
     ]
    },
    {
     "name": "stderr",
     "output_type": "stream",
     "text": [
      "INFO:root:Successfully wrote story number 27\n"
     ]
    },
    {
     "name": "stdout",
     "output_type": "stream",
     "text": [
      "One woman don die and one man dey injured afta American actor Alec Baldwin bin shoot prop gun for one feem set inside New Mexico. Police say oga Baldwin bin shoot di gun for di filming of di 19th Century western feem, Rust. Dem bin rush di woman go hospital but she die from di wound. Di feem director tok say di man wey injure dey collect emergency treatment. Tok-tok pesin for oga Baldwin tell tori pipo AP say di accident na sake of misfiring of prop guns wey bin get blank bullets inside.  Di name of di woman wey die na Halyna Hutchins, she be 42-years old. She bin dey work for di feem as director of photography. Di man wey dey hospital na Joel Souza, 48, im be di feem director. As at now police still dey investigate di mata for di Bonanza Creek Ranch, wey be popular feem location,  and neva file charges. For statement, Santa Fe sheriff tok-tok pesin say oga Baldwin don tok to police. According to her website, Hutchins bin come from Ukraine. She bin grow up for one Soviet military base for di Artic Circle. She study journalism for Kyiv and later study feem for Los Angeles. For 2019, America Cinematographer magazine bin nam am as \"rising star\" for di industry. Following dat mention, she go on to do director of photography work for di 2020 action feem Archenemy, wey Adam Egypt Mortimer bin direct. Oga Mortimer enta social media to hala about how her death pain am.\n"
     ]
    },
    {
     "name": "stderr",
     "output_type": "stream",
     "text": [
      "INFO:root:Successfully wrote story number 28\n"
     ]
    },
    {
     "name": "stdout",
     "output_type": "stream",
     "text": [
      "Di Managing Director of Nigeria Railways Corporation, Fidet Okhiria say di attack on di Kaduna-Abuja train \"no be act of vandalism\". Oga Fidet dey hope say train services across di kontri go resume Friday or Saturday just one day after e announce suspension due to security concerns. Di MD question why local reports go see di incident as 'vandalism' as im say di NRC press release no mention anything like dat. \"So we dey work very hard and hopefully by today or tomorrow we fit resume train services.\" \"And on whether na vandals attack our train, you see am for our press release? So nothing like dat. A situation like dis has to be managed well.\" NRC bin make suspension announcement on dia website on Thursday afternoon after unknown pipo attack train wey dey travel from Kaduna to Abuja on Wednesday. Eyewitnesses say anoda attack happun on Thursday morning for train wey leave Abuja to Kaduna. Senator Shehu Sani wey be one of di passengers wey use di train from Abuja to Kaduna on Thursday morning write on social media say part of di track dey damaged from Wednesday attack and e remain small for dem to get accident because of dat. \"After di attack on Wednesday by bandits on di train wey dey go Abuja from Kaduna, dis morning our train jam damaged railings and na by miracle we escape am.\" Di former Kaduna central senator add say di Wednesday attack see di bandits open fire and target di driver. Meanwhile, respected security expert and fellow for Tony Blair Institute for global change Bulama Bukarti say di damage wey im see with the train and di tracks show say no be vandals but na bandits do di operation. \"Why dem dey tok say na vandals and not bandits for dis mata, when vandals begin use bombs, wetin be dia objective? Abi some pipo wan shield bandits?\" Dis na wetin Bulama write on Facebook.\n"
     ]
    },
    {
     "name": "stderr",
     "output_type": "stream",
     "text": [
      "INFO:root:Successfully wrote story number 29\n"
     ]
    },
    {
     "name": "stdout",
     "output_type": "stream",
     "text": [
      "Nigeria President Muhammadu Buhari dey among latest list of di world most influential Muslims. Publisher of di list, The Muslim 500, say di list dey made up of Muslims wey get influence on oda Muslims and di world. President Buhari occupy di 16th position for di list of the world's 500 most influential Muslims. Oda Nigerians wey dey di list na, Sultan Muhammad Sa'ad Abubakar III, HRH Aminu Ado Bayero, Sheikh Ibrahim Saleh. Alhaji Aliko Dangote, Sheikh Dahiru Bauchi, Sheikh Yakubu Musa Katsina, Sheikh Ibrahim Zakzaky, dey among odas. \"Anybody wey get power be it cultural, ideological, financial, political or otherwise to make change wey get significant impact on di Muslim world. Di selection of pipo for dis publication no mean say we dey endorse dia views and opinions, rather wetin we dey do na to measure dia influence,\" The Muslim 500 tok. According to The Muslim 500 Liverpool striker, Mohammed Salah, Sadio Mane, Paul Pogba, Zinedine Zidane also for di list of Most Influential Muslims for di world. But di top 10 on di list include See di full list of World's 500 most influential Muslims 2022 for di Muslim 500 website. \"Na approximately 1.9 billion Muslims dey for di world today, making up 26% of di world population, or just over one-quarter of mankind.  \"Dis include citizens of dia respective kontris wey also get sense of  belonging to di 'ummah', di worldwide Muslim community.\" Dis publication set out to ascertain di influence wey some Muslims get on dis community, or on behalf of di community.  Influence: Dat na anybody wey get power be it cultural, ideological, financial, political or otherwise to make change wey get significant impact on di Muslim world. Di selection of pipo for dis publication no mean say we dey endorse dia views and opinions, rather wetin we dey do na to measure dia influence. Di influence fit be of a religious scholar wey dey directly address Muslims and influencing dia beliefs, ideas and behaviour. Or e fit be of a ruler shaping the socio-economic factors within which pipo live their lives, or of artists wey dey shape popular culture. Di first two examples also point to di fact say di lists, and especially di Top 50 dey dominated by religious scholars and heads of state. Dia dominant and lasting influence no fit dey denied especially di rulers, wey in many cases also appoint religious scholars to dia respective positions.\"\n"
     ]
    },
    {
     "name": "stderr",
     "output_type": "stream",
     "text": [
      "INFO:root:Successfully wrote story number 30\n"
     ]
    },
    {
     "name": "stdout",
     "output_type": "stream",
     "text": [
      "For dis exclusive interview with BBC Pidgin, Kaduna state Governor Nasir El-Rufai react to Ipob leader Nnamdi Kanu arrest. E also open up about im palava with NLC for di state, insecurity for Kaduna and tori about im intention to run for office of di president.\n"
     ]
    },
    {
     "name": "stderr",
     "output_type": "stream",
     "text": [
      "INFO:root:Successfully wrote story number 31\n"
     ]
    },
    {
     "name": "stdout",
     "output_type": "stream",
     "text": [
      "Special Counsel to di leader of di Indigenous People of Biafra, Ipob, Alloy Ejimako don tell BBC Pidgin say im client, Nnamdi Kanu dey mentally traumatised. On Tuesday 29, June 2021, Nigeria Minister of justice and Attorney General of di federation Abubakar Malami break di tori say dem arrest Nnamdi Kanu on Sunday 27, June. Inside exclusive interview with BBC Pidgin, Ejimako wey say im visit Kanu for Nigeria secret police, Department of State Services (DSS) on Wednesday, 14, July say im client narrate give am how dem arrest am for Kenya and return am back to Nigeria. \"I see am yesterday for almost three hours for di Headquarters of DSS for Abuja. We get private interaction initially and later three DSS officers interview am for my presence. Dem ask am questions, most of dem around am being di leader of Ipob and dia activities.\" \"Im state of mind no dey as sound as e suppose be, wen I dey tok to am e get trouble with remembering di actual date dem abduct am, e surprise me. E appear like pesin wey don dey mentally traumatised, e no dey afraid, e dey traumatised.\" \"I also notice say e get injury for im right wrist, I ask am wetin be dat, e say na for wia dem put chain take chain am to di concrete floor for Nairobi, Kenya and e get injury wey don dey disappear for im left wrist and im neck side.\" On how dem take gbab am, Ejimakor say Kanu tell am say na for Jomo Kenyatta airport dem gbab am. \"Nnamdi Kanu enta Kenya around April dis year, I no sure of di exact date but I get document wey put am for Kenya hospital on di 14th of May, e go because e get issue with im heart, dem say e get hypertension and heart murmur. \"E bin don settle for somewhere for Nairobi and e bin enta with im passport, I get di bio data page of im passport wey get immigration stamp wey show say dem admit am into Kenya before di extra-ordinary rendition.  \"Dat fateful day, on di 19th, im drive go Jomo Kenyatta airport to di underground garage to pick up one visitor wey bin fly into di kontri. Na dia a group of seven men attack am, gada and grab am go one private facility wia dem blindfold am, chain am for ground and torture am for most of di eight days e dey dia.\" Ejimakor tok According to di barrister, na for dia Kanu dey before dem hand am over to di Nigerian authorities. \"On di 27th of June on Sunday, e say dem drive am inside car in blindfold go Jomo Kenyatta international airport and bundle am inside a private jet. E be di only passenger inside di jet, e no clear immigration, dem drive am straight ontop di tarmac go close to di plane, put am inside di plane with Nigerian security officials and dem comot around 12 for afternoon and land Nigeria same day around 4 or 5pm.\" BBC Pidgin no fit independently verify di account of Nnamdi Kanu and im lawyer as to how dem take gbab di Ipob leader.  Meanwhile Kenya goment bin don deny say dem arrest Nnamdi Kanu for Kenyan soil. Kenya High Commissioner to Nigeria, Wilfred Machage bin say di accuse dey false, wrong and illegal plus anybody wey get evidence of when, where and how e take happun for Kenya make e bring am forward.  E add join say different kontris don dey linked to di arrest of di IPOB leader like UK, Rwanda, Czech Republic and many oda kontris but na only Nigerian goment fit tok where dem arrest am and which kontri dem deport am from. UK goment bin also comot dia hand from di mata. British High Commission for Nigeria bin reveal say dem no dey behind dia citizen, Nnamdi Kanu re-arrest and extradition. Nigeria Justice Minister Abubakar Malami on June 29 bin reveal say di goment repatriate alias return Kanu to Nigeria. But im no tok from where dem arrest am as im praise di efforts of security agencies.\n"
     ]
    },
    {
     "name": "stderr",
     "output_type": "stream",
     "text": [
      "INFO:root:Successfully wrote story number 32\n"
     ]
    },
    {
     "name": "stdout",
     "output_type": "stream",
     "text": [
      "Nigeria goment don begin look for over 500 prisoners wey escape from di Medium Security Custodial Centre, for Oyo State. Dis na afta gunmen attack prison facility on Friday night for Abolongo area of di state. Na as 837 prisoners escape from di Custodial Centre afta di attack, tok-tok pesin for di Correction centre for Oyo state tok. Anjorin Olanrewaju, for statement wey im release say dem don \"recaptured a total of 262 of di escapees.\" Tori be say gunmen wey plenty well-well invade di Medium Security Custodial Centre for Abolongo around 10pm on Friday night. Authorities never fit identify di gunmen wey carry out di attack. Olanrewaju, say di gunmen carry better weapon come do di operation. E say, \"Di Oyo Medium Security Custodial Centre, in Oyo State experience attack by yet to be identified gunmen at about 2130hrs on Friday 22nd October, 2021. Di invaders arrive di Centre heavily armed wit sophisticated weapons. Afta serious shoot-out wit officers on guard, di gunmen gain entrance into di yard using dynamite to blast di wall.   Dem force all awaiting trial detainees from custody. Dem no destroy di cells wey house di convicts and di female inmates. Following directives of di Controller General of Corrections, Haliru Nababa, di State Controller, Noel Ailewon don commence di process of search and recapture aft aim visit di scene of di incident.  Goment establish di Oyo Custodial Centre for 2007. Di design na to take 160 inmates but at the time of attack, di prison get 907 inmates. Of this number, awaiting trial persons were 837 wey represent 92% wit just 64 convicts.\n"
     ]
    },
    {
     "name": "stderr",
     "output_type": "stream",
     "text": [
      "INFO:root:Successfully wrote story number 33\n"
     ]
    },
    {
     "name": "stdout",
     "output_type": "stream",
     "text": [
      "Ghana Police don reportedly arrest musician, Medikal sake of he brandish weapon on social media. According to Accra-based Citi FM, dem deny de musician police enquiry bail after en arrest Thursday evening. Around September 26, Medikal share video of himself as he dey hold gun on social media. Police no out statement on en arrest but sources dey report say de musician spend de night in cells.  He dey expected to appear in court on Friday October 22, 2021 according to local reports. De police reportedly move Medikal from de Accra Regional Police Headquarters to undisclosed police station, where he dey detained. Police never release statement or comment on im arrest. Dis latest arrest dey come hours after court remand dancehall artiste, Shatta Wale in police custody for de alleged publication of false information.  Meanwhile earlier dis week, Police arrest another young man who dem describe as \"dangerous armed robber\" who also brandish weapon on social media.  Officials track him down wey dem arrest am, during de arrest dem retrieve about four weapons on de man who police say dey on dema wanted list. Section 7 of de Arms and Ammunition Decree of 1972 dey state:  'No person except in accordance with terms of permit granted or written permission from Inspector-General of Police, publicly display arms or ammunition.' 'Discharge any firearm or other weapon in any public place.' Anyone wey go commit such a crime go face fine or go jail for up to five years.\n"
     ]
    },
    {
     "name": "stderr",
     "output_type": "stream",
     "text": [
      "INFO:root:Successfully wrote story number 34\n"
     ]
    },
    {
     "name": "stdout",
     "output_type": "stream",
     "text": [
      "Circuit Court for Accra remand Ghanaian rapper, Medikal to police custody for five days.  Dis be after dem detain de musician for brandishing gun inside video for social media.  Dem charge am with de display of arms and ammunition, but de rapper plead not guilty to de charge. Dis recent case dey raise de number of musicians who dey inside prison custody for Ghana dis week to two. Both Medikal den Shatta Wale go remain inside Ankaful Prison until next week when de court go hear dema cases.  Meanwhile earlier dis week, Police arrest another young man who dem describe as \"dangerous armed robber\" who also brandish weapon on social media. Officials track him down wey dem arrest am, during de arrest dem retrieve about four weapons on de man who police say dey on dema wanted list.\n"
     ]
    },
    {
     "name": "stderr",
     "output_type": "stream",
     "text": [
      "INFO:root:Successfully wrote story number 35\n"
     ]
    },
    {
     "name": "stdout",
     "output_type": "stream",
     "text": [
      "Mix reactions don follow di apology from di lady wey accuse Nigerian actress, Mercy Johnson Okojie say she dey at fault for wetin hapun to her pikin for school. Di lady bin apologise to Mercy Johnson on Friday afta di actress speak up on social media about di experience wey her daughter dey pass true for school. Nollywood actress, Mercy Johnson Okojie bin post one long narration wia she claim say one teacher dey bully her daughter for school and ask weda na crime to be Mercy Johnson-Okojie daugher? \"A teacher for my pikin school don dey bully my daughter constantly for 2 whole weeks. She no be her class teacher, yet she dey show up for her class everyday to intimidate her!\" Di actress tok. For di caption wey follow di post for her instagram handle, she ask;  \"Wetin you go do wen di teacher na actually di bully and your pikin di constant victim? Enough is enough, I don report to di school authorities and I go see dis to di end. Immediately afta di actress post dis, one social media user claim to be eyewitness of wetin happun for di school on Thursday. Di social media user accuse Mercy Johnson of harassing di school Head Teacher with thugs afta dem correct her daughter for fighting another child during school hours. And to respond to dis accusation from di social media user, Mercy Johnson go live on Instagram while she visit di school.  For di live video, Mercy Johnson speak with di Head teacher and ask her if dem meet on Thursday and di Headteacher say no. Later on Friday, di lady wey bin accuse di actress come do video to apologise to Mercy Johnson for wetin she bin tok before. \"I just come on here to apologise to Mrs Mercy Johnson Okojie. I no get di correct information and I no get first-hand information on everything,\" di lady tok. \"I believe wetin I see over wetin go don happun there. So I based my judgment based on dat and I dey very sorry for whatever issues I fit don cause her family. \"And whatever trauma I go don cause dem throughout di whole of today. I really hope she finds am for her heart to forgive me.\" Di lady also allege say she dey receive death threats since she make di accusation, and beg di public to forgive her. Di management of Chrisland School tell BBC Pidgin say dem dey investigate wetin actually happun for dem to fit establish di true state of tins.  Akin Fadeyi wey be Member, Advisory Board of Chrisland tok on behalf of di School Management say dem don dey do tok-tok with each and everyone wey di mata concern. \"We dey work on every available information wey dey our disposal and dey investigate what actually take place to enable us establish di true state of things.\" \"Dis, we don quickly start to dey engage with each and everyone wey dey concerned, both within our internal and connected relationships.\" Di school promise to inform BBC Pidgin once dem don dey able to know wetin truly happun. Media personality Tolu Oniru, Alias Toolz write for her Instagram story  say di apology from di teaher no dey acceptable. She advise Mercy Johnson-Okojie to sue a lady who accused her of storming her daughter's school with thugs. \"Mercy Johnson Okojie I know you dey gentle, but please sue her...Mercy please sue! I go distribute aso-ebi for di pipo wey want to follow you to court.\" Odas too don react for social media as di mata don turn hot topic among some Nigerians.\n"
     ]
    },
    {
     "name": "stderr",
     "output_type": "stream",
     "text": [
      "INFO:root:Successfully wrote story number 36\n"
     ]
    },
    {
     "name": "stdout",
     "output_type": "stream",
     "text": [
      "Leader of di Indigenous People of Biafra (IPOB), Nnamdi Kanu show for court on Thursday for im trial to ansa to di charges wey Nigeria goment nack for im head. Dis na one of di tins pipo bin dey expect to see afta di trial of Kanu fail to hold sake of say DSS no carry am come court on July 26 to ansa to charges of alleged acts of terrorism and treasonable felony. Justice Nyako at di time say she no go go ahead wit di case as di defendant, Nnamdi Kanu no dey physically present for di court. She come adjourn di mata again to 21 October. Di trial hapun and court bin full. See di highlights of wetin hapun for court today. Tight security Security tight as di detained Indigenous People of Biafra (IPOB) Nnamdi Kanu land di Federal High Court on Thursday morning to continue im trial. Di Ipob leader appear for di Federal High Court Abuja to continue di trial of alleged terrorism and treasonable felony Nigeria goment charge am with. E no dey clear wen Kanu land court but BBC Pidgin fit confam say security operatives sneak di leader of di separatist group enta di court on Thursday morning. E wear di same Fendi cloth wey im wear for foto wey first circulate di taim dem arrest am for June. Kanu plead not guilty to di new charges wey Nigeria goment accuse am of. Before di trial on Thursday, goment bin sama Kanu with seven new amended charges. Dem be: Kanu lawyers bin don file for application make di Ipob leader dey transferred to correctional centre as di trial dey go on. But court no grant di application, dem say make e remain for DSS hand. Di trial of di detained leader of di Indigenous People of Biafra (IPOB) Nnamdi Kanu don dey adjourned till November 10, 2021. Supporters of di Ipob leader gada for di Federal High Court to show am support. Afta di trial. Dem gada for front of di court dey sing solidarity songs.\n"
     ]
    },
    {
     "name": "stderr",
     "output_type": "stream",
     "text": [
      "INFO:root:Successfully wrote story number 37\n"
     ]
    },
    {
     "name": "stdout",
     "output_type": "stream",
     "text": [
      " Nigeria goment don list fresh accuse against Nnamdi Kanu, leader of di proscribed Indigenous People of Biafra [Ipob].  Nigeria goment list say im allegedly use online Radio Biafra to cause violence for di kontri. Abubakar Malami, Minister of Justice say Kanu allegedly incite members of IPOB to commit violent attacks. Malami wey be di Attorney General of di Federation, list di alleged crimes for media briefing for Abuja on Friday, 22 October 2021. Dis accuse dey come one day afta di Ipob leader trial begin for federal high court Abuja. And Kanu don deny all seven count charges of terrorism and treasonable felony im dey face. E also say goment don identify those wey dey abroad wey follow Nnamdi Kanu dey cause kata-kata for Nigeria. For di latest update from Malami, di federal goment allege say: Nnamdi Kanu use im Radio Broadcast to \"intigate violence against civil and democratic institutions, particularly di security personnel, Independent National Electoral Commission [INEC]. \"And di destruction of public and private properties across kontri,\" Malami add. \"Im co-plotters for Nigeria and abroad, individuals and groups as well as state and non-state actors dey facilitate im campaign against di people and state of Nigeria.\" BBC Pidgin don call Nnamdi Kanu lawyers but dem neva respond to dis list of alleged crimes ontop dia customer head. Nigeria goment allege say Nnamdi Kanu take advantage of di October, 2020 EndSARS protests to incite pipo to cause violence for di kontri. Abubakar Malami claim say di re-arrest of Nnamdi Kanu for June 2021 na im lead to di inauguration of a Presidential Ad-hoc Committee wey include; Federal Ministry of Justice (MoJ), Federal Ministry of Information (MoI), Nigeria Police Force (NPF), Department of State Services (DSS), National Intelligence Agency (NIA), and Defence Intelligence Agency (DIA), According to di Minister of Justice di 10 tins wey di committee find out na say; BBC Pidgin don call Nnamdi Kanu lawyers but dem neva respond to dis list of alleged crimes ontop dia customer head.\n"
     ]
    },
    {
     "name": "stderr",
     "output_type": "stream",
     "text": [
      "INFO:root:Successfully wrote story number 38\n"
     ]
    },
    {
     "name": "stdout",
     "output_type": "stream",
     "text": [
      "\"Dem put fire for my business house, two story building, burn down everything. I lost over 1.7 billion naira\" Dat na di tori of Lagos business man Okey Adibe wey jaguda pipo burn down im big shop for Lagos during di Endsars protest wey happun exactly one year ago. Im shop bin dey sell ceremics and tiles. E tell BBC Pidgin say till now e still dey try to restart im business.  Okey be just one out of hundreds of pipo wey di Endsars protest negatively impact dia lives and businesses. #Endsars na di hashtag wey trend as youths take over di streets for October 2020 to protest police brutality and bad treatment by di Special Anti-robbery Squad (SARS).  Di protest kick off on October 8 peacefully and continued for days, but later turn bloody as hoodlums take over di protest begin destroy public and private property nationwide. Amnesty international say dem kill over 50 pipo during di protest. Human right watch say at least 15 pipo die for shooting wey happun on 20 October, 2020 for Lekki tollgate inside Lagos.  One of di biggest matter about di Endsars protest na di shooting of unarmed protesters by Nigeria military for di Lekki tollgate area of Lagos wia protesters camp for days. Some protesters and victims claim say pipo die for di toll gate, but Nigeria goment say nobodi die. Minister of information Lai Muhammed at di time say 'how massacre go happun with out deadi bodi'.  Nigeria army agree say dem do shooting for Lekki toll gate during di protest, but dem say \"dem no shoot live bullets dia and dem no kill anybodi dia\".  October 20 go mark one year since di Lekki tollgate incident and Nigerians for social media say dem go protest to show dia anger ova wetin happun for di tollgate and to remember pipo wey allegedly die during di protest.  Police for Lagos say dem no go permit any kind protest wey fit put di state in danger.  Nigeria Executive Council also beg pipo wey wan protest make dem no protest, rather make dem find oda lawful means to show dia anger sake of di security situation for di kontri. Protesters enta street unto say dem want make goment ban di special police squad wey dem dey call SARS. Dem accuse SARS say dem dey brutalize young pipo anyhow, dey collect and search phones by force and extort moni from dem. Di youths carri placards, dey sing anger song. Dem visit many govnors offices nationwide to drop dia complaints and demand for change. Dem block di Lekki tollgate wey dey for Lagos say motor no fit pass until goment answer dem. Youths also block plenti oda major locations across Nigeria including di Ojota bridge for Lagos, Berger Bridge for Abuja, Okigwe road roundabout for Imo state. Dis demonstrations later yield positive result as President Buhari order di disbandment of di police unit \"wit immediate effect\". Di protest turn violent as hoodlums begin join di protest. Jaguda pipo begin attack police formations and pipo property. Police records show say over 100 police stations suffer attack. Police authorities say dem loose plenti officers wey jaguda pipo attack and kill. Security agencies heavily clampdown on protesters, arrest many and whisk dem away in commando style. Humans rights lawyer Adesina Ogunlana tell BBC Pidgin recently say over 300 protesters wey police arrest for Lagos alone still dey for detention till date without any form of arraignment for court. Im and im team set up NGO wey go help secure release of protesters wey dey behind bars.  Although goment listen to di youths and ban SARS, police brutality wey follow for di major tins wey cause di protest still dey for di kontri.  On Saturday October 16 anoda video begin trend for social media wey show as one police officer slap one young boy for Kogi state. Tori be say di officer squad also use force collect 25,000 naira from one victim during dat same incident.  Di IGP order investigation into di incident and di police come later arrest di officer. But Nigerians still dey complain of how some police officers still allegedly dey collect moni by force from dia victims, while some still dey stop and search pipo phone.\n"
     ]
    },
    {
     "name": "stderr",
     "output_type": "stream",
     "text": [
      "INFO:root:Successfully wrote story number 39\n",
      "INFO:root:Writing articles for MOST_POPULAR category...\n"
     ]
    },
    {
     "name": "stdout",
     "output_type": "stream",
     "text": [
      "South Africans don ask kontri pipo to unite and pray for di return of four brothers wey jaguda pipo kidnap from Polokwane, Limpopo, on Wednesday. SA Police confam di disappearance of di four school children aged six, 11, 13 and 15 years wey unknown gun men allegedly take dem at gunpoint. For inside statement, police say dem don already launch manhunt to secure di release of Zidan, Zayyad, Alaan, and Zia Moti. Di four boys na di son of one wealthy South African business man, Nazim Moti and im wife Shakira Moti. Police say di e neva dey clear wetin be di reason behind di kidnap. Di Moti family don ask di public to help em wit any informate wey fit ensure di safe return of dia children. Moti family lawyer Philip Smit, tell local tori pipo say di kidnapping dey ransom-motivated. \"Di family dey in distress and under extreme traumatic stress for dia four sons, \"im tok. \"We don receive hundreds of phone calls. We just need di boys back. Dat na all we dey pray for,\" Smit add am. Police say di jaguda pipo forcefully remove di four school children from one vehicle wey deys transporting dem to school on Wednesday morning at about 07:00. Preliminary investigations show say di children aged six, 11, 13 and 15 years, naall learners from one primary school for Dalmada, for di outskirts of Polokwane, A group of about seven suspects armed wit rifles na im forcefully remove dem from dia scholar transport.  Di 64-year-old driver allegedly bin dey carry di children from Nirvana and bin dey drive along R37 road near di N1 bypass wen two vehicles suddenly block am, one white Kia Sorento and black Mercedes Benz. A total of seven occupants from di two vehicles, dressed in white overalls come down from di moto begin shoot randomly. Di suspects come force di four children out of di motor into dia Mercedes Benz and drive comot. leave di distraught driver on di scene together wit im vehicle.  Police later recover di cellphones of di victims afta dem dump am for one Flora Park. Di hashtag #Motibrothers don dey trend on twitter as South Africans dey pray for di safe return  of di brothers. DiCurro Heuwelkruin Independent School, wey di boys bin dey attend post one picture of teachers and pupils dey knee in prayer for dai safe return Dem pleaded on Facebook wit di public to help find di sons of di Polokwane businessman. Former Miss Earth South Africa, Catherine Constantinides, post am on Twitter: ''At 12 noon di nation dey ask to stand in unity & pray for di #MotiBrothers & dia family. South African activist, EFF leader Julius Malema also ask make pipo join hands to find di kidnappers first. Dis na wetin some other pipo dey tok on social media:\n"
     ]
    },
    {
     "name": "stderr",
     "output_type": "stream",
     "text": [
      "INFO:root:Successfully wrote story number 40\n"
     ]
    },
    {
     "name": "stdout",
     "output_type": "stream",
     "text": [
      "Ground go shake on Sunday October 24, 2021 wen Manchester United jam Liverpool for Old Trafford for Premier League. Di two teams dey come into dis game afta dia midweek Champions League victories. Liverpool beat Atletico Madrid 3-2 for Spain and United beat Atalanta wit di same score line. Dis na everything you need to know ahead of di league match between di two most successful clubs for England. You see Manchester United performance wey dem come back from two goals  down against Atalanta and win 3-2 on Wednesday na di summary of how di team be under dia manager Ole Gunnar Solskjaer.  Dem fit play badly for some games and di next minute dem dey hard to stop. Dat na wetin BBC football sabi pesin Mark Lawrenson tok  If to say United lose dat game den e for be bonus for Liverpool but, instead di two teams moral dey high going into di weekend match. Although United fit dey under more pressure to get positive result, because dem don drop points for each of dia past three league games, but draw no go be bad result for either camp and dat na wetin I dey go for. Liverpool no go change di way dem dey play - dem no fit. And na di reason wey I feel say United go dey defensive because, if dem dey open, you go fear di worst for them. Lawro prediction: 1-1 Di game go start by 4:30pm West African time and e go dey live for Supersports on DSTV if you dey reason to watch am for Nigeria and Ghana. Di two clubs don meet 201 times, United don win 81 times against Liverpool. And dem don share points on 58 occasions and Liverpool don win 68 times. Last season, di two teams face each oda twice for Old Trafford. for January, di Reds beat di Merseyside club 3-2 for di Emirates FA Cup, na Mason Greenwood, Marcus Rashford and Bruno Fernandes score di goals.  But for league, na Jurgen Klopp men na im celebrate di three points, Dem win 4-2 for Theatre of Dreams. Cristiano Ronaldo fit make im first United appearance against di Anfield club since 2009 on Sunday.  Ronaldo get good record for dis fixture. In eight appearances against Liverpool before im move go Real Madrid, Ronaldo don score twice and assist two too. Di two goals came for im last two matches against Liverpool for Old Trafford.\n"
     ]
    },
    {
     "name": "stderr",
     "output_type": "stream",
     "text": [
      "INFO:root:Successfully wrote story number 41\n"
     ]
    },
    {
     "name": "stdout",
     "output_type": "stream",
     "text": [
      "For days now, plenty tok don dey about Nigerian singer Tiwa Savage and one alleged sex tape video of her. Na last week, di \"Somebody's son\" singer reveal say pesin bin dey blackmail am for one clip wey she bin do with her bobo. Last week, Tiwa Savage bin tok for one interview for The Angie Martinez show - for New York Power 105.1 fm say e get some pipo wey dey try blackmail her over one allege sex tape and she don decide to call dia bluff as she no go pay dem shishi.  Dis conversation don see Nigerians and fans of di singer ask why celebs like to dey record sex tapes. Dis question come about as some don also point out di oda times wey sex tapes of dia favourite celebs don go viral. Over di last few years, celebs don enta di kwanta of leaked naked pictures or video of dem wey comot or bin dey leaked for social media. Dis na di oda times wey such leaks and threats of blackmail to leak dia nudes don happun to celebs for Ghana and Nigeria. For April 2020, Nigerian waka singer,  Salawa Abeni bin burst pipo head afta she say pesin bin dey blackmail am say dem go post her naked pictures if she no give them money.  For di Instagram post she reveal say she bin either dey for hospital or with her partner when dem take di pictures but tok say she no go let anyone bully her as she post di pictures herself.  Later police come arrest di alleged blackmailer wey bin dey di age of 19. For 2017, video comot of di Mosquito Killer singer dey masturbate for inside Snapchat.  Tori pipo tok say im later comot to reveal say na hack dem hack im phone post am. One of di most controversial Big Brother Naija reality TV show housemates, Tacha bin receive blackmail for 2020 for nude pictures wey she say bin dey edited. She come on Twitter to post di email wey she bin get. For April 2020, media personality Toke Makinwa bin face blackmail too by pipo wey tok say dem go post her nudes except she pay dem. For Instagram post wey she later comot, she post di picture and tok say di one wey dem bin dey blackmail her with dey photo shopped. For 2018, video bin comot for di Dancehall artiste snapchat wey apparently show one woman dey give am blowjob. E later post video on top im same snapchat wia e confam di video wen e ask weda dem neva see pesin dey collect head before. Howeva im no confam weda di pesin wey dey di video na him.\n"
     ]
    },
    {
     "name": "stderr",
     "output_type": "stream",
     "text": [
      "INFO:root:Successfully wrote story number 42\n"
     ]
    },
    {
     "name": "stdout",
     "output_type": "stream",
     "text": [
      "\"Afta I drink garri train Joy for University now wey she don finish to epp me, dem kill am\" dis na wetin joy mama yarn BBC Pidgin on top di death of her pikin. 49 -year- old Grace Onoh wey be widow for 12 years  say all her hope don dabaru and her world don crash to pieces. \" All our hope bin dey on her but as e dey now, I no know wia to start from for dis life again\" she explain. Police on Wednesday 20th October, find Joy deadi bodi for ground around Federal Housing for North Bank area of Makurdi, afta she leave house to go deliver six turtleneck shirts to one customer for di area. Joy start di online business two months ago wit di business name Sparklight Collectibles to raise moni to pay her outstanding school fees for Benue State University. Who be Joy Israel Onoh? 24-year-old Joy Onoh come from Enugu state, for Nigeria southeast but her parents don live for Makurdi di Benue state capital for about 21 years now. She attend NUJ pen Nursery and Primary School and later go Anglican Secondary School.  Her  dream na to become ogbonge journalist for Naija, so she  decide to go read Mass Communication for Benue State University and she graduate last year. Joy na di first child among three pikin dem, but tins come dey rough for di family wen dia papa die  12-years ago. Tins bad sotey she no fit feed dia pikin or pay dia school fees and so di oda pikin dem gatz drop out of school so dat from her little moni, she fit train Joy wit hope say if she finish school start work, she go den train her oda sister and broda dem. \"Di suffer wey I suffer to ensure say I support her for school no get part two\". \"Sometimes wey moni no dey I go borrow moni from pipo just to make sure say she no drop out\" Grace tok She say she neva know how to cope wit di tragedy and dat di future of di oda two still dey hang for air. Wetin Really Happun and how joy allegedly die According to her sister, Cynthia Israel Onoh, Joy bin get order online for six turtle neck shirts. Di customer bin demand for three red and three green colour but Joy tell dem say she no get those colours all, but she go bring dem oda fine colours wey dem go like. On Tuesday, 19th of October, she ask di customer to send dia address in di morning, but dem no send until around 5pm. So wen di customer send di address, she tell her mama to leave her hair wey she bin dey plait so dat she go deliver di shirt sharp-sharp and den come back  Each of di shirt di cost 2,000 naira. Joy bin cari di shirts dem on credit from pipo wey di sell wholesale for di rate of 1500 and den add 500 as her own profit. Around 7 pm wen her family discover say she neva come back from business, dem begin call her line-but she no pick. Di sister come call wit her own line and wen she pick, she discover say her voice be like pesin wey don dey cry tey-tey.  Cynthia say she ask her wia she dey, she refuse to tok and later tell her say she go explain to her later. Afta a few minute, she call back and ask her sister and best friend make dem send her UBA account details. Na dia according to di sister, dem sense say something dey wrong wit her - dem come rush go nearby Police station to report di mata but police say e must reach 24 hours if dem no see am before dem go take action. Di only option wey di family get at di time according to Cynthia, na to begin pray and kontinu to call di line but e bin no go through. But on Wednesday morning, one of dia friends come call dem to inform dem say dem see her bodi for ground without blouse. \"I dey very disappointed for di way wey dem take kill my sister,\" Cynthia tok. \"She bin dey only hustle to try pay her school fees. Joy na beta pesin and my role model. \"I neva fit believe say she don die, I still dey hope for miracle.\" Police Investigation Benue State Police Command say dem don begin investigate di mata. Di police tok-tok pesin, Catherin Anene say wem dem bin find Joy deadi bodi e no get any mark of violence and dem don cari am go mortuary. Although some local media report say dem rape her, madam Catherine say she neva get di autopsy report to confirm wetin really kill her. She also say di Police go do everything to fish out those wey commit di crime.\n"
     ]
    },
    {
     "name": "stderr",
     "output_type": "stream",
     "text": [
      "INFO:root:Successfully wrote story number 43\n"
     ]
    },
    {
     "name": "stdout",
     "output_type": "stream",
     "text": [
      "Court don find former South African policewoman Nomia Rosemary Ndlovu guilty of killing five of her relatives and her boyfriend. Na between 2012 and 2018 di six pipo die wit di help of one hitman. Di reason why she kill dem na so she fit profit from dia life-insurance money. Dem finally catch Ndlovu wey be 46 years afta di pesin wey she bin hire to kill her sister report her to police. Tori be say na next month dem go sentence her. Di court find Ndlovu guilty of attempted murder of her mother, Maria Mushwana, as well as insurance fraud afta she don already pocket an estimated 1.4m rand ($95,000; £69,000). During di three-month trial, di goment lawyer reveal how she arrange life and funeral insurance for her relatives and then kill dem. Di first pesin wey she kill na her cousin, Witness Madala Homu, for March 2012. Then her sister follow, Before she kill her boyfriend, niece and two nephews dem. Her last victim, Brilliant Mashego, die for January 2018. For most of di cases she hire hitmen to carry out di murders, but for 2013 na she herself poison and strangle her sister Audrey Somisa Ndlovu. Di murder series end afta she meet somebody to kill another of her sister and di sister five children for March 2018. Di man wey she hire inform di police, dem arrange one sting operation to record her tok about her plans, na wetin tori pipo Times Live news site report. Na dia dem hear Ndlovu dey speak about how she bin wan make dem burn di six of dem alive for dia house and add say she need di money, Times Live report. Throughout di trial, Ndlovu bin maintain say she dey innocent, she even accuse many of di 50 state witnesses of lying. But di goment lawyer produce evidence to show her relationship wit most of her victims before dia death and how she benefit after. \"Di accused na either di last pesin to see dem alive or di first to notice say dem dey miss,\" na so state advocate Riana Williams tell AFP news agency. \"She nominate herself as di beneficiary so as to cash in on life and funeral covers.\"\n"
     ]
    },
    {
     "name": "stderr",
     "output_type": "stream",
     "text": [
      "INFO:root:Successfully wrote story number 44\n"
     ]
    },
    {
     "name": "stdout",
     "output_type": "stream",
     "text": [
      "Ogbonge Afrobeats musician Tiwa Savage sex tape mata na still di biggest gist for Nigeria afta one video bin leak for social media on Monday evening 18, October 2021. Although BBC Pidgin never confam di originality if na Tiwa Savage dey inside di video or not, many pipo don chook mouth inside di mata. Tori be say na for one interview wey Tiwa do wit radio host Angie Martinez of Power 105.1 for New York early dis month she first reveal di mata of di sex tape.  For dat interview she say somebody dey try blackmail her sake of sex tape. Savage, wey be 41 years, na one of di biggest Afrobeats stars for di world and she dey signed to Universal Music Group. So how dis sex tape land for internet? According to Tiwa she say her lover na im post di video for Snapchat by accident and im bin delete am afta him realise im make mistake but one pesin bin don already download am. She add say she bin cry wen she first see di video and fear for di kain reaction she go get. Tiwa say di blackmailers bin dey ask her for money but she no go pay dem shishi. \"I decide say I no pay di pesin because if I do, two months from now, three months down the line or even two years later, dem go come back again,\" she tok. \"Who knows, if I send di money, di pesin go probably release am. I no go let anybody to blackmail me onto say I do something natural.\" She add put Dis one hard to answer, but distance from dia love interests fit be di major factor why dem dey do dis kain tin.  Actors dey spend months away from dia spouses and lovers sake of dia work. And Musicians too dey tour di world for months.  So Sexting fit be option for dem to spice up dia relationship. Tiwa Savage don react to di allege sex video.  For inside post wey she put for social media, Tiwa bin tell di pipo wey dey behind di sex video say dem hate her sake of say she take di matter wey dem wan take destroy am joke for stage. \"You hate how I dey able to control di narrative and get ahead of one story before e consume me and how i dey able to joke on stage about something you bin think say suppose destroy me and make me shame.\" \"You must knock my head wen you see me otherwise…\" she post. Na mixed reaction from celebs and fans wey chook mouth inside di mata. Some of her colleague try to rally around her as dem dey post her picture wit di #queen while odas blast her for wetin she do.\n"
     ]
    },
    {
     "name": "stderr",
     "output_type": "stream",
     "text": [
      "INFO:root:Successfully wrote story number 45\n"
     ]
    },
    {
     "name": "stdout",
     "output_type": "stream",
     "text": [
      "Ghana Police don reportedly arrest musician, Medikal sake of he brandish weapon on social media. According to Accra-based Citi FM, dem deny de musician police enquiry bail after en arrest Thursday evening. Around September 26, Medikal share video of himself as he dey hold gun on social media. Police no out statement on en arrest but sources dey report say de musician spend de night in cells.  He dey expected to appear in court on Friday October 22, 2021 according to local reports. De police reportedly move Medikal from de Accra Regional Police Headquarters to undisclosed police station, where he dey detained. Police never release statement or comment on im arrest. Dis latest arrest dey come hours after court remand dancehall artiste, Shatta Wale in police custody for de alleged publication of false information.  Meanwhile earlier dis week, Police arrest another young man who dem describe as \"dangerous armed robber\" who also brandish weapon on social media.  Officials track him down wey dem arrest am, during de arrest dem retrieve about four weapons on de man who police say dey on dema wanted list. Section 7 of de Arms and Ammunition Decree of 1972 dey state:  'No person except in accordance with terms of permit granted or written permission from Inspector-General of Police, publicly display arms or ammunition.' 'Discharge any firearm or other weapon in any public place.' Anyone wey go commit such a crime go face fine or go jail for up to five years.\n"
     ]
    },
    {
     "name": "stderr",
     "output_type": "stream",
     "text": [
      "INFO:root:Successfully wrote story number 46\n"
     ]
    },
    {
     "name": "stdout",
     "output_type": "stream",
     "text": [
      "Mix reactions don follow di apology from di lady wey accuse Nigerian actress, Mercy Johnson Okojie say she dey at fault for wetin hapun to her pikin for school. Di lady bin apologise to Mercy Johnson on Friday afta di actress speak up on social media about di experience wey her daughter dey pass true for school. Nollywood actress, Mercy Johnson Okojie bin post one long narration wia she claim say one teacher dey bully her daughter for school and ask weda na crime to be Mercy Johnson-Okojie daugher? \"A teacher for my pikin school don dey bully my daughter constantly for 2 whole weeks. She no be her class teacher, yet she dey show up for her class everyday to intimidate her!\" Di actress tok. For di caption wey follow di post for her instagram handle, she ask;  \"Wetin you go do wen di teacher na actually di bully and your pikin di constant victim? Enough is enough, I don report to di school authorities and I go see dis to di end. Immediately afta di actress post dis, one social media user claim to be eyewitness of wetin happun for di school on Thursday. Di social media user accuse Mercy Johnson of harassing di school Head Teacher with thugs afta dem correct her daughter for fighting another child during school hours. And to respond to dis accusation from di social media user, Mercy Johnson go live on Instagram while she visit di school.  For di live video, Mercy Johnson speak with di Head teacher and ask her if dem meet on Thursday and di Headteacher say no. Later on Friday, di lady wey bin accuse di actress come do video to apologise to Mercy Johnson for wetin she bin tok before. \"I just come on here to apologise to Mrs Mercy Johnson Okojie. I no get di correct information and I no get first-hand information on everything,\" di lady tok. \"I believe wetin I see over wetin go don happun there. So I based my judgment based on dat and I dey very sorry for whatever issues I fit don cause her family. \"And whatever trauma I go don cause dem throughout di whole of today. I really hope she finds am for her heart to forgive me.\" Di lady also allege say she dey receive death threats since she make di accusation, and beg di public to forgive her. Di management of Chrisland School tell BBC Pidgin say dem dey investigate wetin actually happun for dem to fit establish di true state of tins.  Akin Fadeyi wey be Member, Advisory Board of Chrisland tok on behalf of di School Management say dem don dey do tok-tok with each and everyone wey di mata concern. \"We dey work on every available information wey dey our disposal and dey investigate what actually take place to enable us establish di true state of things.\" \"Dis, we don quickly start to dey engage with each and everyone wey dey concerned, both within our internal and connected relationships.\" Di school promise to inform BBC Pidgin once dem don dey able to know wetin truly happun. Media personality Tolu Oniru, Alias Toolz write for her Instagram story  say di apology from di teaher no dey acceptable. She advise Mercy Johnson-Okojie to sue a lady who accused her of storming her daughter's school with thugs. \"Mercy Johnson Okojie I know you dey gentle, but please sue her...Mercy please sue! I go distribute aso-ebi for di pipo wey want to follow you to court.\" Odas too don react for social media as di mata don turn hot topic among some Nigerians.\n"
     ]
    },
    {
     "name": "stderr",
     "output_type": "stream",
     "text": [
      "INFO:root:Successfully wrote story number 47\n"
     ]
    },
    {
     "name": "stdout",
     "output_type": "stream",
     "text": [
      "Popular Nigerian singer Tiwa Savage wey don dey di news since last week don dey trend again sake of wetin she tell her allege blackmailers on top one sex video matter wey don dey cause katakata. For inside post wey she put for social media, Tiwa savage bin tell di pipo wey dey behind di sex video say dem hate her sake of say she take di matter wey dem wan take destroy am joke for stage. Last week, Tiwa Savage bin tok for one interview for The Angie Martinez show - for New York Power 105.1 fm. say e get some pipo wey dey try blackmail her over one allege sex tape and she don decide to call dia bluff as she no go pay dem shishi. Tiwa savage say she don dey able to control di gbege since she don come out to tok about am. But e be like say di allege blackmailer no too like di move as dem release one video on Monday evening as di so called sex video but e never dey clear whether na Tiwa Savage dey inside di video or not as BBC Pidgin never confam di originality. Tiwa bin write for di post say: \"You hate how I dey able to control di narrative and get ahead of one story before e consume me and how i dey able to joke on stage about something you bin think say suppose destroy me and make me feel ashame.\" \"You must knock my head wen you see me otherwise…,\" she post. Di Nigerian Afropop queen, bin also tok on stage during one show for Lagos say \"nobody go ever see di sex tape\". Tok of di so called sex video don full for mouth of Nigerians as di matter trend number one for Nigerian Twitter on Tuesday. Tiwa Savage burst for di Nigerian music scene for 2011 to catch dia attention with di gbedu wey dem call Kele Kele Love. E feature love song wey Nigerians bin enjoy, she follow dat one wit plenti love gbedu wey include Love me, Love Me, Ife Wa Gbono. And she also sing 'Don't Leave without my heart' wey she do with producer, Don Jazzy. Then for 2013, she cari her tent pitch am for Mavins Records wia she drop two ogbonge albums Once Upon A Time for 2013 and R.E.D for 2016. Na also for dia she get di name of Queen of Afrobeats. Outside music, she bin feature for di Health TV Series wey dem bin call Sugar and also be activists against rape cases dem. For May, 2020, Mama Jam-Jam (nickname of her pikin Jamil) port comot from Mavins to join Universal Music Group on an exclusive music deal wey go see her new music enta international market. And true to di contract, wen for August she drop her fourth studio album, Celia. E see two songs for di album, Dangerous Love and Korobba peak for No 2 and No 9 for Billboards. So far, Tiwa Savage don collabo with stars like Wizkid, Davido, Sam Smith, Beyonce, and Omarion.\n"
     ]
    },
    {
     "name": "stderr",
     "output_type": "stream",
     "text": [
      "INFO:root:Successfully wrote story number 48\n"
     ]
    },
    {
     "name": "stdout",
     "output_type": "stream",
     "text": [
      "Accra circuit court remand dancehall musician Shatta Wale in police custody for one week. De court charge am with de publication of fake news, but Shatta Wale plead not guilty to di charge. De court judge adjourn next hearing of de case to October 26. De musician bin don spend two nights inside police custody since en arrest, as e be so im go spend more nights for dia hand. Ghana Police Service say Shatta Wale wey dem arrest go assist de police in investigations for im alleged involvement in de creation and circulation of information wey intend to cause fear and panic\"  Under Ghana law, de offense Shatta Wale commit fall under misdemeanours, punishable by various terms of sanctions for Ghana. Such offenses dey include assault, theft, unlawful assembly, official corruption den public nuisances. Shatta en offense dey fall under public nuisances. Lawyer Yaw Oppong, say for such offenses de suspect if found guilty fit get maximum 3 years jail term or caution. \"Normally de maximum punishment be about 3 years. Dem fit caution am too wey e go dey like fine\" according to Mr. Oppong.   Meanwhile, police also arrest de man of God, Stephen Akwesi aka Jesus Ahuofe, wey 'prophesy' say Shatta Wale go die on October 18. Akwesi be founder and Leader of New Life Kingdom Chapel International. Meanwhile, Police arrest two other team members who dey work with Shatta Wale for allegedly spreading rumors say de musician truly suffer gun attack on social media. Police say preliminary investigations dey show say de gunshot attack be fake. Dem arrest suspects, Kojo Owusu Koranteng aka Nana Dope den Eric Venator aka Gangee for \"allegedly spreading false information with de intention of causing fear and panic.\" According to de Police dem no go spare anyone who be criminally involved in dis matter.\n"
     ]
    },
    {
     "name": "stderr",
     "output_type": "stream",
     "text": [
      "INFO:root:Successfully wrote story number 49\n",
      "INFO:root:Writing articles for ENTERTAINMENT category...\n"
     ]
    },
    {
     "name": "stdout",
     "output_type": "stream",
     "text": [
      "Nigeria President Muhammadu Buhari dey among latest list of di world most influential Muslims. Publisher of di list, The Muslim 500, say di list dey made up of Muslims wey get influence on oda Muslims and di world. President Buhari occupy di 16th position for di list of the world's 500 most influential Muslims. Oda Nigerians wey dey di list na, Sultan Muhammad Sa'ad Abubakar III, HRH Aminu Ado Bayero, Sheikh Ibrahim Saleh. Alhaji Aliko Dangote, Sheikh Dahiru Bauchi, Sheikh Yakubu Musa Katsina, Sheikh Ibrahim Zakzaky, dey among odas. \"Anybody wey get power be it cultural, ideological, financial, political or otherwise to make change wey get significant impact on di Muslim world. Di selection of pipo for dis publication no mean say we dey endorse dia views and opinions, rather wetin we dey do na to measure dia influence,\" The Muslim 500 tok. According to The Muslim 500 Liverpool striker, Mohammed Salah, Sadio Mane, Paul Pogba, Zinedine Zidane also for di list of Most Influential Muslims for di world. But di top 10 on di list include See di full list of World's 500 most influential Muslims 2022 for di Muslim 500 website. \"Na approximately 1.9 billion Muslims dey for di world today, making up 26% of di world population, or just over one-quarter of mankind.  \"Dis include citizens of dia respective kontris wey also get sense of  belonging to di 'ummah', di worldwide Muslim community.\" Dis publication set out to ascertain di influence wey some Muslims get on dis community, or on behalf of di community.  Influence: Dat na anybody wey get power be it cultural, ideological, financial, political or otherwise to make change wey get significant impact on di Muslim world. Di selection of pipo for dis publication no mean say we dey endorse dia views and opinions, rather wetin we dey do na to measure dia influence. Di influence fit be of a religious scholar wey dey directly address Muslims and influencing dia beliefs, ideas and behaviour. Or e fit be of a ruler shaping the socio-economic factors within which pipo live their lives, or of artists wey dey shape popular culture. Di first two examples also point to di fact say di lists, and especially di Top 50 dey dominated by religious scholars and heads of state. Dia dominant and lasting influence no fit dey denied especially di rulers, wey in many cases also appoint religious scholars to dia respective positions.\"\n"
     ]
    },
    {
     "name": "stderr",
     "output_type": "stream",
     "text": [
      "INFO:root:Successfully wrote story number 50\n"
     ]
    },
    {
     "name": "stdout",
     "output_type": "stream",
     "text": [
      "Di gun wey actor Alec Baldwin fire on set, wey kill one woman, na one assistant director wey tell am say e dey safe give am, court records show. Di director wey dem no name no know say di prop gun contain live ammunition and indicate say e no dey loaded by shouting \"cold gun!\", na so di records tok. Cinematographer Halyna Hutchins suffer fatal shooting for her chest for Thursday incident on di set of di film Rust. Baldwin don express shock and sadness after im fatally shoot cinematographer Halyna Hutchins with prop gun for one New Mexico film set. Im tweet say im dey in contact with her husband and don offer support. \"My heart brake for her husband, their son, and all wey know and love Halyna,\" im write. Ms Hutchins, wey dey 42 years bin dey work as director of photography for di movie. \"Words no dey to convey my shock and sadness regarding di tragic accident wey take di life of Halyna Hutchins, wey be wife, mother and colleague wey we admire,\" im tweet. \"I dey fully co-operate with di police investigation to address how dis tragedy occur.\" Dem fly Ms Hutchins go hospital by helicopter after di shooting on Thursday afternoon but she died from her injuries. Director Joel Souza, 48, suffer injury and dem carry am from di scene for Bonanza Creek Ranch by ambulance. One actress for di film, Frances Fisher, tweet on Friday say Mr Souza tell her say dem don release am from hospital, US media also report di same tin. Di hospital no gree comment on Mr Souza condition, as dem say e go go against privacy laws. Tok-tok pesin for Mr Baldwin, say di incident involve misfiring of prop gun wey get blank bullets. Police dey try to establish which type of projectile comot from di prop gun and how. Local media reported say dem see Mr Baldwin outside di Santa Fe County sheriff office in tears. One tok-tok pesin for di local district attorney office tell BBC News say di investigation still dey \"preliminary\" stage. \"At this time, we no know if dem go file court case,\" na so First Judicial District Attorney Mary Carmack-Altwies tok. Di actor na co-producer of Rust and im play e namesake, outlaw wey im 13-year-old grandson dey convicted of manslaughter. Di oldest of four brothers, all actors, Mr Baldwin don star for plenty TV and film roles since di 1980s. Ms Hutchins come from Ukraine and she grow up for Soviet military base for di Arctic Circle, according to her personal website. She study journalism for Kyiv, and film for Los Angeles, and dem name her \"rising star\" by di American Cinematographer magazine for 2019. Na she be di director of photography for di 2020 action film Archenemy, wey Adam Egypt Mortimer direct. \"I dey so sad about losing Halyna. And so angry say dis fit happen on set,\" Mr Mortimer tok for tweet.  Such incidents on film sets dey extremely rare, but e don happun before.  Often times dem dey use real firearms during filming, but dem dey load am with blanks - dis na cartridges wey fit create flash and a bang without discharging any projectile.  For 1993, Brandon Lee - di 28-year-old son of late martial-arts star Bruce Lee - die on set after dem accidentally shoot am with prop gun while dem dey film death scene for di film The Crow. Di gun mistakenly get real bullet wey dem load inside to use as test.\n"
     ]
    },
    {
     "name": "stderr",
     "output_type": "stream",
     "text": [
      "INFO:root:Successfully wrote story number 51\n"
     ]
    },
    {
     "name": "stdout",
     "output_type": "stream",
     "text": [
      "For days now, plenty tok don dey about Nigerian singer Tiwa Savage and one alleged sex tape video of her. Na last week, di \"Somebody's son\" singer reveal say pesin bin dey blackmail am for one clip wey she bin do with her bobo. Last week, Tiwa Savage bin tok for one interview for The Angie Martinez show - for New York Power 105.1 fm say e get some pipo wey dey try blackmail her over one allege sex tape and she don decide to call dia bluff as she no go pay dem shishi.  Dis conversation don see Nigerians and fans of di singer ask why celebs like to dey record sex tapes. Dis question come about as some don also point out di oda times wey sex tapes of dia favourite celebs don go viral. Over di last few years, celebs don enta di kwanta of leaked naked pictures or video of dem wey comot or bin dey leaked for social media. Dis na di oda times wey such leaks and threats of blackmail to leak dia nudes don happun to celebs for Ghana and Nigeria. For April 2020, Nigerian waka singer,  Salawa Abeni bin burst pipo head afta she say pesin bin dey blackmail am say dem go post her naked pictures if she no give them money.  For di Instagram post she reveal say she bin either dey for hospital or with her partner when dem take di pictures but tok say she no go let anyone bully her as she post di pictures herself.  Later police come arrest di alleged blackmailer wey bin dey di age of 19. For 2017, video comot of di Mosquito Killer singer dey masturbate for inside Snapchat.  Tori pipo tok say im later comot to reveal say na hack dem hack im phone post am. One of di most controversial Big Brother Naija reality TV show housemates, Tacha bin receive blackmail for 2020 for nude pictures wey she say bin dey edited. She come on Twitter to post di email wey she bin get. For April 2020, media personality Toke Makinwa bin face blackmail too by pipo wey tok say dem go post her nudes except she pay dem. For Instagram post wey she later comot, she post di picture and tok say di one wey dem bin dey blackmail her with dey photo shopped. For 2018, video bin comot for di Dancehall artiste snapchat wey apparently show one woman dey give am blowjob. E later post video on top im same snapchat wia e confam di video wen e ask weda dem neva see pesin dey collect head before. Howeva im no confam weda di pesin wey dey di video na him.\n"
     ]
    },
    {
     "name": "stderr",
     "output_type": "stream",
     "text": [
      "INFO:root:Successfully wrote story number 52\n"
     ]
    },
    {
     "name": "stdout",
     "output_type": "stream",
     "text": [
      "Di tok of one so called sex video of popular singer Tiwa Savage don become di number one trend for Nigerian social media space. As hundreds of thousands of pipo dey search di video online, some dey chook mouth to discuss am di mata. Di singer and songwriter bin earlier reveal say pesin dey try blackmail her wit her short sex clip. She share dis tori for one radio show - The Angie Martinez show - for New York Power 105.1 fm on 8 October. \"I no go call am sextape, but na video of me wit di pesin wey I dey see (date) right now\", na so she tok Tiwa say dem share di video wit her wey show her wit di bobo wey she dey currently date and she say di pesin wey get di video come dey blackmail her and dey ask for money. Reports bin say di alleged video later surface for social media wey make many of her fans dey tok. E no dey clear if na Tiwa Savage dey di video, dat na wetin some Nigerians dey tok. Odas wey believe say na she dey di video  don criticise di move. Nigerian celebrities don also chook mouth for di conversation. Popular media personality, Daddy Freeze say dis na opportunity for fans to show her love. \"Wetin she do na wetin everybody dey do, wetin just different na say she carry camera go dia.\" E say dis 'sex video' go objectify women and dis no go do women any good E say dis na time for oda women to stand wit each oda and stop to dey laugh  \"Dis na your role model, your fave or whatever you dey call her, she dey in need right now ,  She no need your money or any other tin, she need your love.\" Nollywood actress, Susan Peters also chook mouth. For her Instagram page, Susan Peters ask why pesin go do video of woman alone no put im face. \"Why you go even do video in di first place?\", she ask. Anytin you do, you go reap...our sympathy don go off di roof, she add. Actress, Mercy Aigbe tok for Instagram post say, Nobody holy pass. \"Any man wey love you no go record you during intimate moments,\" na so Actress Georgina Onuoha tok for one video she post. She advise women make dem no trust any man no matter how di relationship dey shark dem. \"No lose senses, no trust pipo even your husband\", Georgina add am even as she say nothing wrong to fall in love. Former reality TV star, Angel Smith also comment to criticise di pesin wey decide to leak di sex tape. \"Di problem no be di fact say pesin make a sex tape or say pesin take a picture naked. Di problem go always lie wit di pesin wey decide to leak am.\" she tok. Actor and reality TV star, Tochi also ask pipo to stop dey post Tiwa Savage picture at dis time. \"Please stop all dis posting let her heal, before her son starts asking her why people are posting her and tagging her a queen\". Wetin Tiwa Savage tok about di video? For inside post wey she put for social media, Tiwa savage bin tell di pipo wey dey behind di sex video say dem hate her sake of say she take di mata wey dem wan take destroy am joke for stage. Tiwa savage say she don dey able to control di gbege since she don come out to tok about am. Tiwa bin write for di post say: \"You hate how I dey able to control di narrative and get ahead of one story before e consume me and how I dey able to joke on stage about sometin you bin think say suppose destroy me and make me feel ashamed.\" \"You must knock my head wen you see me odawise…,\" she post. Di Nigerian Afropop queen, bin also tok on stage during one show for Lagos say \"nobody go ever see di sex tape\".\n"
     ]
    },
    {
     "name": "stderr",
     "output_type": "stream",
     "text": [
      "INFO:root:Successfully wrote story number 53\n"
     ]
    },
    {
     "name": "stdout",
     "output_type": "stream",
     "text": [
      "Ghana Police don reportedly arrest musician, Medikal sake of he brandish weapon on social media. According to Accra-based Citi FM, dem deny de musician police enquiry bail after en arrest Thursday evening. Around September 26, Medikal share video of himself as he dey hold gun on social media. Police no out statement on en arrest but sources dey report say de musician spend de night in cells.  He dey expected to appear in court on Friday October 22, 2021 according to local reports. De police reportedly move Medikal from de Accra Regional Police Headquarters to undisclosed police station, where he dey detained. Police never release statement or comment on im arrest. Dis latest arrest dey come hours after court remand dancehall artiste, Shatta Wale in police custody for de alleged publication of false information.  Meanwhile earlier dis week, Police arrest another young man who dem describe as \"dangerous armed robber\" who also brandish weapon on social media.  Officials track him down wey dem arrest am, during de arrest dem retrieve about four weapons on de man who police say dey on dema wanted list. Section 7 of de Arms and Ammunition Decree of 1972 dey state:  'No person except in accordance with terms of permit granted or written permission from Inspector-General of Police, publicly display arms or ammunition.' 'Discharge any firearm or other weapon in any public place.' Anyone wey go commit such a crime go face fine or go jail for up to five years.\n"
     ]
    },
    {
     "name": "stderr",
     "output_type": "stream",
     "text": [
      "INFO:root:Successfully wrote story number 54\n"
     ]
    },
    {
     "name": "stdout",
     "output_type": "stream",
     "text": [
      "Ogbonge Afrobeats musician Tiwa Savage sex tape mata na still di biggest gist for Nigeria afta one video bin leak for social media on Monday evening 18, October 2021. Although BBC Pidgin never confam di originality if na Tiwa Savage dey inside di video or not, many pipo don chook mouth inside di mata. Tori be say na for one interview wey Tiwa do wit radio host Angie Martinez of Power 105.1 for New York early dis month she first reveal di mata of di sex tape.  For dat interview she say somebody dey try blackmail her sake of sex tape. Savage, wey be 41 years, na one of di biggest Afrobeats stars for di world and she dey signed to Universal Music Group. So how dis sex tape land for internet? According to Tiwa she say her lover na im post di video for Snapchat by accident and im bin delete am afta him realise im make mistake but one pesin bin don already download am. She add say she bin cry wen she first see di video and fear for di kain reaction she go get. Tiwa say di blackmailers bin dey ask her for money but she no go pay dem shishi. \"I decide say I no pay di pesin because if I do, two months from now, three months down the line or even two years later, dem go come back again,\" she tok. \"Who knows, if I send di money, di pesin go probably release am. I no go let anybody to blackmail me onto say I do something natural.\" She add put Dis one hard to answer, but distance from dia love interests fit be di major factor why dem dey do dis kain tin.  Actors dey spend months away from dia spouses and lovers sake of dia work. And Musicians too dey tour di world for months.  So Sexting fit be option for dem to spice up dia relationship. Tiwa Savage don react to di allege sex video.  For inside post wey she put for social media, Tiwa bin tell di pipo wey dey behind di sex video say dem hate her sake of say she take di matter wey dem wan take destroy am joke for stage. \"You hate how I dey able to control di narrative and get ahead of one story before e consume me and how i dey able to joke on stage about something you bin think say suppose destroy me and make me shame.\" \"You must knock my head wen you see me otherwise…\" she post. Na mixed reaction from celebs and fans wey chook mouth inside di mata. Some of her colleague try to rally around her as dem dey post her picture wit di #queen while odas blast her for wetin she do.\n"
     ]
    },
    {
     "name": "stderr",
     "output_type": "stream",
     "text": [
      "INFO:root:Successfully wrote story number 55\n"
     ]
    },
    {
     "name": "stdout",
     "output_type": "stream",
     "text": [
      "Mix reactions don follow di apology from di lady wey accuse Nigerian actress, Mercy Johnson Okojie say she dey at fault for wetin hapun to her pikin for school. Di lady bin apologise to Mercy Johnson on Friday afta di actress speak up on social media about di experience wey her daughter dey pass true for school. Nollywood actress, Mercy Johnson Okojie bin post one long narration wia she claim say one teacher dey bully her daughter for school and ask weda na crime to be Mercy Johnson-Okojie daugher? \"A teacher for my pikin school don dey bully my daughter constantly for 2 whole weeks. She no be her class teacher, yet she dey show up for her class everyday to intimidate her!\" Di actress tok. For di caption wey follow di post for her instagram handle, she ask;  \"Wetin you go do wen di teacher na actually di bully and your pikin di constant victim? Enough is enough, I don report to di school authorities and I go see dis to di end. Immediately afta di actress post dis, one social media user claim to be eyewitness of wetin happun for di school on Thursday. Di social media user accuse Mercy Johnson of harassing di school Head Teacher with thugs afta dem correct her daughter for fighting another child during school hours. And to respond to dis accusation from di social media user, Mercy Johnson go live on Instagram while she visit di school.  For di live video, Mercy Johnson speak with di Head teacher and ask her if dem meet on Thursday and di Headteacher say no. Later on Friday, di lady wey bin accuse di actress come do video to apologise to Mercy Johnson for wetin she bin tok before. \"I just come on here to apologise to Mrs Mercy Johnson Okojie. I no get di correct information and I no get first-hand information on everything,\" di lady tok. \"I believe wetin I see over wetin go don happun there. So I based my judgment based on dat and I dey very sorry for whatever issues I fit don cause her family. \"And whatever trauma I go don cause dem throughout di whole of today. I really hope she finds am for her heart to forgive me.\" Di lady also allege say she dey receive death threats since she make di accusation, and beg di public to forgive her. Di management of Chrisland School tell BBC Pidgin say dem dey investigate wetin actually happun for dem to fit establish di true state of tins.  Akin Fadeyi wey be Member, Advisory Board of Chrisland tok on behalf of di School Management say dem don dey do tok-tok with each and everyone wey di mata concern. \"We dey work on every available information wey dey our disposal and dey investigate what actually take place to enable us establish di true state of things.\" \"Dis, we don quickly start to dey engage with each and everyone wey dey concerned, both within our internal and connected relationships.\" Di school promise to inform BBC Pidgin once dem don dey able to know wetin truly happun. Media personality Tolu Oniru, Alias Toolz write for her Instagram story  say di apology from di teaher no dey acceptable. She advise Mercy Johnson-Okojie to sue a lady who accused her of storming her daughter's school with thugs. \"Mercy Johnson Okojie I know you dey gentle, but please sue her...Mercy please sue! I go distribute aso-ebi for di pipo wey want to follow you to court.\" Odas too don react for social media as di mata don turn hot topic among some Nigerians.\n"
     ]
    },
    {
     "name": "stderr",
     "output_type": "stream",
     "text": [
      "INFO:root:Successfully wrote story number 56\n"
     ]
    },
    {
     "name": "stdout",
     "output_type": "stream",
     "text": [
      "Nollywood actress Tonto Dike ex-lover, Prince Kpokpogri don dismiss report wey dey spread say police arrest am Monday, 18th October for Abuja, Nigeria capital. Local news media bin report on Monday say police arrest Kpokpogri on top attempt to cause a breach of peace for Transcorp Hilton Hotel, Maitama, Abuja. According to local media, e bin visit di hotel with two police guards to collect back one Lexus SUV wey Tonto Dikeh wey lodge dia bin park before police come arrest am. But Prince Kpokpogri wey follow BBC Pidgin tok for telephone afta two attempt to reach am, deny any arrest by police; \"Today na public holiday and dem say police arrest me yesterday but I dey my house today wey be public holiday, wetin dis one tell you?  \"No be dis same tin dem bin tok di oda time wey dem say DSS arrest me wen I later come out to debunk am?\" Kpokpogri add say nobody arrest am anywhere and if pipo dey tok say dem arrest am, make dem tok di location wey e for happun and call out pipo wey witness di arrest. \"If police arrest me, I go fit tok to you? I no wan tok on dis mata for now until di outcome of police investigation. \" \"I no wan pre-empt di authorities and I no wan tok anything regarding wetin dey happun pending di outcome of di police investigation. I be publisher too, so I know most of dis tins.\" Prince Kpokogri no gree reveal di nature of di investigation wey e say police dey do but e insist say im dey wait for di result of dat investigation before e go make any further comment. Meanwhile, di first time wey BBC Pidgin try to reach out to Kpokpogri during early hours of di day, di pesin wey pick di phone claim to be im brother and say e no fit confam if police arrest am or not. Also, local tori pipo Punch dey report say Deputy Inspector-General of Police, FCIID, Joseph Egbunike, order di arrest of Kpokpogri afta reports of one threatening situation for di hotel. Dem report say Prince Kpokpogiri wey bin dey face one investigation for Force CID bypass Police authorities, hire two police officers wey dey attached to Maitama Police station, den carry dem go Transcorp Hotel and threaten to open fire give Tonto Dikeh if she no hand over di keys of one SUV give am. But prince Kpokogri deny di arrest and dismiss all dis report. For July dis year, Tonto Dike bin officially confam say she dey in a relationship with Prince Kpokpogri. Dis bin confam di tori wey bin dey fly up and down about her relationship status den. Di Nollywood actor tag Prince Kpokpogri inside social media post wia she dey count her blessings and also refer to am as her 'husband'. Plenty pipo bin congratulate her and say dem happy for her. Prince Kpokpogri too bin also enta social media to unveil Tonto Dike and e say she dey blessed among women, im later delete di post.\n"
     ]
    },
    {
     "name": "stderr",
     "output_type": "stream",
     "text": [
      "INFO:root:Successfully wrote story number 57\n"
     ]
    },
    {
     "name": "stdout",
     "output_type": "stream",
     "text": [
      "One woman don die and one man dey injured afta American actor Alec Baldwin bin shoot prop gun for one feem set inside New Mexico. Police say oga Baldwin bin shoot di gun for di filming of di 19th Century western feem, Rust. Dem bin rush di woman go hospital but she die from di wound. Di feem director tok say di man wey injure dey collect emergency treatment. Tok-tok pesin for oga Baldwin tell tori pipo AP say di accident na sake of misfiring of prop guns wey bin get blank bullets inside.  Di name of di woman wey die na Halyna Hutchins, she be 42-years old. She bin dey work for di feem as director of photography. Di man wey dey hospital na Joel Souza, 48, im be di feem director. As at now police still dey investigate di mata for di Bonanza Creek Ranch, wey be popular feem location,  and neva file charges. For statement, Santa Fe sheriff tok-tok pesin say oga Baldwin don tok to police. According to her website, Hutchins bin come from Ukraine. She bin grow up for one Soviet military base for di Artic Circle. She study journalism for Kyiv and later study feem for Los Angeles. For 2019, America Cinematographer magazine bin nam am as \"rising star\" for di industry. Following dat mention, she go on to do director of photography work for di 2020 action feem Archenemy, wey Adam Egypt Mortimer bin direct. Oga Mortimer enta social media to hala about how her death pain am.\n"
     ]
    },
    {
     "name": "stderr",
     "output_type": "stream",
     "text": [
      "INFO:root:Successfully wrote story number 58\n"
     ]
    },
    {
     "name": "stdout",
     "output_type": "stream",
     "text": [
      "Ghanaian Dancehall musician, Shatta Wale say en life dey in danger hours after reports say someone shoot am. Inside Facebook post, de musician talk say \"my life dey in danger and I dey on de run till dis country show me say laws dey.\" He reveal say he sheda create de perception say someone shoot am partly sake of how some men of God dey prophesy say he go die. News of di shooting of di musician begin trend on Monday and dis lead to statement from de Ghana police wey say dem dey investigate de matter. Inside di post, Shatta Wale accuse pastor wey release prophecy say dem go shoot am on 18th October say \"Pastors go always tok tins come plan evil to take back am, so dat me and you go believe say dem be powerful men of God\". E also blame di police on top say dem no do anytin to wetin im call \"threatening statement\" wey im call di prophesy from di pastor. \"Dis no be de first time I go through dis threats for dis country, now I dey go through emotional trauma alone\" he add. He san apologize give some of en team members who he claim for de post inside say he take dema phone take push de fake news say someone shoot am. Ghana police in de last few hours notify de public say dem dey investigate reports of de alleged shooting of de dancehall musician.  According to de Ghana Police Service, dem try trace de whereabouts of de musician to no avail.  Dem try identify de whereabouts of de musician from en family, friends and even hospitals for de city but dem no find am.  Police say visits to be house show say he no dey around, so make anyone with information come forward to assist dem.  Charles Nii Armah Mensah Jnr, aka Shatta Wale be Ghanaian dancehall musician who gain popularity as one of de controversial artistes for de country.  Dem born am on 17th October, 1984 during de PNDC era under de late Jerry John Rawlings.  He enter de music scene around year 2004 with de artiste name \"Bandana\" wey he release hit single \"Bandana.\"  Dis song introduce am into music as one of de major acts, but after a few years en popularity go down sake of he no drop hits. After he go into hybernation for some years, he reintroduced en body as \"Shatta Wale\" around 2013.  En music and personality take de news by storm in 2013 when he diss de Vodafon Ghana Music Awards Organisers say dem rob an of what award as Dancehall Artiste of the Year.  Since then, Shatta start dey release multiple hit tracks den albums which solidify en name as one of de major musicians for Ghana today. Ghanaians and fans of Shatta Wale make worried about de alleged reports say Simone shoot am. Some dey hope say dis be prank, but de news still dey shock as some members on en team make claims say dis be true.  Some celebrity musicians like Samini describe what dey happen as expensive joke, which go land Shatta in hot soup sake of police dey search am.\n"
     ]
    },
    {
     "name": "stderr",
     "output_type": "stream",
     "text": [
      "INFO:root:Successfully wrote story number 59\n"
     ]
    },
    {
     "name": "stdout",
     "output_type": "stream",
     "text": [
      "Accra circuit court remand dancehall musician Shatta Wale in police custody for one week. De court charge am with de publication of fake news, but Shatta Wale plead not guilty to di charge. De court judge adjourn next hearing of de case to October 26. De musician bin don spend two nights inside police custody since en arrest, as e be so im go spend more nights for dia hand. Ghana Police Service say Shatta Wale wey dem arrest go assist de police in investigations for im alleged involvement in de creation and circulation of information wey intend to cause fear and panic\"  Under Ghana law, de offense Shatta Wale commit fall under misdemeanours, punishable by various terms of sanctions for Ghana. Such offenses dey include assault, theft, unlawful assembly, official corruption den public nuisances. Shatta en offense dey fall under public nuisances. Lawyer Yaw Oppong, say for such offenses de suspect if found guilty fit get maximum 3 years jail term or caution. \"Normally de maximum punishment be about 3 years. Dem fit caution am too wey e go dey like fine\" according to Mr. Oppong.   Meanwhile, police also arrest de man of God, Stephen Akwesi aka Jesus Ahuofe, wey 'prophesy' say Shatta Wale go die on October 18. Akwesi be founder and Leader of New Life Kingdom Chapel International. Meanwhile, Police arrest two other team members who dey work with Shatta Wale for allegedly spreading rumors say de musician truly suffer gun attack on social media. Police say preliminary investigations dey show say de gunshot attack be fake. Dem arrest suspects, Kojo Owusu Koranteng aka Nana Dope den Eric Venator aka Gangee for \"allegedly spreading false information with de intention of causing fear and panic.\" According to de Police dem no go spare anyone who be criminally involved in dis matter.\n"
     ]
    },
    {
     "name": "stderr",
     "output_type": "stream",
     "text": [
      "INFO:root:Successfully wrote story number 60\n"
     ]
    },
    {
     "name": "stdout",
     "output_type": "stream",
     "text": [
      "We all bin sabi say e dey come, but now e dey official: Squid Game don become Netflix biggest ever series launch. Na 111 million users watch di Korean drama for im first 28 days, e knock off Bridgerton (82 million) from di top spot. Netflix dey count one view as anyone wey watch two minutes of a episode. Netflix vice president for content for Korea, South East Asia, Australia and New Zealand say di show success dey \"beyond our wildest dreams\".  Minyoung Kim tell CNN say: \"Wen we first start to dey invest in Korean series and feems in 2015, we know say we bin wan make world-class tori dem for di core K-content fans across Asia and di world. \"Today, Squid Game don break through beyond our wildest dreams.\" Di nine-part series, wey make im debut for September, tell di tori of a group of pipo wey no fit for di society  wey dey take part in a series of children playground games. Prize of 45.6bn Korean won (£28m) dey up for grabs, wey no be sometin wey sound too bad until you realise say if you lose, dem go kill you. From celebrities to sports stars, everybody dey tok about Squid Game since dem launch am. So wetin be di secret to im success? Warning -di rest of dis tori contain some small spoilers...  Why Squid Game dey so popular? E similar in some ways to The Hunger Games, or di 2000 movie Battle Royale, di show focus on a group of pipo for South Korea wey dey desperately in debt. Dem first trick dem (den dem late volunteer) to play a deadly tournament of children games, as dem realise say e fit be dia only chance to win di money dem need to survive. As e dey with di Oscar-winning Korean feem, Parasite, di hardship wey dey for Squid Game na wetin make am get appeal to an international audience, according to Dr Hye-Kyung Lee - wey dey research di rise of K-drama and K-pop for King's College London. \"These dramas or feems dey entertaining, and dem get something unique wey fit strike a chord with pipo around di world. \"Dem dey present analysis of society and social economic conditions, wey pipo fit relate to through di characters.\" Dr Lee say oda Korean dramas dey touch on issues of society, economy and politics, but Squid Game dey far more direct for im approach. \"E dey serious, di message dey great and I tink say e follow show wetin dey hapun right now.\"\n"
     ]
    },
    {
     "name": "stderr",
     "output_type": "stream",
     "text": [
      "INFO:root:Successfully wrote story number 61\n"
     ]
    },
    {
     "name": "stdout",
     "output_type": "stream",
     "text": [
      "Popular Nigerian actress, Ireti Doyle don come out to distance herself from her daughter business. Dis na afta some pipo don lay fraud allegations for di domot of Kachi beauty products wey her daughter, Ngozikachi Abimbola  Onyeluo get. For Instagram post, Ireti Doyle share one 'public notice disclaimer' say she no dey in any way connected to Kachi Beauty Product. In her words : \"I no get and I neva get any share, be a director, been on dia payroll or collect any money from di said business. I no get any affiliation wit or interest of any kain for Kachi beauty products and dia board/proprietors.\" Madam Ireti acknowledge say di 34 year old founder of di business na one of her biological offspring and dat na di extent of her relationship. Dis no be di first time wey di Tinsel actor go address dis mata. She bin don repost one Instagram post from Kachi beauty products for November last year. For di post, Kachi clear di air say her mama, Iretiola Doyle no be her business partner nor get any dealings wit Kachi products. Dis post don make di Nigerian actress name dey trend for social media space as pipo wan sabi why pipo dey drag her daughter for scam allegations. For October 2020, Kachi bin advertise one hair business scheme wey promise to make entrepreneurs millionaire by di end of di year. She ask pipo to join wetin she tag as wholesale distribution millionaires.  Some local tori pipo also publish di advert wey bring in so many customers, eventually. For media briefing, Madam Ngozijachi Onyeulo, bin disclose say di beauty brand dey \"currently run a 'Distributorship Scheme' wit over 1,000 distributors.  \"Di mission na to take over Africa and beyond wit our durable and yet affordable hair extensions\", she tok. But tori begin get K-Leg wen pipo begin report say dem no see product or money. For one interview wit popular OAP, Dele Momodu, Kachi respond to di allegations wey customers sama her. Kachi say she no be scammer. She say di misunderstanding mostly dey come from bloggers wey dey carry fake news. \"I no dey take pipo money, I no dey tiff, I be business woman and challenges dey come up in business.\" For di interview, she say her business bin face a lot of challenges from di coronavirus pandemic lockdown and increase in dollar/naira rates wey affect purchase and delivery of products to customers as at wen due. She also claim say she don begin refund di over 1000 customers wey ask her for refund. \"I need make my customers trust me, na why I decide say I go begin return dia money. Na difficult tin to do but I need prove to my customers say dem bin priority to my business.\" As at di time of di interview wey happun for 19 January 2021, Kachi say she don spend 20 million naira to refund pipo money and she get documents to back am up. Apart from di biological affiliations, e bin get claims from some of di aggrieved customers say dem buy into di Kachi beauty product hair scheme sake of her mama wey be known face for di entertainment industry. But di actress don advise those \"wey bin dey affected for dia business dealing wit Kachi to liaise wit her or the appropriate authorities equipped to deal wit dat kain mata to resolve any differences.\"\n"
     ]
    },
    {
     "name": "stderr",
     "output_type": "stream",
     "text": [
      "INFO:root:Successfully wrote story number 62\n"
     ]
    },
    {
     "name": "stdout",
     "output_type": "stream",
     "text": [
      "Former reality TV star, Kourtney Kardashian don finally accept proposal. Dis na as her bobo of less than one year, Travis Barker propose to am on Sunday. Tori be say im pop di question for beach for California, wey im involve all her family members before hand. E happun afta dem bin just land from dia trip to New York wia oga Barker bin go drum for Saturday Night Live. Many pipo don dey hail di 42 year old model most especially her family members wey join am to break di news. Na for February 2021, dem tell di public say true-true dem dey date afta months of speculation. Even sef di way di fire catch for dia relationship shock pipo wella, as Kourtney normally na pesin wey no dey like tok abut her relationship. Kourtney currently get three pikin with her ex-boyfriend, Scott Disick wey dem don dey since 2006 - Mason, Penelope and Reign. 45 year old Travis Barker na popular rockstar wey dey with di band Blink-182. E don marry two times before, first to actress Melissa Kennedy and then to model Shanna Moakler. E get two children out of im last marriage wit Shanna - Alabama and Lander. As we tok before, di way Kourtney post lovey-dovey pictures from February for social media togeda with couple besties actress Megan Fox and rapper Machine Gun Kelly. Di rumours bin start around 2019 but at dat time Travis bin say na just friends dem be. Howeva, dem start dey post pictures just afta Valentine Day like say tomorrow no dey and even rom June, proposal rumour don dey fly up and down.\n"
     ]
    },
    {
     "name": "stderr",
     "output_type": "stream",
     "text": [
      "INFO:root:Successfully wrote story number 63\n"
     ]
    },
    {
     "name": "stdout",
     "output_type": "stream",
     "text": [
      "Di burial of popular Nigerian actress Bimbo Oshin husband, Oladiran Ishola Ibironke wey many pipo sabi as Dudu Heritage don take place for Ibadan, di Oyo-state capital, South-west Nigeria dis Friday. Plenty Nollywood actors, golfers and celebrities actors turn up for Ibadan Golf Club to pay dia last respect to Dudu Heritage wey be di Captain of Ibadan Golf Club before im death. According to reports, di socialite, Oladiran Ishola Ibironke bin slump and die as e dey play golf on September 12, 2021. Di burial programme start wit tree planting wey be normal golf tradition for di yard of di golf course. Vice-Captain of di club, Tunji Oladosu for inside statement announce say \"Im burial activities go begin on October 14 wit Christian wake and Night of Tributes. On Friday, we go plant tree as our tradition for members at a time like dis.\" E say di burial of di Nollywood actress husband go dey honoured by golfers from all over di kontri. Actors wey present for di burial include Adewale Adeoye, wey many pipo sabi as Adewale Elesho, Muyiwa Ademola, Jaiyeola Kuti, Adeniyi Johnson, among odas dey di burial. Plenty pipo for social media don also offer dia condolence to di family and friends of Dudu Heritage.\n"
     ]
    },
    {
     "name": "stderr",
     "output_type": "stream",
     "text": [
      "INFO:root:Successfully wrote story number 64\n"
     ]
    },
    {
     "name": "stdout",
     "output_type": "stream",
     "text": [
      "Ogbonge UK musician Adele don drop her first new music in six years wey she title Easy On Me. Dem release Easy On Me, one emotional song, for midnight UK time, and na di first taste for fans to get to hear her \"divorce album\", with di title 30. And di follow-up to her successful albums like 19, 21 and 25. 'Easy On Me' na song wey Adele use to explain her decision to walk away from her marriage for 2019, as she ask her son and ex-husband for understanding. \"I change who I be to put both of una first,\" she sing, \"but now I give up\". Adele voice dey full of regret, but e also strong. For di chorus, \"go easy on me\", she bin dey address herself as well as her family - as she realise say e dey too soon for dem to see her point of view. Di song na di first track for Adele soon to come album, and e go back to di year of her separation. Fans around di world bin stay up to hear di song as soon as dem premier am - na 299,000 pipo bin watch di debut live on YouTube. Dis dey come just five weeks before her new album – wey dem bin first tease for one global marketing campaign wey dem project di number 30 for buildings and billboards for Brazil, Mexico, Dubai, Italy, Germany, Ireland, US and di UK. Fans correctly guess di release date of 19 November when Taylor Swift bin move her upcoming album forward by a week, to avoid clash wit Adele. Like her previous three albums di title dey refer to a specific age for Adele life. Thirty na di age wey she bin marry her long-term partner, Simon Konecki, and den leave am. Adele say she record di album to help her nine-year-old son understand dia divorce di following year. \"I bin wan explain to am through dis record, so dat e go get wen im dey in 20s or 30s, who I be and why I voluntarily chose to scata im entire life to find my own happiness,\" she tell Vogue magazine. \"E bin make am really unhappy sometimes. And dat na real wound for me wey I no know if I go ever heal from,\" she add. Now at di age of 33, di singer say she don \"learn a lot of home truths\" about herself while she bin dey write her new music.\n"
     ]
    },
    {
     "name": "stderr",
     "output_type": "stream",
     "text": [
      "INFO:root:Successfully wrote story number 65\n"
     ]
    },
    {
     "name": "stdout",
     "output_type": "stream",
     "text": [
      "Winner of Big Brother Naija 'Shine Your Eye' Season 6, Whitemoney, AKA Hazel Oyeze Onou don tok about in journey for inside di BBNaija house. For exclusive interview with BBC idgin, he follow tok im money situation before im enta di house afta tori say im get shoe factory for house comot. Im explain say, \"na poverty carry me come BBNaija house. I dey hustle normal but dat one na business, you fit get 10 million naira and one million go be your profit. E no mean say you don blow, e just mean say, you dey make money.\" E come reveal say im business na say sometimes e go get im own shoes to sell, oda times na oda importers dey give am and e go come give dem di money. \"But 30 million naira, you know how many containers dat one fit bring come? Di money no go change my life but e don change my destiny.\"  On top relationship mata for im life, im tok about im relationship both inside and outside di house even as e reveal say e don tay since im get babe. For im ship with Queen, e say na friendship dem get, e say, \"Queen na my padi for life, she bin make my waka inside di house to dey very easy. So e affect me wella wen she comot\". Anoda relationship wey make pipo to tok for house na im own with Pere, e recall say, \"na because we be two alpa males and one need to calm down for di oda one, but now we don dey alright.\" For di mata of di pesin wey claim say she carri belle for am, Whitemoney shout say make she getat! E reveal, \"I neva dey any relationship since 2015 and wen I dey inside house, pesin come carri belle for me outside di house Tah! I no get dat kain omnipotent penis jare!\" E give advise to pipo wey wan enta di house as winner say di koko na to study wella for anytin you wan achieve. For im journey of how e dey study, e say, \"I don dey watch di show since di time wey Uti win for Big Brother Africa, and I don audition four times, I don study di show well-well. \"One tin wey common for evribodi wey win na say dem win based on dia real self. Dem no dey sell di win give anybodi.\" Na so e tok. You fit watch di full interview here.\n"
     ]
    },
    {
     "name": "stderr",
     "output_type": "stream",
     "text": [
      "INFO:root:Successfully wrote story number 66\n"
     ]
    },
    {
     "name": "stdout",
     "output_type": "stream",
     "text": [
      "New Superman comics wey dey comot don 'set social media on fire'. Di koko tori be say di new set of comics go feature di Superman character as Bisexual pesin. Plenti pipo don dey halla on top di character wey don dey around for over fifty years. Some say na agenda wey dem dey follow. Howeva, BBC Pidgin don find out key things wey you fit no know about dis new bisexual character. Di Superman wey go comot for di next edition say im dey relationship with one male reporter, Jay Nakamura. No be Clark Kent, im name na Jonathan Kent wey be di pikin of di Superman wey we don sabi. Jon Kent first show up for 2015 as di pikin of Clark Kent and im reporter love interest Lois Lane. Tori from di new Son of Ka-El series show say im dey prepare to take ova from Clark as Superman. While di origin story of Jon Kent be say e be combination of different versions of Lois Lane and Clark Kent. Di current tori say im papa still dey and e dey plan to take over from an dat mean say dem born am. Avid lovers of di Superman comics however get theory for dat one take happun.  Dem tink say e go dey possible for Human and Kryptonians DNA to combine to born pikin on top say dem resemble.  Howeva, some believe e go hard for Lois Lane to carry di pikin to term except she dey under the red sun, wey dey for di original Krypton.  Anoda theory na say dem use di Gold Kryptonite to make Clark Kent human for long enough. So im no go process di yello sun so im go fit give Lois Lane belle. Di Yellow Sun for earth na wetin give Superman im power. Well im first appear for 2015 wia im dey di League of Super-Heroes dey work as Super Boy. Di character bin waka sotay im feature with Batman pikin, Damien Wayne as Super Sons. Di new Superman series wey dem call Superman: Son of Kal-El, im wey first comot for July 2021, dey show Jon Kent as di new Superman wey go replace im papa. So far for di series, Superman Jon Kent don fight wild fires wey climate change cause. E stop one high school shooting and also protest di deportation of refugees. Di coming out of Superman as bi na anoda way to bring di superhero wey don dey popular for years to 2021.\n"
     ]
    },
    {
     "name": "stderr",
     "output_type": "stream",
     "text": [
      "INFO:root:Successfully wrote story number 67\n"
     ]
    },
    {
     "name": "stdout",
     "output_type": "stream",
     "text": [
      "One woman revelation say both her and her mama dey sleep wit di same man - and nothing wrong wit am don spark reaction online. Madi Brooks wey dey live wit her husband for di US, explain inside one TikTok video, She say if she no dey in di mood, she dey happy for her mum to sleep wit her husband. Dis na because both Madi, her mama and her husband na swingers, according to wetin she tok. Dis one mean say dem dey in open relationships, dey exchange sexual partners for swinging parties and events. Although no be everybody wey dey for open relationship be swingers. For open relationship, partner dey agree to get relationship wit each other and openly agree to see other pipo.  Dem fit do am together, separately, or combination of both. But swinging na form of social sex wey singles and singles and couples engage in different kinds of sexual sharing or swapping wit each other. For inside di video, Madi tok say: \"Me and my mama na swingers and e dey great,  You know why? Because wen I no dey in di mood I fit just let my husband have her. \"Yeah, I be dat kain wife. \"I let my husband get her a number of days for di week.\" She tok. But no be only her mama she dey share wit husband wit, she also agree say her sister sometimes dey 'play' wit her husband. She say: \"You wan know how I dey keep my man happy? I let am play wit my little sister.\" Her videos don since go viral as ova 8 million pipo don watch am and e dey cause pipo to tok for her comment section. One pesin say: \"Dis one na enough TikTok for one year, I don comot!\" \"How dat conversation even dey start?\" anoda pesin bin ask. Oda tiktok user also say \"I no sabi how pipo fit share but dat na your life.\" Swinging na to exchange wife, husband or even partners. Na sexual activity wey some single pipo, married pipo or even partners wey dey committed relationship dey do to sexually engage wit others for recreational purposes. Pipo wey dey swing partners dey do am for different reasons. Pipo wey dey do am don describe di reason behind swinging say na to increase di quality and quantity of sex.  Daniel Saynt, wey be founder and chief conspirator of The New Society for Wellness (NSFW), one private members club for di adventurous say, Swingers no dey polyamorous, so dem no dey look for multiple romantic partners,  Saynt say. instead, swingers dey typically look for sex wit limited or no strings attached, so dat dem no go cheat on dia partners.\n"
     ]
    },
    {
     "name": "stderr",
     "output_type": "stream",
     "text": [
      "INFO:root:Successfully wrote story number 68\n"
     ]
    },
    {
     "name": "stdout",
     "output_type": "stream",
     "text": [
      "DC Comics don announce say im latest Superman, Jon Kent, go be bisexual. For dia next comic book issue, wey dem go release for November, Jon go dey in same-sex relationship wit im friend Jay Nakamura. Di storyline na part of 'Superman: Son of Kal-El', di series wey dey follow Jon as im take on di mantle of Superman from im papa, Clark Kent. DC Comics make di announcement on National Coming Out Day, one annual LGBT awareness day wey dem start for di US. Since dem release di series for July, Jon don already fight wildfires caused by climate change, stop one high school shooting, and protest against di deportation of refugees. For one earlier issue, Jon bin start one friendship wit Jay - one pink-haired reporter wey dey wear glasses. DC Comics say di two of dem go become romantically involved for di upcoming fifth issue, afta Jon \"mentally and physically burn out from trying to save everyone wey im fit save\". Dem neva reveal di details of di plot yet, but fotos wey DC Comics share show Jon and Jay dey kiss. Series writer Tom Taylor tell BBC say, wen dem first give am di job, im wonder \"wetin Superman suppose be today.\" \"E strike me say e go really be missed opportunity if we replace Clark Kent wit another straight white saviour,\" Oga Taylor tok. To im surprise, before im go pitch di idea make Jon be bisexual, dem tell am say DC Comics don already dey tink di idea. \"Tins don shift over di last few years - ten years ago, five years ago dis one fit dey more difficult, but I tink tins don shift in a really welcome way,\" Oga Taylor tok am. Im tok say apart from di backlash from \"trolls\" on social media, reaction to di storyline wey positive dey plenti. \"We get pipo wey tok say as dem read di news, dem burst into tears- pipo say dem neva bin tink am say for dia life, dem go see demsef in Superman... literally di most powerful superhero for comics,\" Taylor tok. \"You go always get pipo who go use di old line of 'don't put politics into comics' - dey forget say every single [comic book] story ever don dey political in some way,\" im tok.  \"People wey no realise say di [Marvel comic series] X-Men na analogy for di civil rights movement.\" \"We try to bring those kain pipo with us, but we dey write for di pipo wey go hopefully see dis Superman... and say 'Dis Superman na like me. Dis Superman dey fight for tins wey concern me',\" im add.\n"
     ]
    },
    {
     "name": "stderr",
     "output_type": "stream",
     "text": [
      "INFO:root:Successfully wrote story number 69\n"
     ]
    },
    {
     "name": "stdout",
     "output_type": "stream",
     "text": [
      "Winner of di Big Brother Naija TV Reality show, Whitemoney say di fact say im win di show don give pipo wey get di same background and story like im own hope. Whitemoney wey enta social media to express im gratitude to family, friends, fellow housemates and everybody wey show am support afta e dey announced as winner say \"As I know see pipo wey get stories like my own dey very discouraging and e make me feel say e go dey impossible to pass through those doors and emerge as Winner....BUT I DEY WRONG AS TONIGHT.\" E say di moment im enta di Big Brother Naija House na im e don get di desire and determination to be di pesin wey go give hope to those wey get plans to enta di game. Whitemoney also tok wetin e go use di N90 million wey im win from di show do. For interview wey e get wit di host of di show Ebuka Uchendu, before e dey declared as winner, whitemoney say if im win, e go use di money run business and pursue im music career. Whitemoney wey im real name be Hazel Oyeye Onou beat ova 20 housemates wey participate for di sixth season of di show to win di N90million grand prize plus oda ogbonge prizes. Many Nigeria celebs wey throw dia weight behind Whitemoney don express dia joy as dem enta social media to hail am as e dey announced as winner. Celebrities like Funke Akindele, Chioma Akpotha, Seyi Law, Cubana Chief Priest and plenty odas wit Hashtags like Who deyyy, #whitemoney bin celebrate am say e deserve to win. Di 29 year old winner of di 'Shine ya eye' season from Enugu state for im reaction to im winning hail everybody wey show am support and say street don win di money. \"Street boy don make am to di top, street boy don win di chow, who deyy\". Whitemoney na di sixth winner of di TV reality show since e start for March 2006. 29-year old Whitemoney come from Enugu state say e be businessman wey dey into import of shoes. Multitalented Whitemoney describe imself as open-minded \"jolly good fellow\" wey like to catch fun. Whitemoney bin establish imself as fave for di \"Shine Ya Eye\" House and one of im most endearing features na im kitchen presence. Right from di first week of di Season, Whitemoney make am a duty to make sure imself and im fellow Housemates dey well fed. Whitemoney during im stay for di house tok a lot about im music career and im love for music. E don always tok say BBNaija platform na very important platform to push im dreams and career. Whitemoney don walk away wit di ogbonge grand prize of N90m. Di N90m grand prize include N30m cash prize, cash in Abeg digital wallet, bitcoins courtesy Patricia, one two-bedroom apartment courtesy RevolutionPlus Property, a top of di range SUV from Nigerian automaker, Innoson Motors and a trip for two wey Travelbeta package. Big Brother Nigeria 1 Katung Aduwak $100,000 Big Brother Naija 2 Efe Ejeba N25,000,000 Big Brother Naija 3 Miracle Igbokwe N45,000,000 Big Brother Naija 4 Mercy Eke N60,000,000 Big Brother Naija 5 Olamilekan Agbeleshe N85,000,000\n"
     ]
    },
    {
     "name": "stderr",
     "output_type": "stream",
     "text": [
      "INFO:root:Successfully wrote story number 70\n"
     ]
    },
    {
     "name": "stdout",
     "output_type": "stream",
     "text": [
      "Angel Smith, one of di housemates for di Big Brother Naija, season six 'Shine Ya Eye edition' of di show siddon with BBC Pidgin afta di end of di show to tok about her journey and to clear di air on some issues wey hapun during di show. Angel wey make top five and be di fourth runner up for di season six edition of di show tok for dis exclusive interview say making it into di finals sweet her die as she bin no expect am and she dey grateful. \"I be smart woman I don already sabi say probability to win for me no too sure, I bin just one make am into finals and once I enta top five I be like omo e don set for me be dat. \" She tok. Angel also clear di air about issue wey bin come up and audience bin dey tok about like her bathing with guys and her relationship with dem for di house. \"No be strategy, di bathroom sef na communal bathroom, dem tell us say we suppose bath togeda. But based on say oda girls no too wan do am e come look like say I just dey do am make I enta dey bath with boys. \"No be strategy, for me na how I be, I dey very very comfortable, all those tins no too dey freak me like dat, I no dey place my value for pesin wey see my body, I dey place my value on tins wey dey my head, I smart boost.\" Because say you don see my body no mean say one tin one tin, e just mean say you don see my body and na wear e dey be dat.\" Angel tok. On her quarrel with fellow housemate Boma, Angel say she no wan dwell on negative tins. \"Di blame no be from me, anybody wey watch di video don tok say naim start am and na based off of my age.  I be 21 so e no too reason me as anything e just dey reason say I be small girl so any small tin, I be small girl, but like I said I no wan involve myself for anything negative so if e say na me start am den na me start am at di end of di day e no fit beat me, and wetin don hapun don hapun and I no too dey stress like dat, I no reason am becos say we no dey follow each oda and tok no mean say na beef, no be beef.\" She tok. Angel togeda with oda housemate Saskay na di youngest at 21 for di season six house. For Angel, dat one no hinder her at all. \"I no go lie to you, interacting with dem dey easy for me becos before I enta di house na mostly older pipo I dey tok to so e dey easy for me to blend but I no know for dem becos sometimes I dey feel say e get sometins dem go tok and I go reason say na becos I be 21, but for me e no really to shape anything.\" Angel bin trend well-well during di course of di show becos of her interaction with di guys and especially di plenti kisses she share with not one, two or three of di male housemates for di house. But for Angel all na cruise maybe except for one pesin \"Na cruise oh, I just go di house go catch cruise .\" I no know weda dem forget say na Tv show and na reality and we suppose entertain.\" On her relation-ship with Cross, Angel say: \"Becos our personalities dey kain of alike we be kain of di same pipo we dey always run tins, we be best friends, some kain of feelings involve, but e be situation wey I no wan push, I no dey like push tins, if e hapun and e want make we work, e go work, and if e no hapun and e no want make e work, cool too. Chemistry dey, but promise no dey say anything go hapun.\" She tok. On some misconception fans of di show get about her, especially relating to her mental health, Angel clear di air also. \"Dem tink say di mental health tin I dey always tok or di way I be no be di way I be outside, dem tink say di mental health tin na pity card, No be so, why I go want make pipo troll me with mental health? I tink dat na one tin pipo no get about me.  Dem also tink say I be loose babe becos I dey kiss plenty guys, dem dey call me slut, ashewo, but dat one eh, I dey still dey chill becos I don hear am before, dem no know me and I no dey use my sexual expression as how I dey judge myself cos I know say I smart die and those wey know me know me and those wey no know me no know me period!\" Angel tok. Angel also talk more about how she self-harm becos of mental health issues, sadness, depression and loss wey she suffer. Click here to watch di full interview.\n"
     ]
    },
    {
     "name": "stderr",
     "output_type": "stream",
     "text": [
      "INFO:root:Successfully wrote story number 71\n"
     ]
    },
    {
     "name": "stdout",
     "output_type": "stream",
     "text": [
      "Squid Game film na something wey don dey trend for inside social media for sometime now. Even if you neva watch di show, you fit don hear about am, or see all di challenges and memes wey di series don cause. Dis na as film streaming platform, Netflix don announce say e dey di running to beat Bridgerton as di most watched show for di platform. But di director say im no even dey tink about season two, as to think am alone dey tire am. While dat kain film genre (of deadly survival game), no dey new, di way e dey relatable with wetin many pipo for all ova di world dey go through na wetin make am blow. For Squid Game, dem gada 456 pipo wey dey owe gbese and no get anywia to find money (some even sign dia bodi give debtors), wey dem come carry enta dis survival game. Dem go play six games wey pikin dey play for one week, and if dem win all of dem, dem go win 45.6 billion Korean won ($39 million). Wahala come be if pesin lose, because if you lose, dem go kill you. Squid Game director Hwang Dong-hyuk tok for interview say, \"Pipo dey attracted with di place say adults wey no get hope again go risk dia lives for games wey pikin dem dey play.\" For pipo wey dey East Asia di games dey make dem remember dia childhood like Dalgona, wey be di honeycomb candy wey dem play for episode three na wetin Koreans sabi wella and di Red Light Green Light games from episode one dey popular even for Japan. Sabi pipo say di show bin dey popular cos e show how unfair life be for plenti pipo (one of di players na unemployed pesin wey be gambler, while anoda one na immigrant wey work sotay im lose two fingers, but dem no gree pay am). But wahala don also follow di hit series. With all di popularity, dis Korean series don get with im release, some gbas-gbos don comot because of di feem.\n"
     ]
    },
    {
     "name": "stderr",
     "output_type": "stream",
     "text": [
      "INFO:root:Successfully wrote story number 72\n"
     ]
    },
    {
     "name": "stdout",
     "output_type": "stream",
     "text": [
      "Music, dance, alcohol and good vibes dat na di mood of di last Saturday night party for Big Brother Naija house.   Di theme for di party according to Big Brother na 'champions party' and housemates no disappoint, Di ladies slay wit dia outfit and di guys look sharp too, as dem dance di night away. Dis na some of di highlights of di 'Shine Ya Eye' season party. All 20 housemates wey bin don chop eviction dis season come back di show for di Saturday night party wey happun inside di arena. Biggie divide di arena into two parts di evicted housemates bin dey one side while di finalist dey for anoda side. Although dem fit see each oda but dem bin no dey allowed to share informate. To get dia groove on, DJ Demola and DJ Embassy supply di music for di party. Dem play back to back hits for di housemates wey enjoy di gbedu wit dia different dance moves.   DJ Demola play for di first part of di night before DJ Embassy take ova for di second part. Dis season some ogbonge Nigeria DJ don show face for di Saturday night party. All di housemates look sharp wit di outfits for di Party. Yousef resemble Arabian prince wit im outfit. While Maria and Nini wear fine sequence dress. Na suit Yerins and Kayvee wear wit turtle neck shirts and Saskay wear one white dress. Most of di housemates bin dey dance wit each oda all night, but some of di guys no just send.  Queen na one of di pipo wey dance in front of di mirror throughout di party. Small drama bin happun for 'Emmarose' ship last night afta di party. Liquorose bin high afta di party. Emmanuel and Angel carry her go room to try calm her down. For inside di head of house room she start to cry and tell Emmanuel say she dey tired of falling in love because dem dey always break her heart. Emmanuel still stay inside di room wit her as she dey tok. Na on Sunday di show go end, wen di organiser go announce di winner from di six remaining housemates. Whitemoney, Liquorose, Pere, Cross, Angel and Emmanuel na di finalist for dis season. Afta 72 days, inside Biggie house one of dem go win di grand prize wey be N90million naira worth of prizes,  di biggest money any winner don get from di reality show since dem start am.\n"
     ]
    },
    {
     "name": "stderr",
     "output_type": "stream",
     "text": [
      "INFO:root:Successfully wrote story number 73\n"
     ]
    },
    {
     "name": "stdout",
     "output_type": "stream",
     "text": [
      "Nigerian singer and songwriter Tiwa Savage don reveal say pesin dey try blackmail her wit her short sex clip. She share dis totori for one radio show - The Angie Martinez show - for New York Power 105.1 fm. \"I no go call am sextape, but na video of me wit di pesin wey I dey see (date) right now\". For di interview, she tok say dem share video wit her wey show her wit di bobo wey she dey currently date. She come tok say di pesin wey get di video come dey blackmail her and dey ask for money. Wetin she tell her manager, afta she she share di video wit her be say: \"No, if I pay now, two months later di pesin go come back, or two years…or even if I send di money, you (di pesin) still fit go release di video\". Angie Martinez come ask say no part of Tiwa, wan pay di money? And she tok say, no, say she no wan pay any money. She tok say wetin dey her mind na say na maybe if her mama see am or if her son see am. \"I go wan tok to am (my son) about am, so dat e go get mind to handle am\". Tiwa tok say she no wan make di video overshadow her hardwork and music. Her message to her fans and pipo wey go wan support, she tok say: \"just make e go\". She also tok say di mata make her cry.\n"
     ]
    },
    {
     "name": "stderr",
     "output_type": "stream",
     "text": [
      "INFO:root:Successfully wrote story number 74\n"
     ]
    },
    {
     "name": "stdout",
     "output_type": "stream",
     "text": [
      "First runner up for Big Brother Naija Season 6, Liquorose don tok about her journey for di Big Brother Season six Shine Ya Eye house. For inside exclusive interview with BBC Pidgin, she follow tok on top her relationship with Emmanuel for di BBNaija house. \"Emmanuel na my big baby, abi I be im baby. E love me - me sef I say I love am. For di ship mata, breeze dey blow\". Na so Liquorose tok. Howeva, she tell her fans make dem calm down on top di ship mata so dat according to her, \"as Emma bin say e go spoil me wen we comot di house make we give am time to spoil me.\" Liquorose and Emmanuel bin dey di house till di final day of di show. For di show, dem bin dey close and get some kain relationship wey make fans begin ship dem togeda. She also reveal say she no connect with some of di housemates on top say she be shy pesin. She say, \"wetin many pipo no sabi about me be say I be very shy pesin, I no fit just waka meet somebodi start to dey tok with am\". She say na wetin fit don affect wey she no too dey close with di oda house mates as she bin spend most of her time with Maria and Emmanuel. For her fanbase mata, Liquorose reveal say dem dey go by two different names \"Liquor Lions and Rose Army\". She reveal say, \"wen dat tin happun with di stack of money, I no even know. Dem just tell me make I come downstairs come do interview, na im I come down , na im I see am.  Omo Rose Army dem no dey play oh.\" She tok about surprise her fans put inside. Anoda mata wey she tok about na her winnings on task for di Big Brother Naija House. Dis na as tori comot say na she win di most amount of money up to '20 million naira', on top all di tasks wey dem play for house. Liquorose reveal say she neva even calculate di money, but for every task, di mind wey she bin dey use to tackle am na say, \"enjoy di moment\". Liquorose wey be dancer one inside three of di GGB group tok say she bin audition three oda times before she get in for di fourth time. \"Na three times I don audition for Big Brother Naija, even di second time, e remain small make everytin click but e no work las-las\". She tok. As she don comot for di house now, di dancer say e get different tins she dey plan to do and one of dem na to go complete her degree wey 'sapa' bin no gree her finish. Oda plans wey Liquorose say she get na to \"reopen my saloon wey don shut down, also I wan do music as many pipo no sabi say na wetin join GGB toda\". She tok. You fit watch di full interview here.\n"
     ]
    },
    {
     "name": "stderr",
     "output_type": "stream",
     "text": [
      "INFO:root:Successfully wrote story number 75\n"
     ]
    },
    {
     "name": "stdout",
     "output_type": "stream",
     "text": [
      " Whitemoney don win di big brother Naija season 6 reality TV show afta 10 weeks inside di 'shine ya eye' house. Whitemoney wey im real name na Hazel Oyeye Onou beat ova 20 housemates wey participate for di sixth season of di show. E don be di 6th winner for di ogbonge show and join past winners like: Katung Aduwakwey win first edition for 2006, Efe Ejeba (2017), Miracle Ikechukwu (2018) and Mercy Eke (2019), Laycon 2020. Whitemoney dey go house wit di grand prize of 90 million naira. 29-year old Whitemoney come from Enugu state say e be businessman wey dey into import of shoes.  Multitalented Whitemoney describe imself as open-minded \"jolly good fellow\" wey like to catch fun. Whitemoney bin establish imself as a fave for di \"Shine Ya Eye\" House and one of im most endearing features na im kitchen presence.  Right from di first week of di Season, Whitemoney make am a duty to make sure imself and im fellow Housemates dey well fed. Whitemoney during im stay for di house tok a lot about im music career and im love for music.  E don always tok say BBNaija platform na very important platform to push im dreams and career. Whitemoney don walk away wit di ogbonge grand prize of N90m. Di N90m grand prize include N30m cash prize, cash in Abeg digital wallet, bitcoins courtesy Patricia, one two-bedroom apartment courtesy RevolutionPlus Property, a top of di range SUV from Nigerian automaker, Innoson Motors and a trip for two wey Travelbeta package. We eye still dey dis tori wey just land and we go bring una more as e dey comot. Make una load di page again to see di full tori.\n"
     ]
    },
    {
     "name": "stderr",
     "output_type": "stream",
     "text": [
      "INFO:root:Successfully wrote story number 76\n"
     ]
    },
    {
     "name": "stdout",
     "output_type": "stream",
     "text": [
      "BET Hip Hop Awards 2021 don end wit American rappers, Cardi B and Lil Baby as artists wey win pass. Di award show wey di organizers broadcast from di Cobb Energy Center on Tuesday for Atlanta see Cardi B go house wit three awards for \"WAP\" - wey also feature Megan Thee Stallion.  Di song collect di song of di year, best hip hop video, and best collaboration. Anoda rapper Lil Baby,  collect two award, hip hop artist of di year and best group (wit Lil Durk). Billboard, di organizer sey dem pre-record di award ceremony on Friday but dem air am on Tuesday night. Hip-Hop Album of di Year \"Call Me If You Get Lost\" - Tyler, di Creator Song of di Year Cardi B feat. Megan Thee Stallion - \"WAP\" Hip-Hop Artist of di Year Lil Baby Best Hip-Hop Video Cardi B feat. Megan Thee Stallion - \"WAP\" Best New Hip-Hop Artist Yung Bleu Best Collaboration Cardi B feat. Megan Thee Stallion - \"WAP\" Best Duo or Group Lil Baby & Lil Durk Best Live Performer Tyler, di Creator Lyricist of di Year J. Cole Best International Flow EST INTERNATIONAL FLOW Little Simz (U.K.) Video Director of di Year Missy Elliott DJ of di Year DJ Scheme Producer of di Year Hit-Boy Hustler of di Year Saweetie Best Hip-Hop Platform Genius Sweet 16: Best Featured Verse Jay-Z - \"What It Feels Like\" (Nipsey Hussle feat. Jay-Z) Impact Track Nipsey Hussle feat. Jay-Z -  \"What It Feels Like\" Billboard honour Nelly wit dis year I Am Hip-Hop award in recognition of e 20 years for di industry.  Tyler, di Creator also collect di Rock the Bells Cultural Influence award.\n"
     ]
    },
    {
     "name": "stderr",
     "output_type": "stream",
     "text": [
      "INFO:root:Successfully wrote story number 77\n"
     ]
    },
    {
     "name": "stdout",
     "output_type": "stream",
     "text": [
      "Brymo don come back with part two about di gbas-gbos between him and 2baba. For social post e announce say di African Queen singer bin use lawyer take threaten am to comot im post about am for social media or else dem go sue am for 1 billion naira. Dis dey come afta Brymo wey im real name na Olawale Ashimi, accuse di artiste wey im real name na Innocent Idibia say im knack im wife and also arrange pipo to beat am. Dis na part of rant wey im bin run for social media on Monday wia im also claim say oga Idibia tok say e: 2Baba manager, Efe Omoregbe don confam say 2baba legal pipo really send di letter give di \"Ara\" singer say im get 2 days to comot di posts wey dem call defamatory. For di letter, dem say di reason dem dey give am dat amount of time na sake of say, e \"bin dey inspired to yarn di nonsense sake of say e don tok before say e spend days to get high and womanize\". Howeva, on Thursday, Brymo respond to di letter say, im dey insist say all im tweets no be nonsense. Plenti pipo don ask, why Brymo wait till now to tok, but di singer say na because e no be di pesin wey fit siddon look. However, e say e no be because of any music collabo.\n"
     ]
    },
    {
     "name": "stderr",
     "output_type": "stream",
     "text": [
      "INFO:root:Successfully wrote story number 78\n"
     ]
    },
    {
     "name": "stdout",
     "output_type": "stream",
     "text": [
      "Whitemoney don win Big Brother Naija season six. Im beat Liquorose wey reach di last two stage through di way fans vote. Whitemoney wey im real name na Hazel Oyeye Onou score 47% of votes against Liquorose 22.99%. E don be di 6th winner for di ogbonge show and join past winners like: Katung Aduwakwey win first edition for 2006, Efe Ejeba (2017), Miracle Ikechukwu (2018) and Mercy Eke (2019), Laycon 2020. From wildcard to second runner up, Pere journey for Big Brother Naija house don end.  Im leave behind Whitemoney and Liquorose as di last man standing.  Pere use im eviction interview to declare im love again for Maria, but \"as a friend\". Pere tell Ebuka say im dey go into Nollywood now wey im don comot for di house. Cross also don say bye bye to di Big brother house as di number four man standing afta 10 weeks of intense competition, tasks plus fun. \"I dey too blessed!\" Cross tok as im bin think say im go make am to be top three housemate for di show. Cross tok say wetin dey next for am na to go into entertainment, business and politics. Before Pere and Cross comot, Emmanuel and Angel bin don chop eviction among di top six for di finale of BBNaija. Emmanuel tok afta im eviction say \"im dey surprised to make am dis far for di show.\" Im bin no expect am say im go make am till di final.  Angel say she feel great say she don finally dey out of di house as she bin don tire - she tok am jokingly.  Di second female housemate to reach di final add say she dey excited to be part of di show. Angel dey look forward to start mental health blog afta now. Dis season winner go walk away wit di ogbonge grand prize of N90m. Di N90m grand prize include N30m cash prize, cash in Abeg digital wallet, bitcoins courtesy Patricia, one two-bedroom apartment courtesy RevolutionPlus Property, a top of di range SUV from Nigerian automaker, Innoson Motors and a trip for two wey Travelbeta package.\n"
     ]
    },
    {
     "name": "stderr",
     "output_type": "stream",
     "text": [
      "INFO:root:Successfully wrote story number 79\n"
     ]
    },
    {
     "name": "stdout",
     "output_type": "stream",
     "text": [
      "One descendent of Russia Romanov monarchy, wey dem topple for di 1917 revolution, don marry in a lavish ceremony for St Petersburg. Grand Duke George Mikhailovich Romanov and im fiancée Rebecca Virginia Bettarini tie di knot on Friday. Foreign guests include Prince Rudolph and Princess Tilsim of Liechtenstein, and former Bulgarian royalty full ground. Oga Mikhailovich great-grandfather, Grand Duke Kirill Vladimirovich, bin run comot Russia during di Bolshevik revolution. Russian Orthodox clergy na im conduct di elaborate ceremony for Saint Isaac's cathedral. Di guest list of around 1,500 pipo include prominent names like Konstantin Malofeyev, one monarchist and billionaire wit close ties to di Kremlin, and Russian foreign ministry spokeswoman Maria Zakharova. Oga Romanov, wey be 40, study for Oxford but don spend di majority of im life for France. Im don work for di European Parliament and Russian mining giant, Norilsk Nickel. See fotos from di wedding:\n"
     ]
    },
    {
     "name": "stderr",
     "output_type": "stream",
     "text": [
      "INFO:root:Successfully wrote story number 80\n"
     ]
    },
    {
     "name": "stdout",
     "output_type": "stream",
     "text": [
      "Afta years of controversy, Japan Princess Mako, go marry her former classmate, one commoner, dis month - and she dey give up her royal status. Di Imperial Household Agency say dem don set di date for 26 October. Di couple bin initially wan wed for 2018, but dem cancel am based on reports say accounts say Mr Komuro family bin enta gbese- Financial trouble. Dem dey expected to move to di US- wia oga Komuro dey work as lawyer- afta dia marriage. Plenti media coverage around di princess - wey im papa be Crown Prince Fumihito - and Oga Komuro family over di years don cause di princess to suffer from post-traumatic stress disorder, di Imperial Household Agency said, according to news outlet Kyodo. Her aunty, Empress Masako, also suffer from one stress-related illness, afta she face plenti pressure to born boy wey go be heir. Di couple bin first meet for 2012 as students for di International Christian University for Tokyo. Dem bin engage for 2017 and bin dey ready to marry di following year. But news later comot of Oga Komuro mama financial problems - she bin reportedly take one loan from her ex-fiancé and she no pay am back. Di palace deny say dem get hand for di delay, even as Crown Prince Fumihito bin tok say e dey important for dem to resolve di money issues before dem go fit marry. From reports, Princess Mako no go collect traditional lump-sum payment of up to 150 million yen ($1.3m; £0.97m) wey dem dey typically give to member of di royal family as dem dey comot from di household. She go also skip di usual rites associated wit royal family wedding. If she skip both di payment and di rites e go make her di first female member of di royal family wey do like dis. Under Japanese law, female imperial family members go lose dia status if dem marry \"commoner\", but e no dey apply to male members.\n"
     ]
    },
    {
     "name": "stderr",
     "output_type": "stream",
     "text": [
      "INFO:root:Successfully wrote story number 81\n"
     ]
    },
    {
     "name": "stdout",
     "output_type": "stream",
     "text": [
      "Nigeria Popular cross-dresser, Bobrisky don tok sorry for wetin im bin tok against im 'former best friend' wey be di actress, Tonto Dikeh. For statement wey im put for social media, di social media influencer wey im real name na Idris Okuneye tok say \"I bin humiliate you here so I wan come tok sorry for her say I call you out\". She admit say Tonto Dikeh don help am sometime as im sef don help di actress. E reveal say dis no mean say dem go turn back to become friends. Dis na as dem don be friends for ten years before dia relationship scata. So far, Tonto Dikeh neva respond to di apology. Bobrisky bin don famously call Tonto Dikeh out say she borrow money from am. Bobrisky end di apology say \"to my fans and Tonto fans, I dey sorry say I don disappoint una, abeg forgive me and I promise I no go eva do am again.\" Dis present gbas-gbos bin start afta di relationship between Tonto Dikeh and Prince Kpokpogri bin end and Bobrisky start to dey throw shade to di actress. E reveal say Tonto bin make am dey abuse her ex-husband new wife, Rosy Meurer and say breakup don turn di actress to motivational speaker. She also tok say di way Tonto bin dey disgrace herself ova di breakup dey sweet am for belle. Bobrisky also don get quarrel with im former assistant Oye Kyme we tori be say cast am outside for Instagram, also accuse Bobrisky say im bin get relationship with businessman, Mompha. Di both of dem don deny di accuse and Mompha claim say Oge don apologise to am too.\n"
     ]
    },
    {
     "name": "stderr",
     "output_type": "stream",
     "text": [
      "INFO:root:Successfully wrote story number 82\n"
     ]
    },
    {
     "name": "stdout",
     "output_type": "stream",
     "text": [
      "Pere and Angel dey go back inside BBNaija house afta dem lay di 'Double Jeorpardy' game. Biggie make dis announcement as reward for di work dem put in during di 'Double Jeorpardy' game dem play. Dem bin get task to dismantle some sets of toy trucks and count di pieces.  At di end of di task. Angel bin get 56 parts why Pere get 54 parts just di required amount. Angel exceed with two parts. But Biggie say e decide to reward both of dem becos of dia hard work. Di two housemates later return to di hosue as di oda housemates, Emmanuel, Liquorose, Cross and Whitemoney bin shock to see dem. Biggie bin ask di housemates to do wetin di host Ebuka bin call di 'Double Jeorpardy' game wen dem see di green light go on for inside di white room dem bin put dem. Di game bin involve some toy trucks and machines dem pack put ontop one big toy truck.  Di task na for dem to dismantle am wen di light go on and di first to finish without breaking any part of di toy truck go win di game. Di winner of di game according to wetin biggie bin tok go get di chance to waka go back di house to continue di race for di 90 million naira with di oda four housemates for di last week of di show. Na Pere bin see di light go on in di afternoon first before e alert Angel and dem bin begin work to dismantle di toy trucks. Earlier on Sunday, Ebuka bin call Pere in front of di housemates say e chop eviction, but e later say e comot di house but not di show. E later call Angel as di second housemate to chop fake eviction from di show. Dis na di twist wey biggie bin warn about earlier on in di day. Afta di live eviction show, dem show Angel and Pere for di white room where biggie say dem go play a game wey go determine which one of dem go walk back into di house and which one go stay back. Internet bin don dey hot since Sunday evening as many pipo plus Pere fans and odas criticise di twist big brother bin bring come di game. Dis na as di voting charts bin show say Pere bin get more votes pass Angel. Di fans bin feel say no need to bring di twist come di game. On Monday, some Pere fans no gree hear di calm down statement wey im management bin release, dem still carry waka go DSTV head office dey halla we no go gree. Di fans bin wear different T-shirts wey dem write tins like \"Patriots for General and wey get Pere picture, etc. Meanwhile, Emmanuel win di Head of House game on Monday to become di last HoH for di season. As e be so, di top six na Emmanuel, Liquorose, Cross, Whitemoney, Pere and Angel. On Sunday go be di last day of di show and go determine who go go home with di grand prize of 90million naira.\n"
     ]
    },
    {
     "name": "stderr",
     "output_type": "stream",
     "text": [
      "INFO:root:Successfully wrote story number 83\n"
     ]
    },
    {
     "name": "stdout",
     "output_type": "stream",
     "text": [
      "Saga, Nini and Queen don chop eviction from Big Brother Naija house. Queen na di first housemate to dey evicted on Sunday before Nini follow and den Saga Earlier on, Ebuka bin call Pere in front of di housemates say e chop eviction, but e later say e comot di house but not di show. E later call Angel as di second housemate to chop fake eviction from di show. Dis na di twist wey biggie bin warn about earlier on in di day. Afta di live eviction show, dem show Angel and Pere for di white room where biggie say dem go play a game wey go determine which one of dem go walk back into di house and which one go stay back. Na six housemates bin dey up for possible eviction for di ninth week, White Money, Pere, Angel, Saga, Nini and Queen. Biggie put di two housemates inside di white room to play wetin Ebuka di host of di show call 'double jeopardy' game. Di game involve toy trucks and di housemates go need to assemble dem together.  Di first housemate to do so successfully go win di game and get di chance to waka go back inside di BBNaija house to continue di game for di last week. Dem go announce di winner on Monday. Dis na how di fans bin vote. Last week, Saskay and Yousef na im chop eviction from Big Brother Naija house to leave eight housemates left. Emmanuel wey win di ultimate veto power for di week afta one game dem play bin get immunity from nominations. Wit im power, e appoint Liquorose as Head of House and Cross as her deputy wey give dem immunity from nomination and assurance say dem go dey di house until di final week. Sunday eviction show go be di last eviction for di house before di finals. Earlier during di diary section, di housemates bin get mixed emotions but dem happy say dem make am up to di ninth week. Di ones wey dey up for eviction bin dey nervous as dem no sure wetin dia fate go be. During di diary session wit di housemates, Saga, Queen, Pere, Whitemoney, Nini and Angel tok how dem feel about di possible eviction. Saga say im dey super proud of imself because e believe say di platform go catapult am go places and give am exposure. Queen on her part say she dey fear, say if she comot di house dis night, e go pain her. Pere say im dey nervous as im no know if today na di end of di road for am for di game. Whitemoney say im get mixed feelings about di eviction and e go pain am if e gatz watch di finalist enjoy Biggie treats from house. Nini on her part tok say she sef dey nervous but she go choose to enjoy di day as e fit be her last day for di house. Angel tok say di eviction dey fear her, how her life go be afta di show.\n"
     ]
    },
    {
     "name": "stderr",
     "output_type": "stream",
     "text": [
      "INFO:root:Successfully wrote story number 84\n"
     ]
    },
    {
     "name": "stdout",
     "output_type": "stream",
     "text": [
      "Big Brother Naija Season six 'Shine Ya Eye' housemate, Pere Egbi don win brand new IVM Innoson motor. Big Brother give dis announcement afta Pere first di remaining five housemates wey participate for di Innoson vehicle motor challenge to complete di task. Dis challenge dey happun just five days before di end of di Big Brother Naija reality show. Di challenge wey happun on Tuesday, day 66 of di show involve one task wia di housemates need to fill one bucket with keys, dey call am di Iron Fisher challenge. For di game, dem hang six buckets with rope and ask di housemates to collect keys with one hook and put dem inside dia own buckets. Di first housemate wey im bucket fall because of di weight of di keys na im go win di car. As di game start, Whitemoney mistakenly hit im keys for di bucket and e come fall. Dis come make am lose out from di game. Di oda housemates still continue to fill dia buckets but Pere bucket na di first to fall sake of di weight of di stone. Biggie come declare Pere di winner and di housemates come open di brand new car wey dey decorated with balloons and ribbons. Dem go handover di brand new car give Pere afta di end of di reality show on October 3. Pere and Angel bin join di Big Brother Naija 'Shine Ya Eye' Finalist on Monday afta dem partake for di 'Double Jeorpardy' game wey involve di task to dismantle some sets of toy trucks and count di pieces. Di pesin wey come last among di two suppose evict di house but Biggie reward di efforts wey dem put and ask dem to return back to di house.\n"
     ]
    },
    {
     "name": "stderr",
     "output_type": "stream",
     "text": [
      "INFO:root:Successfully wrote story number 85\n"
     ]
    },
    {
     "name": "stdout",
     "output_type": "stream",
     "text": [
      "De death of Ghanaian highlife legend, Nana Ampadu at age 76 dey mark major loss to de music industry in de West African state.  On Tuesday September 28, 2021 family of de late Nana Ampadu reveal say he die on admission for de Intensive Care Unit of Legon Hospital.  Music enthusiasts claim say over de period of en career he compose over 800 songs, wey he produce some of de most popular highlife tracks in Ghana. Nana Ampadu form \"African Brothers Band\" in 1963 together wit another musical legend Eddie Donkor. By 1967, he shoot into de limelight after en release Ebi Te Yie which dey mean \"Some Dey Live Well Seated.\" Music lovers at de time claim say he release de song as criticism of de governing National Liberation Council at de time.  He subsequently leave de music scene after de end of military rule. In 1973 he win nationwide music competition wey dem crown am \"Singer-in-Chief\" for Ghana.  Despite en huge talent, de musician never shy away from politics which usually be controversial. He compose song about Jerry John Rawlings ahead of de 1992 general elections.  De campaign song which talk about de background of Rawlings as half-Scottish, Rawlings proved to win de first elections under de Fourth Republic of Ghana. He also join campaign platforms of de NPP in de later days of en life, predicting victory for incumbent President Nana Akufo-Addo.  Most songs wey Nana Ampadu write still dey remain classical Ghanaian tunes which dey form part of de culture and identity of de country. Some of en hit songs be popular Obra, which come turn theme song for one of popular Akan Drama shows aired on national TV. Others dey include Getty, Oman Bo Adwo, Ebi Te Yie, Kofi Nkrabea, Yaw Berko and Obi Benya Wo and more.\n"
     ]
    },
    {
     "name": "stderr",
     "output_type": "stream",
     "text": [
      "INFO:root:Successfully wrote story number 86\n"
     ]
    },
    {
     "name": "stdout",
     "output_type": "stream",
     "text": [
      "Popular Nigerian cross dresser, Idris Okuneye, popularly known as Bobrisky dey in di news for alleged gay relationship wit businessman, Ismaila Mustapha also known as Mompha. One former PA of di cross dresser, Oye Kyme bin recently enta social media to expose wetin many pipo don refer to as 'dirty secret' about Bobrisky Di Ivorian young lady bin hold one question and answer segment online and reveal so many things from how her former Boss look for real life to im sexual orientation. Wetin she tok na based on questions wey fans bin ask am. Oye confam say ex-boss be bald man wey dey use beauty products like foundation to cover im beards and wigs to cover im head.  She also allege say Bobrisky no undergo any cosmetic surgery as im bin popularly claim. Dem born Bobrisky as man but im dey identify im sef as woman. E dey dress like woman and call im sef woman and dis one don make plenti tok-tok full mata wey concern am. Wen question bin pop up on whether Bobrisky get girlfriend? Oye allege say Bob no get any female partner and say im dey intimate wit men.  Na there she later mention popular social media influencer, Mompha enta di mata. Di ex-PA say im bin don hear am from Bobrisky imself say im and Mompha dey in a relationship.  Afta di accusation, she don later deactivate her account. But we still fit lay our hands on some of her post from one local instagram blog Di business man bin first appear for one Instagram live wit Nigerian on Air personality, Ifedayo Olarinde Aka Daddy Freeze alongside Bobrisky to clear di air. For di interview, Mompha deny say im dey date di cross-dresser. Im tok say make anybody wit accusation follow come wit evidence. \"I bin dey on top plane from Nairobi to Dubai wen pipo begin dey buzz me dey accuse me say I be gay, I shock\" Wen Daddy Freeze ask am if im don meet Bobrisky before, Mompha say yes, im bin don meet am twice. \"Anytime I call Bob, na just for strictly business\", e add. Mompha say im dey suspect say some pipo bin dey behind di whole accusations wey Oye dey sama am. He also say im no get any evidence against Bob for slander, im no fit sue am. Oga Mompha later share some screenshot of im chat wit Oye for Instagram story, wia di lady claim say her accusations na based on  wetin Bobrisky bin tell am. She also tok sorry. Di cross-dresser also deny im ex-PA claim say im dey date Mompha. For di same interview wit popular OAP, Daddy Freeze, Bob say im dey para for di mata because no be di first time dis kain allegation don land dia two domot. \"Dis tin neva happun. But I suspect some pipo bin send dat girl to purposely come spoil my name\", im tok. \"Dis guy- referring to Mompha- dey married wit kids , we no fit be friends? \"If Mompha comment for my page, pipo go tok, If I also go im page to comment, na war. \"Di tin dey vex me and I don post for my page say me and Mompha na just friends.\", im tok. Bobrisky say dis no be di first or second time im don come online to debunk dis news. Gay relationships or suspected gay relationships no dey legal for Nigeria E dey carry jail sentence wit minimum of 14 years for offenders if court find such pesins guilty.\n"
     ]
    },
    {
     "name": "stderr",
     "output_type": "stream",
     "text": [
      "INFO:root:Successfully wrote story number 87\n"
     ]
    },
    {
     "name": "stdout",
     "output_type": "stream",
     "text": [
      "Dem don find US singer R Kelly guilty of running one scheme to use im fame to sexually abuse women and children over twenty years. Eleven accusers, nine women and two men, take di stand for inside di six-week trial to describe dia experience, sexual humiliation and violence for im hands. Afta two days dem chook eye for di mata, di jury find say Kelly dey guilty on all di charges e bin dey face. E dey due for sentencing on 4 May, and dey face plenty years behind bars. Prosecutors accuse Kelly, wey im full name na Robert Sylvester Kelly, of using im fame and fortune to lure im victims with promises to epp dia musical careers. Several of im victims testify say dem bin dey underage wen e sexually abuse dem. Dem also find am guilty of violating di Mann act, a law wey ban interstate sex trafficking. As dem read di verdict out for court, Kelly sit still for im desk, according to reporters. Im facial expression dey hidden by di face mask wey e dey required to wear sake of di judge pandemic rules. Di verdict dey come 13 years afta dem free Kelly of child pornography charges afta im trial for di state of Illinois. Many of di allegations first come out for di 2019 documentary Surviving R Kelly.\n"
     ]
    },
    {
     "name": "stderr",
     "output_type": "stream",
     "text": [
      "INFO:root:Successfully wrote story number 88\n"
     ]
    },
    {
     "name": "stdout",
     "output_type": "stream",
     "text": [
      "Fans of Nigeria biggest reality television show Big Brother Naija go on Sunday, October 3, 2021 find out di winner of di Shine Ya Eye season. Afta 72 days, wit plenty evictions and twists dis season, only one pesin go walk away wit di grand prize. Out of di 26 housemates wey bin enta Biggie house dis season na only six remain. Whitemoney, Liquorose, Pere, Cross, Angel and Emmanuel na di finalist for dis season. One of dis six housemates go become di winner of di Shine Ye Eye season. Big Brother na reality game show where a group of pipo go live inside one house without any access to di real world.  Di show dey use audio and visual devices to monitor di housemates 24-hours as dem dey compete for different tasks, nominations to survive elimination to stay for di house. Through fans votes, na im di organizers dey take decide who go stay for di house or go. For di finale na di same tin go happun, di housemates wit di highest votes from di fans go win di top prize. Dis na eviritin you need to know about di Big Brother 2021 final. According to di organizers of di show Multichoice Nigeria, di year final go happun on Sunday October 3. And e go dey live for Dstv channel 198, GOtv channel 29 (Channel 129 for Ghana and Channel 329 for Uganda). Di live eviction show go start by 7pm Nigerian time (8pm CAT) on Sunday on di 24/7 BBNaija channels - DStv channel 198 & GOtv channel 2. And na di host Ebuka Obi- Uchendu go present di show wit a host of musical performance from some ogbonge musicians for Nigeria. Also e dey possible say di organisers go bring in all di evicted housemates dis season but dat one dem neva confam am yet.  Dis season winner go walk away wit di ogbonge grand prize of N90m. Di N90m grand prize include N30m cash prize, cash in Abeg digital wallet, bitcoins courtesy Patricia, one two-bedroom apartment courtesy RevolutionPlus Property, a top of di range SUV from Nigerian automaker, Innoson Motors and a trip for two wey Travelbeta package.\n"
     ]
    },
    {
     "name": "stderr",
     "output_type": "stream",
     "text": [
      "INFO:root:Successfully wrote story number 89\n"
     ]
    },
    {
     "name": "stdout",
     "output_type": "stream",
     "text": [
      "Big Brother Naija housemate Nini secret task to exit from di Shine Ye Eye house don shake di house. Di tin hit her closest paddy for di show Saga di most, afta im find out say she dey miss. Saga and oda housemates bin search di whole house to find Nini but dem no see her. Saga no stop dia im knock di Diary Room door to see Big Brother before im camp outside dia. \"Where Nini, nah? Which kind tin be dis? Big Brother open door jor.\" Saga tok. Her fellow housemate Angel feel say dis Nini mata na voluntary exit, while Pere feel say dis na prank. As day break, di Nini mata still dey boda Saga well-well. Saga siddon outside di garden alone dey reason di whole mata again na dia im begin cry. Nini and Saga dey very close for inside di house, two of dem dey behave like couple even though Nini don make am clear say she get boyfriend outside. Last week, Big Brother bin give Saga secret task to quarrel wit Nini but im fail to execute di task instead im open up tell Nini about di secret mission During Nini Diary Session on Tuesday, Big Brother give her secret task to disappear from di house for 24 hours starting from midnight. For her exit, Biggie ask her to use di secret door by di Games lounge, and wait dia until di house asleep. Nini dey expected to spend di next 24 hours dia. While she dey di white room, she go get access to wetin dey happun for di house by watching one television. And den wen she return, she must act as if she dey di house all dis while. Di show host Ebuka Obi-Uchendu say: \"Dis tin remind me of wen LASTMA tow my car dat year. I enta supermarket come out start to find car. I check gutter like three times.\" And Emmy@ Girll_NextDoor say: \"Biggie please drop one faint voice of Nini say Saga help me.\"  Meanwhile Comr Favour Sammy say: \"Biggie please na Saga mental health oo... Em don dey knack diary room door for two hours now.\" While Emmacitadel comedy say: \"No be juju be that?.\" Yolanda Kondo say: \"Ohh please Biggie look as your son dey cry for im best friend.\" Dis week, six housemates dey up for possible eviction, Saga, Pere, Nini, Angel, Whitemoney and Queen. Di nominated housemates go know dia fate on Sunday during di live eviction show.\n"
     ]
    },
    {
     "name": "stderr",
     "output_type": "stream",
     "text": [
      "INFO:root:Successfully wrote story number 90\n"
     ]
    },
    {
     "name": "stdout",
     "output_type": "stream",
     "text": [
      "Willie Garson, di actor wey bin dey popular for playing talent agent Stanford Blatch for Sex and the City, don die at di age of 57, im son tok. For di hit HBO series, im play di role of close friend and confidante of Sarah Jessica Parker, Carrie Bradshaw. Most recently, im bin dey work on di spin-off series And Just Like That. Also for di TV series White Collar, Garson bin dey known as conman Mozzie. For now nobody know di cause of im death. Dem Born William Garson Paszamant for New Jersey for 1964, Garson bin study theatre and receive a masters of fine arts from Yale School of Drama. E come later den take up small roles for several popular television series for d 1980s, including Cheers, Family Ties and LA Law. Im also appear for some hit programmes of di 1990s like The X-Files, Boy Meets World and Friends. Na for 1998 dem drop Sex and the City and Garson appear throughout di seasons as Stanford Blatch, role wey e play for di franchise two films. Mario Cantone, wey bin play Garson on-screen partner Anthony Marentino for di series, bin write on Instagram say: \"I dey devastated and just overwhelmed wit sadness... You be gift from di gods.\" Meanwhile, Cynthia Nixon, wey bin play Miranda Hobbes for di series, say: \"All of us love am and bin dey happy to work wit am. E funny die for film and in real life… While di executive producer of Sex And The City and Just Like That, Michael Patrick King, say Garson bin dey work\" even wen im bin dey sick\", but no give details. \"Im spirit and im dedication to im work bin dey present every day,\" e tok for statement. \"Im gifts as an actor and pesin everyone go miss am.\" Im film credits include Groundhog Day, There's Something About Mary, and Fever Pitch. Garson na also a strong advocate for adoption and for 2009, im adopt im son Nathen, wey also share im tribute on Instagram. \"I dey glad say you get to share all your adventures wit me and you bin accomplish so much,\" e tok. \"I dey proud of you. I go always love you, but I feel say now na time for you to go on your own.\"\n"
     ]
    },
    {
     "name": "stderr",
     "output_type": "stream",
     "text": [
      "INFO:root:Successfully wrote story number 91\n"
     ]
    },
    {
     "name": "stdout",
     "output_type": "stream",
     "text": [
      "Big Brother Naija reality TV show organizers don reveal a rich list of di 2021 housemates. Dis list show di amount of money wey each of di \"Shine Ya Eyes\" housemates don earn so far for di TV reality. Biggie put togeda di total money and reward wey di housemates dey earn through different tasks. Dis money and gifts dey different from di real star prize. From Angel to Yerins, dis na money for all di housemates to get some change wen dem return to di outside world. Di star prize of Big Brother Naija TV reality na ninety million naira (N90,000,000) for di one lucky housemate wey go win di show. Di BBNaija na Nigeria biggest TV reality show and most housemates wey contest dey turn celebs for di kontri. Sponsors of di reality show, they bring money, travel opportunities and plenty gifts for housemates wey go win di different task and competitions dem set. Any team or individual housemate wey win di task go get di reward. For di day 55 for di house, Big Brother show di amount housemates don make so far. Out of di 26 housemates wey feature for di reality show dis season, 15 don chop eviction. Di five dey up for possible eviction dis week wey include Cross, Sasky, Yousef, Angel and Emmanuel. Di eviction go come up on Sunday, 19th September, 2021.\n"
     ]
    },
    {
     "name": "stderr",
     "output_type": "stream",
     "text": [
      "INFO:root:Successfully wrote story number 92\n"
     ]
    },
    {
     "name": "stdout",
     "output_type": "stream",
     "text": [
      "Nollywood actress Tonto Dike don call out her ex-lover Prince Kpokpogiri again for allegedly blackmailing her. Inside Instagram post to her 6.9 million followers, di popular actress say make prince sop dey run and present imsef to ansa for di allegations against am. \"Afa I listen to these leaked voice note between JOSEPH EGBRI(fake name Prince kpokpogri) and merit, I personally call off my relationship with a man I bin honestly LOVE.\" Now dis one no dey enough for blackmail and lies but e dey all good and great. Respectfully, All we dey ask na to come ansa to di law for your illegal recording and release of my private moments (A CRIME) wey happen months back before I actually respectfully end dis relationship, extortion(A CRIME), blackmail(A CRIME) amongst oda tins, allegations about you.\" She tok. Di actor end di post by asking her ex-lover to allow di law to operate. \"My darling JOSEPH EGBRI e go dey only fair enough for you to allow di law operate.. If dis na made up allegations you no need to fear, FOR A CLEAN HEART FEAR NOTHING.. But you need to stop running and face di consequences of your actions.\" Tonto tok. E no too tey afta Tonto post wey prince respond.  According to am, e hands dey clean and e also too bin genuinely love Tonto wen dem dey togeda.  \"My awesome T, like I call you Knowing you bin dey pleasurable. E go be a disservice to di institution called love if I say I regret knowing you as no be so. E fit be short memory but e go last a life time. Did I love you? Absolutely yes. For your weaknesses and vulnerability, I still love you and bin ready to walk you through the challenges of life.\" Kpokpogiri tok. Although Kpokpogiri no directly tok about di issue of di blackmail of Tonto, e add for im statement for im Instagram page say im hand dey clean and wetin cause dia break-up na anoda mata not di issue of di voice note. \"In our hurts, we do not burn bridges for we go always cross dem again. Na dis rule I dey live by all my life. Countless times, I complain to our mutual friends of how tired I dey of your heavy smoking and drinking. I make am clear say I go to walk away if e continue yet you never stop or make effort despite my willingness to stand by you till you gradually stop. Dis na wetin break us up and no be di voice note. I don live and dey live a clean life. No amount of blackmail fit pull me down.\" Prince tok. For July 2021, di actress bin officially confam say she dey in a relationship with Prince Kpokpogri. Di Nollywood actor tag Prince Kpokpogri inside social media post where she dey count her blessings and also refer to am as her 'husband'. She say \"I ADORE YOU @kpokpogri @kingandre_dikeh and all our kids. Thank you to MY HUSBAND.\" For di video she post for her verified Instagram handle, e show her and Prince Kpokpogiri for di graduation ceremony of her son, King Andre, di son she get wit her ex-husband Churchill Olakunle. Madam Tonto write say God don answer one of her secret prayers as e give her man wey stand wit her as her head and as a father to her son. She thank God for her new status as she declare say if \"happiness na pesin, e for be her.\" Tori of her new found love begin fly wen she celebrate di birthday of di man she claim say she dey in love wit, wit big cake and plenty gifts. Although she no mention name and she bin no post any foto for di post. Plenty pipo bin congratulate her and say dem happy for her. Prince Kpokpogri too enta social media to unveil Tonto Dike and e say she dey blessed among women, im don later delete di post. Prince Kpokpogiri come from Isoko, Delta state. Pipo bin no too know am till e come into limelight recently during im birthday for 27 June 2021 afta tori carry am say na im be di new man wey dey Tonto Dike life.\n"
     ]
    },
    {
     "name": "stderr",
     "output_type": "stream",
     "text": [
      "INFO:root:Successfully wrote story number 93\n"
     ]
    },
    {
     "name": "stdout",
     "output_type": "stream",
     "text": [
      "Nigerian artistes no carry last for di 2021 All Africa Music Awards nomination list. Dem gbab better nominate along wit other Africans Like Blaq Diamond, Focalistic, Diamond Platnumz and others. Di African Union Commission (AUC) and di International Committee of All Africa Music Awards (AFRIMA) release di  2021 nominations wi shortlist from over 8,880 songs wey dey submitted  plus features  of over 400 songs from artistes  for di 30 continental and 10 regional categories. Wizkid, song 'Essence'  wia e feature Tems, gbab  six nominations plus, Omah Lay gbab four nominations  Patoranking, and Davido gbab four nominations each  Burna Boy, Tems, Olakira, Vector, Tiwa Savage, and Bella Shmurda gbab three nominations each. Yemi Alade, Ladipoe, Di Isomers and Cavemen gbab two nominations each. Also from South Africa, Focalistic gbab seven nominations wit hit single, 'Ke Star' [Remix], wia e  feature Davido and Vigro Deep. Tanzania Diamond Platnumz  no come play as e gbab im own nominate wit  im album 'waah'  Na for there e feature Koffi Olomide, Aya Nakamura of French-Mali  Also  album 'Plus Jamais' wia e  feature Stormzy, Iba One of Mali. For 'Education, e feature Oumou Sangare, and Mozambique DJ Tarico. And for im hit song 'Yaba buluku'  e bin feature Burna Boy.  Preck  and Nelson Tivane, gbab five nominations each.  Davido and Patoranking of Nigeria, Fally Ipupa  of DRC Congo,  MHD of Guinea, and Rayvanny of Tanzania dey three nominations Category. Ghana Gyakie, Bella Shmurda, Olakira, and Burna boy of Nigeria, Nikita Kering of Kenya, Nata of Sierra Leone, Abir of  Morocco,   Calema of Sao Tome & Principe, Cassper Nyovest of South Africa,  DJ Moh Green of Algeria,  Djelykaba  Bintou of Guinea,  all dey three nominations group. Three nomination members never finish o Ditto Ferre Gola of DRC Congo, Gyakie of Ghana,  Lojay & Sarz; Makhadzi ,  Nasty C , Kamo Mphela  and  Kelly  Khumalo of South Africa, Loco of Cameroon,  Rebo of DR Congo, Tems , Tiwa Savage and Vector of Nigeria sef carry bodi. Shan'L of Gabon,  Tayc of Cameroon, Adekunle Gold, The Isomers and Cavemen of Nigeria, T'neeya of Cameroon,   Afrie of Uganda,  Solking of Algeria,  Ko-C of Cameroon, Salatiel & Rutshelle Guillaume of Cameroon,  Djodje of Cape  Verde,  Bensoul of Kenya, Blxckie of South Africa,  Franck Biyong of Cameroon, and Innoss'B of DR Congo all gbab two nominations. Also Kidi , Yaw Tog and of Ghana),  Ladipoe and Yemi Alade of Nigeria, Major League DJZ  of South Africa, Manal  of Morocco, Mapara A Jazz , Nomcebo Zikode  and Mi Casa of South Africa, Nandy of Tanzania,  Nelson Freitas of Cape Verde, Sauti Sol of Kenya, Toofan of Togo and Zuchu of Tanzania no carry last.  Di All Africa Music Awards (AFRIMA) events go happen for  Lagos between November 19-21, 2021.\n"
     ]
    },
    {
     "name": "stderr",
     "output_type": "stream",
     "text": [
      "INFO:root:Successfully wrote story number 94\n"
     ]
    },
    {
     "name": "stdout",
     "output_type": "stream",
     "text": [
      "Big Brother Naija housemate Nini don return back afta her secret task to exit di house for 24 hours. She enta di house for early mor-mor on Thursday and tori be say nobody for see her but Pere see wen she dey enta. E immediately alert Saga, di two of dem run go di bedroom and see her dey sleep for her bed. Di tori of Nini exit from di house be say Biggie, bin ask her to prank her housemates by exiting for 24 hours. Her return na big relief for Saga and di oda housemates wey bombard her wit many questions about wia she bin go. For di first time in 24 hours, Saga find im voice and laugh about di whole tin as im discuss Nini return mata wit Pere.  Nini absence been dey difficult for Saga. im bin cry about di mata for morning, and e really affect im mood di whole day. Im even go as far as hiding pictures of Nini wen Biggie bin ask di housemates to pack her tins go di storeroom. Now wey she dey return, Saga don get back im old self. E even claim say im know say na prank dat na why im bin no believe all di ideas wey di housemates bin dey tok say Nini na fake housemate or say she bin no fit handle di pressure again. Although Pere still dey insist say di Head of House Liquorose and Deputy Cross hand dey inside dis prank. E claim say dem bin know about di prank all dis while and na dem help make am happen. Even though Saga mind don come down, e claim say dis prank bin dey really painful and im go need help from psychologist to make sense of Nini absence.  According to am, di whole tin remind am of di time wen im mama die.  Saga add say Nini absence from di house na im worst nightmare. Wen Saga ask her about her whereabouts, Nini say she bin dey around and she no go anywhere. Even wen Queen and a few oda housemates come ova to her bedside, she no change mouth. Di whole tin come dey like she dey vex ontop dis wia she bin dey tok.  \"Why una dey behave somehow \" she tok? As she still insist say she dey here and she fine. She begin tell dem everything dem bin dey do wen she bin no dey around. She say she feel say di reason why Saga bin no dey tok na because dem bin fight.  Angel shock just dey look den she ask her wia she bin dey wen Biggie call her to di Diary room.  She tell her say she bin dey toilet. But Angel still no believe her, but sha tell her say she dey happy say she don come back from wia she go. Voting go end today by 9pm to save di six nominated housemates from possible eviction. Na Angel, Nini, Pere, Queen , Saga, and Whitemoney dey nominated for eviction dis Sunday.\n"
     ]
    },
    {
     "name": "stderr",
     "output_type": "stream",
     "text": [
      "INFO:root:Successfully wrote story number 95\n"
     ]
    },
    {
     "name": "stdout",
     "output_type": "stream",
     "text": [
      "Elon Musk say im don \"semi-separate\" from im partner, di Canadian pop artist Grimes. Di SpaceX and Tesla CEO confam im relationship status wit Grimes to tori pipo for Page Six. E say im and di Canadian singer dey \"semi-separated\" but remain on good terms and continue to co-parent dia 1-year-old son. Di couple begin date for 2018 and welcome dia first child, named X Æ A-Xii, for May last year.  \"We still love each other, see each other frequently and we dey on great terms,\" Musk tok. Grimes neva comment on di status of her relationship wit Oga Musk. Oga Musk say dem two intend to continue to dey co-parent dia child. \"E dey mostly say my work for SpaceX and Tesla make me dey primarily dey for Texas or travelling overseas Her work na primarily for LA,\" Oga Musk tell Page Six. \"She dey stay wit me now and Baby X dey di adjacent room.\" Di last time we see di pair together na earlier dis month wen dem dey leave di Met Gala .  Grimes bin waka di red carpet alone but her billionaire partner later join am inside di event.  Oga Musk bin previously marry one Canadian author Justine Wilson, and dem two get five sons: twins Griffin and Xavier, 17, and triplets Damian, Saxon and Kai, 15. Im also marry Westworld actress Talulah Riley two times. Dem first wed for 2010 but later divorce in 2012.  Dem later reconcile one year later and remarry for 2013, before divorcing again for 2016.\n"
     ]
    },
    {
     "name": "stderr",
     "output_type": "stream",
     "text": [
      "INFO:root:Successfully wrote story number 96\n"
     ]
    },
    {
     "name": "stdout",
     "output_type": "stream",
     "text": [
      "Hollywood stars don comot to show support to Linda Evangelista afta she reveal how cosmetic procedure 'permanently deform' her. Di popular Canadian supermodel bin share a post on Instagram wia she tok say bin get ogbonge reaction to one fat reduction procedure wey she undergo. Stars including Gwyneth Paltrow and stylist Karla Welch show dia support for di comments under Evangelista post, also designers like Jeremy Scott and Brandon Maxwell also comment. \"You are and always go be a supermodel, and now you don add super role model of courage to your ogbonge CV,\" na so Scott write for di comment. Gwyneth Paltrow bin respond to di post wit a red love heart emoji. Maxwell tok for post say: \"I don always recognise you as pesin wey dey physically beautiful, yes, but more importantly you don really shine bright from within...  For your darkest moments make you no never forget di light you don spark in so many, and continue to dey do.\" Her fellow model Karen Elson say: \"Sweet Linda. I love you dearly, you dey so brave and wonderful.\" Di 56-year-old reveal say she she experience one rare cosmetic side effect of di treatment five years ago wey actually increase her fat cells. \"Dis one don leave me, as di media go describe am, 'unrecognisable',\" she tell her 900,000 Instagram followers. Evangelista explain say dis na di reason she disappear from di public eye. Di Canadian model still say she don undergo \"two painful, unsuccessful, corrective surgeries\" afta di slimming procedure - wey dem dey call body contouring - wey don get opposite effect. \"To my followers wey don dey wonder why dem no dey see me working as my colleagues' careers dey boom, di reason na say I dey brutally disfigured by... [one procedure] wey do di opposite of wetin dem promise,\" Evangelista explain. She say di side effect she experience \"no be only say e destroy my livelihood, e don send me into one cycle of deep depression, serious sadness and di lowest depths of self-hatred. In di process I done become pesin wey dey keep to herself.\" For her social media post, di star say she want to tell her tori publicly in order to move on wit her life, and suggest say she go sue di company wey she tok say dey responsible.  Di company wey Evangelista claim say she use neva respond to BBC request for comment. \"I dey so tired of living dis way,\" she continue. \"I go like to walk out my door wit my head held high, even as I no dey look like myself again.\" Di non-surgical procedure, wey don grow in popularity in recent years, dey use cold temperatures to reduce fat deposits for certain areas of di body. Describing di \"very rare but serious side effect\",  Evangelista say e \"mean say di fat cells for di treatment site grow bigger rather dan smaller\",  She also add say she no understood how e take happun. Evangelista na Canadian model wey rise to fame in di 1990s as one of one group of supermodels wey enta limelight. She bin grace high-end catwalks around di world and di cover of leading fashion magazine Vogue. She also appear for one George Michael music video alongside Naomi Campbell, Cindy Crawford and Christy Turlington.  Di model bin keep a low profile in recent years, she no dey too post new fotos of herself on social media. For di few fotos she don post, she go partially cover her face wit scarf or hat.\n"
     ]
    },
    {
     "name": "stderr",
     "output_type": "stream",
     "text": [
      "INFO:root:Successfully wrote story number 97\n"
     ]
    },
    {
     "name": "stdout",
     "output_type": "stream",
     "text": [
      "Di brightest stars in television gada for Los Angeles, United State of America on Sunday for di 73rd annual Primetime Emmy Awards. Netflix feem na im dominate di Emmy Awards, dia drama series The Crown and another film, titled The Queen's Gambit each win eleven awards Apple comedy Ted Lasso na also big winners too. Here na rundown of how e waka; Many nominees show face for di red carpet in person afta last year event most of dem appear virtually. While plenti of di  A-list nominees appear for di ceremony inside LA, some of di British talent appear from London. Here na round-up of di most eye-catching suits and dresses wey show face for di Sunday Emmy Awards. Anya Taylor-Joy feature for Netflix chess drama The Queen's Gambit, wey win best limited series. Emerald Fennell, dey nominated for her portrayal of di Duchess of Cornwall for The Crown, na one of di British nominees wey attend di Emmys London base. Di stars of RuPaul's Drag Race, including RuPaul imself (second left), collect di prize for outstanding reality competition series. Michael Douglas, wey dem nominate for best comedy actor for e performance for di Kominskey Method, waka di red carpet with im wife, actress Catherine Zeta-Jones. Kenan Thompson dey nominated for both lead comedy actor and supporting comedy actor - for Kenan and Saturday Night Live respectively. Schitt Creek sweep di Emmys last year, but dia stars no dey  able to attend di Los Angeles ceremony. Dis year, Eugene and Dan Levy dey there in pesin and present one award later for night with co-stars Catherine O'Hara and Annie Murphy. Comedian and actor Cedric di Entertainer host di ceremony for Los Angeles. Kaley Cuoco, wey dey known for featuring in The Big Bang Theory, dey nominated for best comedy actress for her performance for di Flight Attendant. British actress Cynthia Erivo, wey play Aretha Franklin for di series Genius: Aretha, dey nominated for best lead actress in a limited series. Jason Sudeikis, wey play di titular role in Ted Lasso, win di award for best comedy actor. Mare of Easttown star Kate Winslet take home di prize for best actress in a limited series. Di Crown star Josh O'Connor win di award for best lead actor in a drama series for im portrayal of Prince Charles. Gillian Anderson, take home best supporting drama actress for playing Margaret Thatcher for The Crown, and attend di ceremony London hub ondi Strand. British actress Emma Corrin, wey play Princess Diana, na one of di only stars of The Crown to go home empty handed. Billy Porter dey nominated for lead drama actor for im performance in Pose, wey also dey recognise for di best drama series category. Comic actor Seth Rogen present di first prize of di night - comedy supporting actress, wey go to Ted Lasso star Hannah Waddingham. Olivia Colman dey named as best drama actress for her portrayal of Queen Elizabeth II for The Crown. She also attend di Emmys from London.\n"
     ]
    },
    {
     "name": "stderr",
     "output_type": "stream",
     "text": [
      "INFO:root:Successfully wrote story number 98\n"
     ]
    },
    {
     "name": "stdout",
     "output_type": "stream",
     "text": [
      "Fans of Big Brother Naija reality television show don react to Sunday eviction wey see Yousef and Sasky leave di Shine Ya House game. Tori be say five housemates bin dey up for possible eviction on Sunday dem be, Cross, Emmanuel, Yousef, Sakay and Angel. Di fans save Cross, Emmanuel and Angel. Yousef and Saskay na di fifteenth and sixteenth housemates to chop eviction dis season. Afta dem get di least amount of votes from di fans of di show. But some fans no dey happy say Angel avoid eviction yesterday. Na Yousef first comot from di house afta di host Ebuka Obi Uchendu tell am to leave di house As him join Ebuka on stage, Yousef say im no dey disappointed about im eviction. Rather im dey, grateful say im make to di house till dis moment. Im describe im stay for di game as \"just sliding through\" and add say e enjoy himself wella. For im future plans Yousef tell Ebuka say im dey look forward to endorsements and acting movies. Afta Yousef Saskay na di next to leave di house. Dis na wetin she tok about her eviction, she say she tire for di whole reality TV show experience She tell Ebuka say Jaypaul spoil her for di House and so she bin miss am wella wen him comot. Kelebogile Chauke say \"Bigbrother don teach me neva to trust pipo, una say Sasky and Yousef get big fanbase chai.\" For Nayiga Mariam Ndibulungi e tok say \"di show dey scripted, una don dey save Saga now Angel but evict Maria. Hmm\" Meanwhile Kgothatso G Malwaeba say \"seeing di poll una wish say Biggie evict 3 pipo abi? E choke Angel stays.\" While Ifunaya say \"Ojoro dey dis poll. Dem replace Sasky wit Angel.\" Pat Amanda say \"who vote for Angel .\" Na nine housemates remain for di house to compete for di star prize of wey be ninety million naira (N90,000,000) for di one lucky housemate wey go win di show. On Monday 20 September 2021, na nomination and head of house games. Di housemates go nominate each oda for possible eviction on Sunday. Di housemates wey get di highest number of votes go dey up. While pesin wey win di head of house games go get automatic immunity from eviction. But Biggie fit change di game at anytime. Fans need to watch di nomination show to find out if him go introduce any new twist.\n"
     ]
    },
    {
     "name": "stderr",
     "output_type": "stream",
     "text": [
      "INFO:root:Successfully wrote story number 99\n"
     ]
    },
    {
     "name": "stdout",
     "output_type": "stream",
     "text": [
      "Di versatile Ivorian Laetitia Ky break Guinness World Record of pesin wey fit skip fastest wit im own hair in 30 seconds. Guinness World Records, on Thursday reveal di latest record breakers for year 2022 edition of di popular book. As usual, di annual publication feature pipo from ogbonge categories. From dog and cat wey fit ride scooter faster, to di world tallest teenager, pesin wey fit run pass on im hands, Pesin wey fit skip wit im own hair in 30secs and many odas. Di hairstyles Laetitia create fit take from 20 minutes up to 3 hours to finish and na different kind of style and leghts. Di 25-year-old Laetitia bin skip a rope wey she make out of her hair for 30 seconds.   She bin combine her hair-sculpting abilities plus athletic skills, and wit di help of extensions braided wit her natural hair, Laetitia Ky dey potry herself as a feminist artist wey dey create sculptures from her hair. She come from Abidjan, Ivory Coast. Inspired by di pre-colonial tradition of women for African culture. Laetitia hair-tistry dey vary across a series of different styles, lengths and difficulties. She  dey call her style di Ky Concept. She dey use her hair art support many movement, like di famous Black lives Matter and so on. In 2019, Ky bin create one new piece wey she show one uterus wit each Fallopian tube 'flipping the bird' at di viewer to protest di USA anti-abortion law. Ky is seen by many as ambassador for natural hair for African women In 2018 dem select her as one of the top twenty young pipo for On di Rise Côte d'Ivoire,  one programme run by L'Association des Conseils en Lobbying et Affaires Publiques de Côte d'Ivoire. For di same year she bin gbab vote as one of di Prix Jeunesse Francophone 3535's thirty-five influential young people for di French-speaking world. Di following year, Paper magazine, select her as one of di top '100 People Taking Over 2019 At di end of di year, dem award am contract as a result of di Elite Model competition social media category, in partnership wit TikTok.\n"
     ]
    },
    {
     "name": "stderr",
     "output_type": "stream",
     "text": [
      "INFO:root:Successfully wrote story number 100\n",
      "INFO:root:Requested total number of articles 100 reached\n",
      "INFO:root:Scraping done. A total of 100 articles were scraped!\n"
     ]
    },
    {
     "name": "stdout",
     "output_type": "stream",
     "text": [
      "Saskay and Yousef chop eviction on Sunday night from Big Brother Naija \"Shine Ya Eye\" TV reality show. Saskay and Yousef fall out as di first two housemates to be evicted for di night. Angel, Cross and Emmanuel also dey nominated for possible eviction from Big Brother Naija season six for di night. At least one or two if not three of these five housemates fit comot from di \"Shine Ya Eye\" edition on Sunday 19 September, 2021. Housemates wey survive Ebuka Uchendu live eviction show on Sunday night go still get chance to win di 90 million naira [about $218,596USD] star prize. As 29-year-old Yousef step out of di house, e tell Ebuka for di live show say im dey eye to do movies afta spending eight weeks for di TV reality. Saskay on her part reveal to Ebuka say she don already taya for di TV reality show. Di 22-year-old say setting up a retirement home for old pipo and her lip-gloss brand na im dey her mind after di show. Shortly after di live eviction show, Angel hala on her own say she surprise say pipo vote for her to remain. Angel hail her papa say if na so, him wey be PR pesin dey do a great job. Di BBNaija na Nigeria biggest TV reality show and most housemates wey contest dey turn celebs for di kontri. Angel, Cross and Emmanuel survive Sunday eviction las las.\n"
     ]
    }
   ],
   "source": [
    "# TODO: Based on this block, complete `get_parser`\n",
    "if __name__ == \"__main__\":\n",
    "\n",
    "    logging.info(\"--------------------------------------\")\n",
    "    logging.info(\"Starting scraping...\")\n",
    "    logging.info(\"--------------------------------------\")\n",
    "\n",
    "    # initialize parser\n",
    "    parser = get_parser()\n",
    "    params, unknown = parser.parse_known_args()\n",
    "\n",
    "    # specify categories to scrape\n",
    "    if params.categories != \"all\":\n",
    "        categories = params.categories.upper().split(\",\")\n",
    "#        categories = {category: ALL_CATEGORIES[category] for category in categories}\n",
    "        for category in categories:\n",
    "            categories=ALL_CATEGORIES\n",
    "    else:\n",
    "        categories = ALL_CATEGORIES[category]\n",
    "\n",
    "    # get urls\n",
    "    category_urls = {}\n",
    "    for category, url in categories.items():\n",
    "        logging.info(f\"Getting all stories for {category}...\")\n",
    "        category_story_links = get_urls(url, category, params.time_delay)\n",
    "        logging.info(f\"{len(category_story_links)} stories found for {category} category\")\n",
    "        category_urls[category] = category_story_links\n",
    "    # scrape and write to file\n",
    "    scrape(params.output_file_name, params.no_of_articles, category_urls, params.time_delay)"
   ]
  }
 ],
 "metadata": {
  "kernelspec": {
   "display_name": "Python 3",
   "language": "python",
   "name": "python3"
  },
  "language_info": {
   "codemirror_mode": {
    "name": "ipython",
    "version": 3
   },
   "file_extension": ".py",
   "mimetype": "text/x-python",
   "name": "python",
   "nbconvert_exporter": "python",
   "pygments_lexer": "ipython3",
   "version": "3.7.4"
  }
 },
 "nbformat": 4,
 "nbformat_minor": 2
}
